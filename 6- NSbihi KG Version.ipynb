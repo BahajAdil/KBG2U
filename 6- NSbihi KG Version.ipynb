{
 "cells": [
  {
   "cell_type": "code",
   "execution_count": 4,
   "id": "f229441f",
   "metadata": {},
   "outputs": [],
   "source": [
    "import pandas as pd\n",
    "from os.path import join"
   ]
  },
  {
   "cell_type": "code",
   "execution_count": 5,
   "id": "cb7447eb",
   "metadata": {},
   "outputs": [],
   "source": [
    "can_triples = pd.read_csv(join('all_triples', 'all_data_triples_can.csv'), compression = 'gzip')"
   ]
  },
  {
   "cell_type": "code",
   "execution_count": 6,
   "id": "808e5650",
   "metadata": {},
   "outputs": [
    {
     "data": {
      "text/html": [
       "<div>\n",
       "<style scoped>\n",
       "    .dataframe tbody tr th:only-of-type {\n",
       "        vertical-align: middle;\n",
       "    }\n",
       "\n",
       "    .dataframe tbody tr th {\n",
       "        vertical-align: top;\n",
       "    }\n",
       "\n",
       "    .dataframe thead th {\n",
       "        text-align: right;\n",
       "    }\n",
       "</style>\n",
       "<table border=\"1\" class=\"dataframe\">\n",
       "  <thead>\n",
       "    <tr style=\"text-align: right;\">\n",
       "      <th></th>\n",
       "      <th>PREDICATE</th>\n",
       "      <th>ORIGIN_ID</th>\n",
       "      <th>SUBJECT_CUI</th>\n",
       "      <th>OBJECT_CUI</th>\n",
       "    </tr>\n",
       "  </thead>\n",
       "  <tbody>\n",
       "    <tr>\n",
       "      <th>0</th>\n",
       "      <td>PROCESS_OF</td>\n",
       "      <td>0</td>\n",
       "      <td>C0003725</td>\n",
       "      <td>C0999630</td>\n",
       "    </tr>\n",
       "    <tr>\n",
       "      <th>1</th>\n",
       "      <td>ISA</td>\n",
       "      <td>1</td>\n",
       "      <td>C0039258</td>\n",
       "      <td>C0446169</td>\n",
       "    </tr>\n",
       "    <tr>\n",
       "      <th>2</th>\n",
       "      <td>ISA</td>\n",
       "      <td>2</td>\n",
       "      <td>C0318627</td>\n",
       "      <td>C0206590</td>\n",
       "    </tr>\n",
       "    <tr>\n",
       "      <th>3</th>\n",
       "      <td>ISA</td>\n",
       "      <td>3</td>\n",
       "      <td>C0446169</td>\n",
       "      <td>C0003725</td>\n",
       "    </tr>\n",
       "    <tr>\n",
       "      <th>4</th>\n",
       "      <td>PROCESS_OF</td>\n",
       "      <td>4</td>\n",
       "      <td>C0012634</td>\n",
       "      <td>C0020114</td>\n",
       "    </tr>\n",
       "  </tbody>\n",
       "</table>\n",
       "</div>"
      ],
      "text/plain": [
       "    PREDICATE  ORIGIN_ID SUBJECT_CUI OBJECT_CUI\n",
       "0  PROCESS_OF          0    C0003725   C0999630\n",
       "1         ISA          1    C0039258   C0446169\n",
       "2         ISA          2    C0318627   C0206590\n",
       "3         ISA          3    C0446169   C0003725\n",
       "4  PROCESS_OF          4    C0012634   C0020114"
      ]
     },
     "execution_count": 6,
     "metadata": {},
     "output_type": "execute_result"
    }
   ],
   "source": [
    "can_triples.head()"
   ]
  },
  {
   "cell_type": "code",
   "execution_count": null,
   "id": "7d34ca52",
   "metadata": {},
   "outputs": [],
   "source": []
  }
 ],
 "metadata": {
  "kernelspec": {
   "display_name": "Python 3 (ipykernel)",
   "language": "python",
   "name": "python3"
  },
  "language_info": {
   "codemirror_mode": {
    "name": "ipython",
    "version": 3
   },
   "file_extension": ".py",
   "mimetype": "text/x-python",
   "name": "python",
   "nbconvert_exporter": "python",
   "pygments_lexer": "ipython3",
   "version": "3.8.13"
  }
 },
 "nbformat": 4,
 "nbformat_minor": 5
}
