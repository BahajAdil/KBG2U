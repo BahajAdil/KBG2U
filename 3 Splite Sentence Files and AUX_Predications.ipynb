{
 "cells": [
  {
   "cell_type": "code",
   "execution_count": 1,
   "id": "57db6c37",
   "metadata": {},
   "outputs": [],
   "source": [
    "# the objective is to splite sentence files and aux_predications into multiple files\n",
    "# each file needs to contains only sentences and aux_preds of the same triple\n",
    "import pandas as pd\n",
    "from glob import glob\n",
    "from os.path import join\n",
    "import gc\n",
    "import gzip\n",
    "from csv import reader\n",
    "from collections import Counter\n",
    "import os\n",
    "from tqdm.notebook import tqdm\n",
    "\n",
    "PREDICATION_COLS = [\n",
    "    'PREDICATION_ID', 'SENTENCE_ID', 'PMID', 'PREDICATE', \n",
    "    'SUBJECT_CUI', 'SUBJECT_NAME', 'SUBJECT_SEMTYPE', 'SUBJECT_NOVELTY', 'OBJECT_CUI',\n",
    "    'OBJECT_NAME', 'OBJECT_SEMTYPE', 'OBJECT_NOVELTY', 'Nan1', 'Nan2', 'Nan3']\n",
    "SENTENCE_COLS = ['SENTENCE_ID','PMID','TYPE','NUMBER','SENT_START_INDEX','SENTENCE',\n",
    "                 'SENT_END_INDEX','NORMALIZED_SECTION_HEADER','SECTION_HEADER']\n",
    "CITATIONS_COLS = ['PMID','ISSN','DP','EDAT','PYEAR']\n",
    "\n",
    "PREDICATION_DIR = 'PREDICATION'\n",
    "SENTENCE_DIR = 'SENTENCE'\n",
    "\n",
    "TRIPLES_DIR = 'all_triples'\n",
    "TRIP_SENT_DIR = 'TRIPLE_SENTENCES'\n",
    "CITATIONS_DIR = 'CITATIONS'"
   ]
  },
  {
   "cell_type": "code",
   "execution_count": 4,
   "id": "5b590c8b",
   "metadata": {},
   "outputs": [],
   "source": [
    "def collect_garbage():\n",
    "    print(gc.get_count())\n",
    "    gc.collect()\n",
    "    print(gc.get_count())\n"
   ]
  },
  {
   "cell_type": "code",
   "execution_count": 5,
   "id": "6843af2c",
   "metadata": {},
   "outputs": [
    {
     "name": "stdout",
     "output_type": "stream",
     "text": [
      "(182, 0, 0)\n",
      "(18, 0, 0)\n"
     ]
    }
   ],
   "source": [
    "collect_garbage()"
   ]
  },
  {
   "cell_type": "code",
   "execution_count": 3,
   "id": "19538bf3",
   "metadata": {},
   "outputs": [],
   "source": [
    "or_preds = pd.read_csv(join(TRIPLES_DIR,'origin_predication.csv'), compression = 'gzip')"
   ]
  },
  {
   "cell_type": "code",
   "execution_count": 5,
   "id": "22427872",
   "metadata": {},
   "outputs": [
    {
     "data": {
      "text/plain": [
       "(115525919, 3)"
      ]
     },
     "execution_count": 5,
     "metadata": {},
     "output_type": "execute_result"
    }
   ],
   "source": [
    "or_preds.shape"
   ]
  },
  {
   "cell_type": "code",
   "execution_count": 6,
   "id": "871d7c6b",
   "metadata": {},
   "outputs": [
    {
     "data": {
      "text/plain": [
       "(115525919, 3)"
      ]
     },
     "execution_count": 6,
     "metadata": {},
     "output_type": "execute_result"
    }
   ],
   "source": [
    "or_preds.drop_duplicates().shape"
   ]
  },
  {
   "cell_type": "code",
   "execution_count": 23,
   "id": "df163449",
   "metadata": {},
   "outputs": [],
   "source": [
    "def manual_separation(bad_line):\n",
    "    good_1 = bad_line[:5]\n",
    "    good_2 = bad_line[-3:]\n",
    "    sent_parts = bad_line[5:-3]\n",
    "    sent_parts = [', '.join(sent_parts)]\n",
    "    all_data = good_1+ sent_parts + good_2\n",
    "    return all_data\n",
    "\n",
    "def get_triple_sentences(groups_save):\n",
    "    all_files = sorted(glob(join(SENTENCE_DIR,'*.gz')))\n",
    "    print(len(all_files))\n",
    "    for fil in tqdm(all_files):\n",
    "        df = pd.read_csv(fil, on_bad_lines=manual_separation,\n",
    "                 compression= 'gzip', encoding='ISO-8859-1', header=None, names = SENTENCE_COLS, engine='python'\n",
    "                        )\n",
    "        df = pd.merge(or_preds,df,on='SENTENCE_ID')\n",
    "        for name, group in df.groupby('ORIGIN_ID'):\n",
    "            group_dir = str(name)\n",
    "            if not os.path.exists(join(groups_save,group_dir)):\n",
    "                os.mkdir(join(groups_save,group_dir))\n",
    "            num_files = len(glob(join(groups_save,group_dir,'*')))\n",
    "            save_file = str(num_files + 1)+'.csv'\n",
    "#             print('*'*15,name)\n",
    "#             print('num_files:',num_files)\n",
    "#             print(group)\n",
    "            \n",
    "            group.to_csv(join(groups_save,group_dir,save_file), compression = 'gzip')\n",
    "\n",
    "def map_sentences_2_files():\n",
    "    all_files = sorted(glob(join(SENTENCE_DIR,'*.gz')))\n",
    "    all_res = []\n",
    "    for fil in tqdm(all_files):\n",
    "        f_name = fil.split('/')[-1].split('.')[0]\n",
    "        df = pd.read_csv(fil, on_bad_lines=manual_separation,\n",
    "                 compression= 'gzip', encoding='ISO-8859-1', header=None, names = SENTENCE_COLS, engine='python'\n",
    "        )\n",
    "        df['f_name'] = f_name\n",
    "        all_res.append(df[['f_name', 'SENTENCE_ID']])\n",
    "    return pd.concat(all_res, ignore_index=False)"
   ]
  },
  {
   "cell_type": "code",
   "execution_count": 24,
   "id": "1fbadf7d",
   "metadata": {},
   "outputs": [
    {
     "data": {
      "application/vnd.jupyter.widget-view+json": {
       "model_id": "db635cd07b3047d2b10e3a93caea5f24",
       "version_major": 2,
       "version_minor": 0
      },
      "text/plain": [
       "  0%|          | 0/87 [00:00<?, ?it/s]"
      ]
     },
     "metadata": {},
     "output_type": "display_data"
    }
   ],
   "source": [
    "sent_file_map = map_sentences_2_files()"
   ]
  },
  {
   "cell_type": "code",
   "execution_count": 27,
   "id": "9e01d5cc",
   "metadata": {},
   "outputs": [],
   "source": [
    "sent_file_map.to_csv(join(TRIPLES_DIR, 'sentence_index.csv'), index = False, compression = 'gzip')"
   ]
  },
  {
   "cell_type": "code",
   "execution_count": 28,
   "id": "d428c13d",
   "metadata": {},
   "outputs": [],
   "source": [
    "#test_ = get_triple_sentences(TRIP_SENT_DIR)"
   ]
  },
  {
   "cell_type": "code",
   "execution_count": 190,
   "id": "94816737",
   "metadata": {},
   "outputs": [
    {
     "data": {
      "text/html": [
       "<div>\n",
       "<style scoped>\n",
       "    .dataframe tbody tr th:only-of-type {\n",
       "        vertical-align: middle;\n",
       "    }\n",
       "\n",
       "    .dataframe tbody tr th {\n",
       "        vertical-align: top;\n",
       "    }\n",
       "\n",
       "    .dataframe thead th {\n",
       "        text-align: right;\n",
       "    }\n",
       "</style>\n",
       "<table border=\"1\" class=\"dataframe\">\n",
       "  <thead>\n",
       "    <tr style=\"text-align: right;\">\n",
       "      <th></th>\n",
       "      <th>SENTENCE_ID</th>\n",
       "      <th>PMID</th>\n",
       "      <th>TYPE</th>\n",
       "      <th>NUMBER</th>\n",
       "      <th>SENT_START_INDEX</th>\n",
       "      <th>SENTENCE</th>\n",
       "      <th>SENT_END_INDEX</th>\n",
       "      <th>NORMALIZED_SECTION_HEADER</th>\n",
       "      <th>SECTION_HEADER</th>\n",
       "    </tr>\n",
       "  </thead>\n",
       "  <tbody>\n",
       "    <tr>\n",
       "      <th>0</th>\n",
       "      <td>6</td>\n",
       "      <td>16530473</td>\n",
       "      <td>ti</td>\n",
       "      <td>1</td>\n",
       "      <td>21</td>\n",
       "      <td>Fluoride-selective colorimetric sensor based o...</td>\n",
       "      <td>119</td>\n",
       "      <td>NaN</td>\n",
       "      <td>NaN</td>\n",
       "    </tr>\n",
       "    <tr>\n",
       "      <th>1</th>\n",
       "      <td>7</td>\n",
       "      <td>16530473</td>\n",
       "      <td>ab</td>\n",
       "      <td>1</td>\n",
       "      <td>125</td>\n",
       "      <td>A structurally simple colorimetric sensor, N-4...</td>\n",
       "      <td>302</td>\n",
       "      <td>NaN</td>\n",
       "      <td>NaN</td>\n",
       "    </tr>\n",
       "    <tr>\n",
       "      <th>2</th>\n",
       "      <td>8</td>\n",
       "      <td>16530473</td>\n",
       "      <td>ab</td>\n",
       "      <td>2</td>\n",
       "      <td>302</td>\n",
       "      <td>In acetonitrile, the addition of F(-) changed ...</td>\n",
       "      <td>385</td>\n",
       "      <td>NaN</td>\n",
       "      <td>NaN</td>\n",
       "    </tr>\n",
       "    <tr>\n",
       "      <th>3</th>\n",
       "      <td>9</td>\n",
       "      <td>16530473</td>\n",
       "      <td>ab</td>\n",
       "      <td>3</td>\n",
       "      <td>385</td>\n",
       "      <td>In the presence of other anions such as CH(3)C...</td>\n",
       "      <td>578</td>\n",
       "      <td>NaN</td>\n",
       "      <td>NaN</td>\n",
       "    </tr>\n",
       "    <tr>\n",
       "      <th>4</th>\n",
       "      <td>10</td>\n",
       "      <td>16530473</td>\n",
       "      <td>ab</td>\n",
       "      <td>4</td>\n",
       "      <td>578</td>\n",
       "      <td>The association constants of anionic complexes...</td>\n",
       "      <td>757</td>\n",
       "      <td>NaN</td>\n",
       "      <td>NaN</td>\n",
       "    </tr>\n",
       "    <tr>\n",
       "      <th>...</th>\n",
       "      <td>...</td>\n",
       "      <td>...</td>\n",
       "      <td>...</td>\n",
       "      <td>...</td>\n",
       "      <td>...</td>\n",
       "      <td>...</td>\n",
       "      <td>...</td>\n",
       "      <td>...</td>\n",
       "      <td>...</td>\n",
       "    </tr>\n",
       "    <tr>\n",
       "      <th>3199461</th>\n",
       "      <td>3725090</td>\n",
       "      <td>3057670</td>\n",
       "      <td>ab</td>\n",
       "      <td>8</td>\n",
       "      <td>1163</td>\n",
       "      <td>Depressed release of insulin was seen in 58% (...</td>\n",
       "      <td>1328</td>\n",
       "      <td>NaN</td>\n",
       "      <td>NaN</td>\n",
       "    </tr>\n",
       "    <tr>\n",
       "      <th>3199462</th>\n",
       "      <td>3725091</td>\n",
       "      <td>3417639</td>\n",
       "      <td>ab</td>\n",
       "      <td>6</td>\n",
       "      <td>968</td>\n",
       "      <td>The sensitivity of Ca2+ is expressed in two st...</td>\n",
       "      <td>1125</td>\n",
       "      <td>NaN</td>\n",
       "      <td>NaN</td>\n",
       "    </tr>\n",
       "    <tr>\n",
       "      <th>3199463</th>\n",
       "      <td>3725092</td>\n",
       "      <td>4663183</td>\n",
       "      <td>ti</td>\n",
       "      <td>1</td>\n",
       "      <td>20</td>\n",
       "      <td>[Effect of individual unfavorable factors on t...</td>\n",
       "      <td>170</td>\n",
       "      <td>NaN</td>\n",
       "      <td>NaN</td>\n",
       "    </tr>\n",
       "    <tr>\n",
       "      <th>3199464</th>\n",
       "      <td>3725093</td>\n",
       "      <td>4297905</td>\n",
       "      <td>ti</td>\n",
       "      <td>1</td>\n",
       "      <td>20</td>\n",
       "      <td>Japanese encephalitis vaccine including a prel...</td>\n",
       "      <td>122</td>\n",
       "      <td>NaN</td>\n",
       "      <td>NaN</td>\n",
       "    </tr>\n",
       "    <tr>\n",
       "      <th>3199465</th>\n",
       "      <td>3725094</td>\n",
       "      <td>25465264</td>\n",
       "      <td>ab</td>\n",
       "      <td>2</td>\n",
       "      <td>462</td>\n",
       "      <td>We found generally high support for regular ma...</td>\n",
       "      <td>630</td>\n",
       "      <td>NaN</td>\n",
       "      <td>NaN</td>\n",
       "    </tr>\n",
       "  </tbody>\n",
       "</table>\n",
       "<p>3199466 rows × 9 columns</p>\n",
       "</div>"
      ],
      "text/plain": [
       "         SENTENCE_ID      PMID TYPE  NUMBER  SENT_START_INDEX  \\\n",
       "0                  6  16530473   ti       1                21   \n",
       "1                  7  16530473   ab       1               125   \n",
       "2                  8  16530473   ab       2               302   \n",
       "3                  9  16530473   ab       3               385   \n",
       "4                 10  16530473   ab       4               578   \n",
       "...              ...       ...  ...     ...               ...   \n",
       "3199461      3725090   3057670   ab       8              1163   \n",
       "3199462      3725091   3417639   ab       6               968   \n",
       "3199463      3725092   4663183   ti       1                20   \n",
       "3199464      3725093   4297905   ti       1                20   \n",
       "3199465      3725094  25465264   ab       2               462   \n",
       "\n",
       "                                                  SENTENCE  SENT_END_INDEX  \\\n",
       "0        Fluoride-selective colorimetric sensor based o...             119   \n",
       "1        A structurally simple colorimetric sensor, N-4...             302   \n",
       "2        In acetonitrile, the addition of F(-) changed ...             385   \n",
       "3        In the presence of other anions such as CH(3)C...             578   \n",
       "4        The association constants of anionic complexes...             757   \n",
       "...                                                    ...             ...   \n",
       "3199461  Depressed release of insulin was seen in 58% (...            1328   \n",
       "3199462  The sensitivity of Ca2+ is expressed in two st...            1125   \n",
       "3199463  [Effect of individual unfavorable factors on t...             170   \n",
       "3199464  Japanese encephalitis vaccine including a prel...             122   \n",
       "3199465  We found generally high support for regular ma...             630   \n",
       "\n",
       "        NORMALIZED_SECTION_HEADER SECTION_HEADER  \n",
       "0                             NaN            NaN  \n",
       "1                             NaN            NaN  \n",
       "2                             NaN            NaN  \n",
       "3                             NaN            NaN  \n",
       "4                             NaN            NaN  \n",
       "...                           ...            ...  \n",
       "3199461                       NaN            NaN  \n",
       "3199462                       NaN            NaN  \n",
       "3199463                       NaN            NaN  \n",
       "3199464                       NaN            NaN  \n",
       "3199465                       NaN            NaN  \n",
       "\n",
       "[3199466 rows x 9 columns]"
      ]
     },
     "execution_count": 190,
     "metadata": {},
     "output_type": "execute_result"
    }
   ],
   "source": [
    "test_"
   ]
  },
  {
   "cell_type": "markdown",
   "id": "44f9fc1b",
   "metadata": {},
   "source": [
    "## Triple Time Validity"
   ]
  },
  {
   "cell_type": "code",
   "execution_count": 9,
   "id": "ebac7548",
   "metadata": {},
   "outputs": [
    {
     "ename": "KeyboardInterrupt",
     "evalue": "",
     "output_type": "error",
     "traceback": [
      "\u001b[0;31m---------------------------------------------------------------------------\u001b[0m",
      "\u001b[0;31mKeyboardInterrupt\u001b[0m                         Traceback (most recent call last)",
      "Input \u001b[0;32mIn [9]\u001b[0m, in \u001b[0;36m<cell line: 1>\u001b[0;34m()\u001b[0m\n\u001b[0;32m----> 1\u001b[0m all_files \u001b[38;5;241m=\u001b[39m \u001b[43mglob\u001b[49m\u001b[43m(\u001b[49m\u001b[43mjoin\u001b[49m\u001b[43m(\u001b[49m\u001b[43mTRIP_SENT_DIR\u001b[49m\u001b[43m,\u001b[49m\u001b[43m \u001b[49m\u001b[38;5;124;43m'\u001b[39;49m\u001b[38;5;124;43m*\u001b[39;49m\u001b[38;5;124;43m'\u001b[39;49m\u001b[43m,\u001b[49m\u001b[43m \u001b[49m\u001b[38;5;124;43m'\u001b[39;49m\u001b[38;5;124;43m*\u001b[39;49m\u001b[38;5;124;43m'\u001b[39;49m\u001b[43m)\u001b[49m\u001b[43m)\u001b[49m\n",
      "File \u001b[0;32m~/anaconda3/envs/TestEnv3/lib/python3.8/glob.py:21\u001b[0m, in \u001b[0;36mglob\u001b[0;34m(pathname, recursive)\u001b[0m\n\u001b[1;32m     10\u001b[0m \u001b[38;5;28;01mdef\u001b[39;00m \u001b[38;5;21mglob\u001b[39m(pathname, \u001b[38;5;241m*\u001b[39m, recursive\u001b[38;5;241m=\u001b[39m\u001b[38;5;28;01mFalse\u001b[39;00m):\n\u001b[1;32m     11\u001b[0m     \u001b[38;5;124;03m\"\"\"Return a list of paths matching a pathname pattern.\u001b[39;00m\n\u001b[1;32m     12\u001b[0m \n\u001b[1;32m     13\u001b[0m \u001b[38;5;124;03m    The pattern may contain simple shell-style wildcards a la\u001b[39;00m\n\u001b[0;32m   (...)\u001b[0m\n\u001b[1;32m     19\u001b[0m \u001b[38;5;124;03m    zero or more directories and subdirectories.\u001b[39;00m\n\u001b[1;32m     20\u001b[0m \u001b[38;5;124;03m    \"\"\"\u001b[39;00m\n\u001b[0;32m---> 21\u001b[0m     \u001b[38;5;28;01mreturn\u001b[39;00m \u001b[38;5;28;43mlist\u001b[39;49m\u001b[43m(\u001b[49m\u001b[43miglob\u001b[49m\u001b[43m(\u001b[49m\u001b[43mpathname\u001b[49m\u001b[43m,\u001b[49m\u001b[43m \u001b[49m\u001b[43mrecursive\u001b[49m\u001b[38;5;241;43m=\u001b[39;49m\u001b[43mrecursive\u001b[49m\u001b[43m)\u001b[49m\u001b[43m)\u001b[49m\n",
      "File \u001b[0;32m~/anaconda3/envs/TestEnv3/lib/python3.8/glob.py:74\u001b[0m, in \u001b[0;36m_iglob\u001b[0;34m(pathname, recursive, dironly)\u001b[0m\n\u001b[1;32m     72\u001b[0m     glob_in_dir \u001b[38;5;241m=\u001b[39m _glob0\n\u001b[1;32m     73\u001b[0m \u001b[38;5;28;01mfor\u001b[39;00m dirname \u001b[38;5;129;01min\u001b[39;00m dirs:\n\u001b[0;32m---> 74\u001b[0m     \u001b[38;5;28;01mfor\u001b[39;00m name \u001b[38;5;129;01min\u001b[39;00m \u001b[43mglob_in_dir\u001b[49m\u001b[43m(\u001b[49m\u001b[43mdirname\u001b[49m\u001b[43m,\u001b[49m\u001b[43m \u001b[49m\u001b[43mbasename\u001b[49m\u001b[43m,\u001b[49m\u001b[43m \u001b[49m\u001b[43mdironly\u001b[49m\u001b[43m)\u001b[49m:\n\u001b[1;32m     75\u001b[0m         \u001b[38;5;28;01myield\u001b[39;00m os\u001b[38;5;241m.\u001b[39mpath\u001b[38;5;241m.\u001b[39mjoin(dirname, name)\n",
      "File \u001b[0;32m~/anaconda3/envs/TestEnv3/lib/python3.8/glob.py:82\u001b[0m, in \u001b[0;36m_glob1\u001b[0;34m(dirname, pattern, dironly)\u001b[0m\n\u001b[1;32m     81\u001b[0m \u001b[38;5;28;01mdef\u001b[39;00m \u001b[38;5;21m_glob1\u001b[39m(dirname, pattern, dironly):\n\u001b[0;32m---> 82\u001b[0m     names \u001b[38;5;241m=\u001b[39m \u001b[38;5;28;43mlist\u001b[39;49m\u001b[43m(\u001b[49m\u001b[43m_iterdir\u001b[49m\u001b[43m(\u001b[49m\u001b[43mdirname\u001b[49m\u001b[43m,\u001b[49m\u001b[43m \u001b[49m\u001b[43mdironly\u001b[49m\u001b[43m)\u001b[49m\u001b[43m)\u001b[49m\n\u001b[1;32m     83\u001b[0m     \u001b[38;5;28;01mif\u001b[39;00m \u001b[38;5;129;01mnot\u001b[39;00m _ishidden(pattern):\n\u001b[1;32m     84\u001b[0m         names \u001b[38;5;241m=\u001b[39m (x \u001b[38;5;28;01mfor\u001b[39;00m x \u001b[38;5;129;01min\u001b[39;00m names \u001b[38;5;28;01mif\u001b[39;00m \u001b[38;5;129;01mnot\u001b[39;00m _ishidden(x))\n",
      "File \u001b[0;32m~/anaconda3/envs/TestEnv3/lib/python3.8/glob.py:124\u001b[0m, in \u001b[0;36m_iterdir\u001b[0;34m(dirname, dironly)\u001b[0m\n\u001b[1;32m    122\u001b[0m \u001b[38;5;28;01mtry\u001b[39;00m:\n\u001b[1;32m    123\u001b[0m     \u001b[38;5;28;01mwith\u001b[39;00m os\u001b[38;5;241m.\u001b[39mscandir(dirname) \u001b[38;5;28;01mas\u001b[39;00m it:\n\u001b[0;32m--> 124\u001b[0m         \u001b[38;5;28;01mfor\u001b[39;00m entry \u001b[38;5;129;01min\u001b[39;00m it:\n\u001b[1;32m    125\u001b[0m             \u001b[38;5;28;01mtry\u001b[39;00m:\n\u001b[1;32m    126\u001b[0m                 \u001b[38;5;28;01mif\u001b[39;00m \u001b[38;5;129;01mnot\u001b[39;00m dironly \u001b[38;5;129;01mor\u001b[39;00m entry\u001b[38;5;241m.\u001b[39mis_dir():\n",
      "\u001b[0;31mKeyboardInterrupt\u001b[0m: "
     ]
    }
   ],
   "source": [
    "all_files = glob(join(TRIP_SENT_DIR, '*', '*'))"
   ]
  },
  {
   "cell_type": "code",
   "execution_count": 10,
   "id": "ea9750e6",
   "metadata": {},
   "outputs": [],
   "source": [
    "all_files = glob(join('TRIPLE_SENTENCES/1805287', '*'))"
   ]
  },
  {
   "cell_type": "code",
   "execution_count": 13,
   "id": "cc4b92fa",
   "metadata": {},
   "outputs": [
    {
     "data": {
      "text/html": [
       "<div>\n",
       "<style scoped>\n",
       "    .dataframe tbody tr th:only-of-type {\n",
       "        vertical-align: middle;\n",
       "    }\n",
       "\n",
       "    .dataframe tbody tr th {\n",
       "        vertical-align: top;\n",
       "    }\n",
       "\n",
       "    .dataframe thead th {\n",
       "        text-align: right;\n",
       "    }\n",
       "</style>\n",
       "<table border=\"1\" class=\"dataframe\">\n",
       "  <thead>\n",
       "    <tr style=\"text-align: right;\">\n",
       "      <th></th>\n",
       "      <th>Unnamed: 0</th>\n",
       "      <th>ORIGIN_ID</th>\n",
       "      <th>PREDICATION_ID</th>\n",
       "      <th>SENTENCE_ID</th>\n",
       "      <th>PMID</th>\n",
       "      <th>TYPE</th>\n",
       "      <th>NUMBER</th>\n",
       "      <th>SENT_START_INDEX</th>\n",
       "      <th>SENTENCE</th>\n",
       "      <th>SENT_END_INDEX</th>\n",
       "      <th>NORMALIZED_SECTION_HEADER</th>\n",
       "      <th>SECTION_HEADER</th>\n",
       "    </tr>\n",
       "  </thead>\n",
       "  <tbody>\n",
       "    <tr>\n",
       "      <th>0</th>\n",
       "      <td>1361658</td>\n",
       "      <td>1805287</td>\n",
       "      <td>90768563</td>\n",
       "      <td>3772671</td>\n",
       "      <td>1346806</td>\n",
       "      <td>ab</td>\n",
       "      <td>1</td>\n",
       "      <td>77</td>\n",
       "      <td>We have compared the kinetic properties of NMD...</td>\n",
       "      <td>210</td>\n",
       "      <td>NaN</td>\n",
       "      <td>NaN</td>\n",
       "    </tr>\n",
       "  </tbody>\n",
       "</table>\n",
       "</div>"
      ],
      "text/plain": [
       "   Unnamed: 0  ORIGIN_ID  PREDICATION_ID  SENTENCE_ID     PMID TYPE  NUMBER  \\\n",
       "0     1361658    1805287        90768563      3772671  1346806   ab       1   \n",
       "\n",
       "   SENT_START_INDEX                                           SENTENCE  \\\n",
       "0                77  We have compared the kinetic properties of NMD...   \n",
       "\n",
       "   SENT_END_INDEX  NORMALIZED_SECTION_HEADER  SECTION_HEADER  \n",
       "0             210                        NaN             NaN  "
      ]
     },
     "execution_count": 13,
     "metadata": {},
     "output_type": "execute_result"
    }
   ],
   "source": [
    "pd.read_csv(all_files[0], compression = 'gzip')"
   ]
  },
  {
   "cell_type": "code",
   "execution_count": 14,
   "id": "19360e72",
   "metadata": {},
   "outputs": [],
   "source": [
    "or_pred = pd.read_csv(join(TRIPLES_DIR, 'origin_predication.csv'), compression = 'gzip')"
   ]
  },
  {
   "cell_type": "code",
   "execution_count": 4,
   "id": "0941ff55",
   "metadata": {},
   "outputs": [
    {
     "data": {
      "text/html": [
       "<div>\n",
       "<style scoped>\n",
       "    .dataframe tbody tr th:only-of-type {\n",
       "        vertical-align: middle;\n",
       "    }\n",
       "\n",
       "    .dataframe tbody tr th {\n",
       "        vertical-align: top;\n",
       "    }\n",
       "\n",
       "    .dataframe thead th {\n",
       "        text-align: right;\n",
       "    }\n",
       "</style>\n",
       "<table border=\"1\" class=\"dataframe\">\n",
       "  <thead>\n",
       "    <tr style=\"text-align: right;\">\n",
       "      <th></th>\n",
       "      <th>ORIGIN_ID</th>\n",
       "      <th>PREDICATION_ID</th>\n",
       "      <th>SENTENCE_ID</th>\n",
       "    </tr>\n",
       "  </thead>\n",
       "  <tbody>\n",
       "    <tr>\n",
       "      <th>0</th>\n",
       "      <td>1775772</td>\n",
       "      <td>76299252</td>\n",
       "      <td>10378470</td>\n",
       "    </tr>\n",
       "    <tr>\n",
       "      <th>1</th>\n",
       "      <td>1302567</td>\n",
       "      <td>74851732</td>\n",
       "      <td>24206336</td>\n",
       "    </tr>\n",
       "    <tr>\n",
       "      <th>2</th>\n",
       "      <td>1737760</td>\n",
       "      <td>76177799</td>\n",
       "      <td>26954710</td>\n",
       "    </tr>\n",
       "    <tr>\n",
       "      <th>3</th>\n",
       "      <td>380736</td>\n",
       "      <td>72444077</td>\n",
       "      <td>19247628</td>\n",
       "    </tr>\n",
       "    <tr>\n",
       "      <th>4</th>\n",
       "      <td>29711</td>\n",
       "      <td>15350637</td>\n",
       "      <td>84375</td>\n",
       "    </tr>\n",
       "  </tbody>\n",
       "</table>\n",
       "</div>"
      ],
      "text/plain": [
       "   ORIGIN_ID  PREDICATION_ID  SENTENCE_ID\n",
       "0    1775772        76299252     10378470\n",
       "1    1302567        74851732     24206336\n",
       "2    1737760        76177799     26954710\n",
       "3     380736        72444077     19247628\n",
       "4      29711        15350637        84375"
      ]
     },
     "execution_count": 4,
     "metadata": {},
     "output_type": "execute_result"
    }
   ],
   "source": [
    "or_pred.head()"
   ]
  },
  {
   "cell_type": "code",
   "execution_count": null,
   "id": "8d01f39f",
   "metadata": {},
   "outputs": [],
   "source": []
  },
  {
   "cell_type": "code",
   "execution_count": 11,
   "id": "25d71150",
   "metadata": {},
   "outputs": [],
   "source": [
    "citations = pd.read_csv(join(CITATIONS_DIR, 'semmedVER43_2021_R_CITATIONS.csv'), compression = 'gzip',\n",
    "                        encoding='ISO-8859-1', header = None, names = CITATIONS_COLS)"
   ]
  },
  {
   "cell_type": "code",
   "execution_count": 12,
   "id": "105e13c3",
   "metadata": {},
   "outputs": [
    {
     "data": {
      "text/html": [
       "<div>\n",
       "<style scoped>\n",
       "    .dataframe tbody tr th:only-of-type {\n",
       "        vertical-align: middle;\n",
       "    }\n",
       "\n",
       "    .dataframe tbody tr th {\n",
       "        vertical-align: top;\n",
       "    }\n",
       "\n",
       "    .dataframe thead th {\n",
       "        text-align: right;\n",
       "    }\n",
       "</style>\n",
       "<table border=\"1\" class=\"dataframe\">\n",
       "  <thead>\n",
       "    <tr style=\"text-align: right;\">\n",
       "      <th></th>\n",
       "      <th>PMID</th>\n",
       "      <th>ISSN</th>\n",
       "      <th>DP</th>\n",
       "      <th>EDAT</th>\n",
       "      <th>PYEAR</th>\n",
       "    </tr>\n",
       "  </thead>\n",
       "  <tbody>\n",
       "    <tr>\n",
       "      <th>0</th>\n",
       "      <td>1</td>\n",
       "      <td>0006-2944</td>\n",
       "      <td>1975 Jun</td>\n",
       "      <td>1975-6-1</td>\n",
       "      <td>1975</td>\n",
       "    </tr>\n",
       "    <tr>\n",
       "      <th>1</th>\n",
       "      <td>10</td>\n",
       "      <td>1873-2968</td>\n",
       "      <td>1975 Sep 01</td>\n",
       "      <td>1975-9-1</td>\n",
       "      <td>1975</td>\n",
       "    </tr>\n",
       "    <tr>\n",
       "      <th>2</th>\n",
       "      <td>100</td>\n",
       "      <td>0547-6844</td>\n",
       "      <td>1975</td>\n",
       "      <td>1975-1-1</td>\n",
       "      <td>1975</td>\n",
       "    </tr>\n",
       "    <tr>\n",
       "      <th>3</th>\n",
       "      <td>1000</td>\n",
       "      <td>0264-6021</td>\n",
       "      <td>1975 Sep</td>\n",
       "      <td>1975-9-1</td>\n",
       "      <td>1975</td>\n",
       "    </tr>\n",
       "    <tr>\n",
       "      <th>4</th>\n",
       "      <td>10000</td>\n",
       "      <td>0006-3002</td>\n",
       "      <td>1976 Sep 28</td>\n",
       "      <td>1976-9-28</td>\n",
       "      <td>1976</td>\n",
       "    </tr>\n",
       "  </tbody>\n",
       "</table>\n",
       "</div>"
      ],
      "text/plain": [
       "    PMID       ISSN           DP       EDAT  PYEAR\n",
       "0      1  0006-2944     1975 Jun   1975-6-1   1975\n",
       "1     10  1873-2968  1975 Sep 01   1975-9-1   1975\n",
       "2    100  0547-6844         1975   1975-1-1   1975\n",
       "3   1000  0264-6021     1975 Sep   1975-9-1   1975\n",
       "4  10000  0006-3002  1976 Sep 28  1976-9-28   1976"
      ]
     },
     "execution_count": 12,
     "metadata": {},
     "output_type": "execute_result"
    }
   ],
   "source": [
    "citations.head()"
   ]
  },
  {
   "cell_type": "code",
   "execution_count": 13,
   "id": "eb3070ff",
   "metadata": {},
   "outputs": [
    {
     "data": {
      "text/plain": [
       "0            [1975, 6, 1]\n",
       "1            [1975, 9, 1]\n",
       "2            [1975, 1, 1]\n",
       "3            [1975, 9, 1]\n",
       "4           [1976, 9, 28]\n",
       "                ...      \n",
       "33404961    [1991, 8, 15]\n",
       "33404962    [1991, 8, 15]\n",
       "33404963    [1991, 8, 15]\n",
       "33404964    [1991, 8, 15]\n",
       "33404965    [1991, 8, 15]\n",
       "Name: EDAT, Length: 33404966, dtype: object"
      ]
     },
     "execution_count": 13,
     "metadata": {},
     "output_type": "execute_result"
    }
   ],
   "source": [
    "citations['EDAT'].str.split('-')"
   ]
  },
  {
   "cell_type": "code",
   "execution_count": null,
   "id": "e83ab2e9",
   "metadata": {},
   "outputs": [],
   "source": []
  }
 ],
 "metadata": {
  "kernelspec": {
   "display_name": "Python 3 (ipykernel)",
   "language": "python",
   "name": "python3"
  },
  "language_info": {
   "codemirror_mode": {
    "name": "ipython",
    "version": 3
   },
   "file_extension": ".py",
   "mimetype": "text/x-python",
   "name": "python",
   "nbconvert_exporter": "python",
   "pygments_lexer": "ipython3",
   "version": "3.9.16"
  }
 },
 "nbformat": 4,
 "nbformat_minor": 5
}
