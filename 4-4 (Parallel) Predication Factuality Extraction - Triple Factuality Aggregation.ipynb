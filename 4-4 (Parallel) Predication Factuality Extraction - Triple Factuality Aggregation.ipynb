{
 "cells": [
  {
   "cell_type": "code",
   "execution_count": 1,
   "id": "1ffb5af6",
   "metadata": {},
   "outputs": [
    {
     "ename": "ModuleNotFoundError",
     "evalue": "No module named 'scikitplot'",
     "output_type": "error",
     "traceback": [
      "\u001b[0;31m---------------------------------------------------------------------------\u001b[0m",
      "\u001b[0;31mModuleNotFoundError\u001b[0m                       Traceback (most recent call last)",
      "Cell \u001b[0;32mIn[1], line 23\u001b[0m\n\u001b[1;32m     21\u001b[0m \u001b[38;5;28;01mfrom\u001b[39;00m \u001b[38;5;21;01mglob\u001b[39;00m \u001b[38;5;28;01mimport\u001b[39;00m glob\n\u001b[1;32m     22\u001b[0m \u001b[38;5;28;01mimport\u001b[39;00m \u001b[38;5;21;01mmatplotlib\u001b[39;00m\u001b[38;5;21;01m.\u001b[39;00m\u001b[38;5;21;01mpyplot\u001b[39;00m \u001b[38;5;28;01mas\u001b[39;00m \u001b[38;5;21;01mplt\u001b[39;00m\n\u001b[0;32m---> 23\u001b[0m \u001b[38;5;28;01mimport\u001b[39;00m \u001b[38;5;21;01mscikitplot\u001b[39;00m \u001b[38;5;28;01mas\u001b[39;00m \u001b[38;5;21;01mskplt\u001b[39;00m\n\u001b[1;32m     24\u001b[0m \u001b[38;5;28;01mfrom\u001b[39;00m \u001b[38;5;21;01msklearn\u001b[39;00m\u001b[38;5;21;01m.\u001b[39;00m\u001b[38;5;21;01mmanifold\u001b[39;00m \u001b[38;5;28;01mimport\u001b[39;00m TSNE\n\u001b[1;32m     25\u001b[0m \u001b[38;5;28;01mfrom\u001b[39;00m \u001b[38;5;21;01mmatplotlib\u001b[39;00m \u001b[38;5;28;01mimport\u001b[39;00m pyplot \u001b[38;5;28;01mas\u001b[39;00m plt\n",
      "\u001b[0;31mModuleNotFoundError\u001b[0m: No module named 'scikitplot'"
     ]
    }
   ],
   "source": [
    "import pandas as pd\n",
    "from os.path import join\n",
    "from collections import Counter\n",
    "from pathlib import Path\n",
    "import random\n",
    "from collections import defaultdict\n",
    "from itertools import chain, groupby\n",
    "from typing import Any, List, Optional, Union\n",
    "import joblib\n",
    "import numpy as np\n",
    "import torch\n",
    "from torch.utils.data import DataLoader\n",
    "import lightgbm as lgb\n",
    "from multiprocessing import Pool\n",
    "from multiprocessing.pool import ThreadPool\n",
    "\n",
    "from time import sleep\n",
    "\n",
    "import sys\n",
    "import json\n",
    "from glob import glob\n",
    "import matplotlib.pyplot as plt\n",
    "import scikitplot as skplt\n",
    "from sklearn.manifold import TSNE\n",
    "from matplotlib import pyplot as plt\n",
    "from tqdm.notebook import tqdm\n",
    "StrOrPath = Union[Path, str]"
   ]
  },
  {
   "cell_type": "code",
   "execution_count": null,
   "id": "08864fe3",
   "metadata": {},
   "outputs": [],
   "source": [
    "from concurrent.futures import ThreadPoolExecutor, ProcessPoolExecutor\n",
    "import pandas as pd\n",
    "from glob import glob\n",
    "import multiprocessing as mp\n",
    "from multiprocessing.pool import ThreadPool"
   ]
  },
  {
   "cell_type": "code",
   "execution_count": null,
   "id": "071d84b3",
   "metadata": {},
   "outputs": [],
   "source": [
    "def read_file(file):\n",
    "    return pd.read_csv(file, compression = 'gzip')\n",
    "\n",
    "def get_labeled_preds():\n",
    "    all_paths = glob(join('Format_sents', 'labeled_sent_*.csv'))\n",
    "    all_data = []\n",
    "    return read_dfs_parallel(files = all_paths)\n",
    "\n",
    "\n",
    "def read_dfs_sequence(all_paths):\n",
    "    for pth in tqdm(all_paths):\n",
    "        all_data.append(pd.read_csv(pth, compression = 'gzip'))\n",
    "        if len(all_data)>3:\n",
    "            break\n",
    "    return pd.concat(all_data, ignore_index = True)\n",
    "def read_dfs_parallel(files):\n",
    "#     with ThreadPoolExecutor(10) as pool:\n",
    "#     with mp.Pool(10) as pool:\n",
    "    with ThreadPool(20) as pool:\n",
    "#         results = list(tqdm(pool.map(read_file, files), total=len(files)))\n",
    "        results = list(tqdm(pool.imap_unordered(read_file, files), total=len(files)))\n",
    "        results = pd.concat(results, ignore_index = True)\n",
    "#         results = pd.concat(pool.map(read_file, files), ignore_index = True)\n",
    "    return results\n",
    "def get_origin_preds_index():\n",
    "    df_1 = pd.read_csv(join('all_triples','origin_predication.csv'), compression = 'gzip')[['ORIGIN_ID','PREDICATION_ID']]\n",
    "    df_2 = pd.read_csv(join('PREDICATION_AUX','all_combo_index_v2.csv'), compression = 'gzip')[['PREDICATION_AUX_ID','PREDICATION_ID']]\n",
    "    return df_1.set_index('PREDICATION_ID').join(df_2.set_index('PREDICATION_ID'), how='inner').reset_index()\n",
    "\n",
    "def get_origin_triples_labels():\n",
    "    print('read predications factuality preds')\n",
    "    lab_preds = pd.read_csv(join('all_triples','predications_aux_factuality.csv'), compression = 'gzip')\n",
    "    print('read triples to predications ID map')\n",
    "    aux_preds_to_origin = get_origin_preds_index()\n",
    "    print('join and return')\n",
    "    return lab_preds.set_index('PREDICATION_AUX_ID').join(aux_preds_to_origin.set_index('PREDICATION_AUX_ID'), how='inner').reset_index()\n",
    "    \n",
    "    "
   ]
  },
  {
   "cell_type": "markdown",
   "id": "a8a8ced7",
   "metadata": {},
   "source": [
    "## Get All Predications Labels in One file"
   ]
  },
  {
   "cell_type": "code",
   "execution_count": 3,
   "id": "0da64e71",
   "metadata": {},
   "outputs": [
    {
     "ename": "KeyboardInterrupt",
     "evalue": "",
     "output_type": "error",
     "traceback": [
      "\u001b[0;31m---------------------------------------------------------------------------\u001b[0m",
      "\u001b[0;31mKeyboardInterrupt\u001b[0m                         Traceback (most recent call last)",
      "File \u001b[0;32m~/anaconda3/envs/TestEnv3/lib/python3.8/site-packages/IPython/core/async_helpers.py:129\u001b[0m, in \u001b[0;36m_pseudo_sync_runner\u001b[0;34m(coro)\u001b[0m\n\u001b[1;32m    121\u001b[0m \u001b[38;5;124;03m\"\"\"\u001b[39;00m\n\u001b[1;32m    122\u001b[0m \u001b[38;5;124;03mA runner that does not really allow async execution, and just advance the coroutine.\u001b[39;00m\n\u001b[1;32m    123\u001b[0m \n\u001b[0;32m   (...)\u001b[0m\n\u001b[1;32m    126\u001b[0m \u001b[38;5;124;03mCredit to Nathaniel Smith\u001b[39;00m\n\u001b[1;32m    127\u001b[0m \u001b[38;5;124;03m\"\"\"\u001b[39;00m\n\u001b[1;32m    128\u001b[0m \u001b[38;5;28;01mtry\u001b[39;00m:\n\u001b[0;32m--> 129\u001b[0m     \u001b[43mcoro\u001b[49m\u001b[38;5;241;43m.\u001b[39;49m\u001b[43msend\u001b[49m\u001b[43m(\u001b[49m\u001b[38;5;28;43;01mNone\u001b[39;49;00m\u001b[43m)\u001b[49m\n\u001b[1;32m    130\u001b[0m \u001b[38;5;28;01mexcept\u001b[39;00m \u001b[38;5;167;01mStopIteration\u001b[39;00m \u001b[38;5;28;01mas\u001b[39;00m exc:\n\u001b[1;32m    131\u001b[0m     \u001b[38;5;28;01mreturn\u001b[39;00m exc\u001b[38;5;241m.\u001b[39mvalue\n",
      "File \u001b[0;32m~/anaconda3/envs/TestEnv3/lib/python3.8/site-packages/IPython/core/interactiveshell.py:3084\u001b[0m, in \u001b[0;36mInteractiveShell.run_cell_async\u001b[0;34m(self, raw_cell, store_history, silent, shell_futures, transformed_cell, preprocessing_exc_tuple, cell_id)\u001b[0m\n\u001b[1;32m   3082\u001b[0m \u001b[38;5;66;03m# Store raw and processed history\u001b[39;00m\n\u001b[1;32m   3083\u001b[0m \u001b[38;5;28;01mif\u001b[39;00m store_history \u001b[38;5;129;01mand\u001b[39;00m raw_cell\u001b[38;5;241m.\u001b[39mstrip(\u001b[38;5;124m\"\u001b[39m\u001b[38;5;124m \u001b[39m\u001b[38;5;124m%\u001b[39m\u001b[38;5;124m\"\u001b[39m) \u001b[38;5;241m!=\u001b[39m \u001b[38;5;124m\"\u001b[39m\u001b[38;5;124mpaste\u001b[39m\u001b[38;5;124m\"\u001b[39m:\n\u001b[0;32m-> 3084\u001b[0m     \u001b[38;5;28;43mself\u001b[39;49m\u001b[38;5;241;43m.\u001b[39;49m\u001b[43mhistory_manager\u001b[49m\u001b[38;5;241;43m.\u001b[39;49m\u001b[43mstore_inputs\u001b[49m\u001b[43m(\u001b[49m\u001b[38;5;28;43mself\u001b[39;49m\u001b[38;5;241;43m.\u001b[39;49m\u001b[43mexecution_count\u001b[49m\u001b[43m,\u001b[49m\u001b[43m \u001b[49m\u001b[43mcell\u001b[49m\u001b[43m,\u001b[49m\u001b[43m \u001b[49m\u001b[43mraw_cell\u001b[49m\u001b[43m)\u001b[49m\n\u001b[1;32m   3085\u001b[0m \u001b[38;5;28;01mif\u001b[39;00m \u001b[38;5;129;01mnot\u001b[39;00m silent:\n\u001b[1;32m   3086\u001b[0m     \u001b[38;5;28mself\u001b[39m\u001b[38;5;241m.\u001b[39mlogger\u001b[38;5;241m.\u001b[39mlog(cell, raw_cell)\n",
      "File \u001b[0;32m~/anaconda3/envs/TestEnv3/lib/python3.8/site-packages/IPython/core/history.py:743\u001b[0m, in \u001b[0;36mHistoryManager.store_inputs\u001b[0;34m(self, line_num, source, source_raw)\u001b[0m\n\u001b[1;32m    740\u001b[0m \u001b[38;5;28mself\u001b[39m\u001b[38;5;241m.\u001b[39minput_hist_parsed\u001b[38;5;241m.\u001b[39mappend(source)\n\u001b[1;32m    741\u001b[0m \u001b[38;5;28mself\u001b[39m\u001b[38;5;241m.\u001b[39minput_hist_raw\u001b[38;5;241m.\u001b[39mappend(source_raw)\n\u001b[0;32m--> 743\u001b[0m \u001b[38;5;28;01mwith\u001b[39;00m \u001b[38;5;28mself\u001b[39m\u001b[38;5;241m.\u001b[39mdb_input_cache_lock:\n\u001b[1;32m    744\u001b[0m     \u001b[38;5;28mself\u001b[39m\u001b[38;5;241m.\u001b[39mdb_input_cache\u001b[38;5;241m.\u001b[39mappend((line_num, source, source_raw))\n\u001b[1;32m    745\u001b[0m     \u001b[38;5;66;03m# Trigger to flush cache and write to DB.\u001b[39;00m\n",
      "\u001b[0;31mKeyboardInterrupt\u001b[0m: "
     ]
    }
   ],
   "source": [
    "sents = get_labeled_preds()"
   ]
  },
  {
   "cell_type": "code",
   "execution_count": 5,
   "id": "fd4aba3e",
   "metadata": {},
   "outputs": [
    {
     "data": {
      "text/html": [
       "<div>\n",
       "<style scoped>\n",
       "    .dataframe tbody tr th:only-of-type {\n",
       "        vertical-align: middle;\n",
       "    }\n",
       "\n",
       "    .dataframe tbody tr th {\n",
       "        vertical-align: top;\n",
       "    }\n",
       "\n",
       "    .dataframe thead th {\n",
       "        text-align: right;\n",
       "    }\n",
       "</style>\n",
       "<table border=\"1\" class=\"dataframe\">\n",
       "  <thead>\n",
       "    <tr style=\"text-align: right;\">\n",
       "      <th></th>\n",
       "      <th>PREDICATION_AUX_ID</th>\n",
       "      <th>label</th>\n",
       "    </tr>\n",
       "  </thead>\n",
       "  <tbody>\n",
       "    <tr>\n",
       "      <th>0</th>\n",
       "      <td>122252909</td>\n",
       "      <td>Fact</td>\n",
       "    </tr>\n",
       "    <tr>\n",
       "      <th>1</th>\n",
       "      <td>122252982</td>\n",
       "      <td>Fact</td>\n",
       "    </tr>\n",
       "    <tr>\n",
       "      <th>2</th>\n",
       "      <td>122253198</td>\n",
       "      <td>Fact</td>\n",
       "    </tr>\n",
       "    <tr>\n",
       "      <th>3</th>\n",
       "      <td>122253344</td>\n",
       "      <td>Fact</td>\n",
       "    </tr>\n",
       "    <tr>\n",
       "      <th>4</th>\n",
       "      <td>122253423</td>\n",
       "      <td>Fact</td>\n",
       "    </tr>\n",
       "    <tr>\n",
       "      <th>...</th>\n",
       "      <td>...</td>\n",
       "      <td>...</td>\n",
       "    </tr>\n",
       "    <tr>\n",
       "      <th>113805272</th>\n",
       "      <td>178428481</td>\n",
       "      <td>Fact</td>\n",
       "    </tr>\n",
       "    <tr>\n",
       "      <th>113805273</th>\n",
       "      <td>178428482</td>\n",
       "      <td>Fact</td>\n",
       "    </tr>\n",
       "    <tr>\n",
       "      <th>113805274</th>\n",
       "      <td>178428483</td>\n",
       "      <td>Fact</td>\n",
       "    </tr>\n",
       "    <tr>\n",
       "      <th>113805275</th>\n",
       "      <td>178428484</td>\n",
       "      <td>Fact</td>\n",
       "    </tr>\n",
       "    <tr>\n",
       "      <th>113805276</th>\n",
       "      <td>178428485</td>\n",
       "      <td>Fact</td>\n",
       "    </tr>\n",
       "  </tbody>\n",
       "</table>\n",
       "<p>113805277 rows × 2 columns</p>\n",
       "</div>"
      ],
      "text/plain": [
       "           PREDICATION_AUX_ID label\n",
       "0                   122252909  Fact\n",
       "1                   122252982  Fact\n",
       "2                   122253198  Fact\n",
       "3                   122253344  Fact\n",
       "4                   122253423  Fact\n",
       "...                       ...   ...\n",
       "113805272           178428481  Fact\n",
       "113805273           178428482  Fact\n",
       "113805274           178428483  Fact\n",
       "113805275           178428484  Fact\n",
       "113805276           178428485  Fact\n",
       "\n",
       "[113805277 rows x 2 columns]"
      ]
     },
     "execution_count": 5,
     "metadata": {},
     "output_type": "execute_result"
    }
   ],
   "source": [
    "sents"
   ]
  },
  {
   "cell_type": "code",
   "execution_count": 6,
   "id": "7182dd55",
   "metadata": {},
   "outputs": [
    {
     "data": {
      "text/html": [
       "<div>\n",
       "<style scoped>\n",
       "    .dataframe tbody tr th:only-of-type {\n",
       "        vertical-align: middle;\n",
       "    }\n",
       "\n",
       "    .dataframe tbody tr th {\n",
       "        vertical-align: top;\n",
       "    }\n",
       "\n",
       "    .dataframe thead th {\n",
       "        text-align: right;\n",
       "    }\n",
       "</style>\n",
       "<table border=\"1\" class=\"dataframe\">\n",
       "  <thead>\n",
       "    <tr style=\"text-align: right;\">\n",
       "      <th></th>\n",
       "      <th>PREDICATION_AUX_ID</th>\n",
       "      <th>label</th>\n",
       "    </tr>\n",
       "  </thead>\n",
       "  <tbody>\n",
       "    <tr>\n",
       "      <th>0</th>\n",
       "      <td>122252909</td>\n",
       "      <td>Fact</td>\n",
       "    </tr>\n",
       "    <tr>\n",
       "      <th>1</th>\n",
       "      <td>122252982</td>\n",
       "      <td>Fact</td>\n",
       "    </tr>\n",
       "    <tr>\n",
       "      <th>2</th>\n",
       "      <td>122253198</td>\n",
       "      <td>Fact</td>\n",
       "    </tr>\n",
       "    <tr>\n",
       "      <th>3</th>\n",
       "      <td>122253344</td>\n",
       "      <td>Fact</td>\n",
       "    </tr>\n",
       "    <tr>\n",
       "      <th>4</th>\n",
       "      <td>122253423</td>\n",
       "      <td>Fact</td>\n",
       "    </tr>\n",
       "  </tbody>\n",
       "</table>\n",
       "</div>"
      ],
      "text/plain": [
       "   PREDICATION_AUX_ID label\n",
       "0           122252909  Fact\n",
       "1           122252982  Fact\n",
       "2           122253198  Fact\n",
       "3           122253344  Fact\n",
       "4           122253423  Fact"
      ]
     },
     "execution_count": 6,
     "metadata": {},
     "output_type": "execute_result"
    }
   ],
   "source": [
    "sents.head()"
   ]
  },
  {
   "cell_type": "code",
   "execution_count": 7,
   "id": "d5f7cbb0",
   "metadata": {},
   "outputs": [],
   "source": [
    "sents.to_csv(join('all_triples', 'predications_aux_factuality.csv'), index = False, compression = 'gzip')"
   ]
  },
  {
   "cell_type": "markdown",
   "id": "4bf21378",
   "metadata": {},
   "source": [
    "## Origin Factuality Extraction"
   ]
  },
  {
   "cell_type": "code",
   "execution_count": 12,
   "id": "a08783cd",
   "metadata": {},
   "outputs": [
    {
     "name": "stdout",
     "output_type": "stream",
     "text": [
      "read predications factuality preds\n",
      "read triples to predications ID map\n",
      "join and return\n"
     ]
    }
   ],
   "source": [
    "sents = get_origin_triples_labels()"
   ]
  },
  {
   "cell_type": "code",
   "execution_count": 13,
   "id": "0ba41b4c",
   "metadata": {},
   "outputs": [
    {
     "data": {
      "text/html": [
       "<div>\n",
       "<style scoped>\n",
       "    .dataframe tbody tr th:only-of-type {\n",
       "        vertical-align: middle;\n",
       "    }\n",
       "\n",
       "    .dataframe tbody tr th {\n",
       "        vertical-align: top;\n",
       "    }\n",
       "\n",
       "    .dataframe thead th {\n",
       "        text-align: right;\n",
       "    }\n",
       "</style>\n",
       "<table border=\"1\" class=\"dataframe\">\n",
       "  <thead>\n",
       "    <tr style=\"text-align: right;\">\n",
       "      <th></th>\n",
       "      <th>PREDICATION_AUX_ID</th>\n",
       "      <th>label</th>\n",
       "      <th>PREDICATION_ID</th>\n",
       "      <th>ORIGIN_ID</th>\n",
       "    </tr>\n",
       "  </thead>\n",
       "  <tbody>\n",
       "    <tr>\n",
       "      <th>0</th>\n",
       "      <td>122252909</td>\n",
       "      <td>Fact</td>\n",
       "      <td>122252917</td>\n",
       "      <td>556236</td>\n",
       "    </tr>\n",
       "    <tr>\n",
       "      <th>1</th>\n",
       "      <td>122252982</td>\n",
       "      <td>Fact</td>\n",
       "      <td>122252999</td>\n",
       "      <td>2023646</td>\n",
       "    </tr>\n",
       "    <tr>\n",
       "      <th>2</th>\n",
       "      <td>122253198</td>\n",
       "      <td>Fact</td>\n",
       "      <td>122253217</td>\n",
       "      <td>2023646</td>\n",
       "    </tr>\n",
       "    <tr>\n",
       "      <th>3</th>\n",
       "      <td>122253344</td>\n",
       "      <td>Fact</td>\n",
       "      <td>122253360</td>\n",
       "      <td>2273984</td>\n",
       "    </tr>\n",
       "    <tr>\n",
       "      <th>4</th>\n",
       "      <td>122253423</td>\n",
       "      <td>Fact</td>\n",
       "      <td>122253441</td>\n",
       "      <td>55837</td>\n",
       "    </tr>\n",
       "  </tbody>\n",
       "</table>\n",
       "</div>"
      ],
      "text/plain": [
       "   PREDICATION_AUX_ID label  PREDICATION_ID  ORIGIN_ID\n",
       "0           122252909  Fact       122252917     556236\n",
       "1           122252982  Fact       122252999    2023646\n",
       "2           122253198  Fact       122253217    2023646\n",
       "3           122253344  Fact       122253360    2273984\n",
       "4           122253423  Fact       122253441      55837"
      ]
     },
     "execution_count": 13,
     "metadata": {},
     "output_type": "execute_result"
    }
   ],
   "source": [
    "sents.head()"
   ]
  },
  {
   "cell_type": "code",
   "execution_count": 14,
   "id": "92b37c15",
   "metadata": {},
   "outputs": [
    {
     "data": {
      "text/plain": [
       "(23601734,)"
      ]
     },
     "execution_count": 14,
     "metadata": {},
     "output_type": "execute_result"
    }
   ],
   "source": [
    "sents['ORIGIN_ID'].unique().shape"
   ]
  },
  {
   "cell_type": "code",
   "execution_count": 15,
   "id": "80d1bbc5",
   "metadata": {},
   "outputs": [
    {
     "data": {
      "text/plain": [
       "(113805277,)"
      ]
     },
     "execution_count": 15,
     "metadata": {},
     "output_type": "execute_result"
    }
   ],
   "source": [
    "sents['PREDICATION_ID'].unique().shape"
   ]
  },
  {
   "cell_type": "code",
   "execution_count": 16,
   "id": "21d74fe7",
   "metadata": {},
   "outputs": [],
   "source": [
    "sents[['label','ORIGIN_ID']].to_csv(join('all_triples', 'origin_factuality.csv'), index = False, compression = 'gzip')\n"
   ]
  },
  {
   "cell_type": "markdown",
   "id": "8fda87dc",
   "metadata": {},
   "source": [
    "## Origin Factuality Count"
   ]
  },
  {
   "cell_type": "code",
   "execution_count": 2,
   "id": "c5e96ea7",
   "metadata": {},
   "outputs": [],
   "source": [
    "def get_evidence_count(or_df):\n",
    "    or_df['count_col'] = 1\n",
    "    or_df = or_df.groupby(['ORIGIN_ID', 'label']).sum()\n",
    "    or_df = or_df.reset_index()\n",
    "    or_df = pd.pivot_table(or_df, values='count_col', index=['ORIGIN_ID'],\n",
    "                       columns=['label'], aggfunc=np.sum, fill_value = 0)\n",
    "    or_df['total'] = or_df.sum(axis=1)\n",
    "    or_df = or_df.reset_index().rename_axis(None, axis=1)\n",
    "    \n",
    "    return or_df\n",
    "\n",
    "def get_origin_proba_fact_count():\n",
    "    print('Origin probas')\n",
    "    probas = pd.read_csv(join('all_triples', 'triples_probabilities.csv'), compression = 'gzip')\n",
    "    print('Canonized triples')\n",
    "    can_triples = pd.read_csv(join('all_triples', 'origin_fact_count.csv'), compression = 'gzip')\n",
    "    print('Join and Return')\n",
    "    return can_triples.set_index('ORIGIN_ID').join(probas.set_index('ORIGIN_ID'), how='inner').reset_index()\n",
    "\n",
    "def get_fact_percentage():\n",
    "    probas = pd.read_csv(join('all_triples', 'origin_probabilities_with_count.csv'), compression = 'gzip')\n",
    "    for class_col in ['Counterfact','Doubtful','Fact','Possible','Probable','Uncommitted']:\n",
    "        probas[class_col+'%'] = probas[class_col]/probas['total']*100\n",
    "        del probas[class_col]\n",
    "    return probas.round(2)"
   ]
  },
  {
   "cell_type": "code",
   "execution_count": 33,
   "id": "def42e12",
   "metadata": {},
   "outputs": [],
   "source": [
    "triple_facts = pd.read_csv(join('all_triples', 'origin_factuality.csv'), compression = 'gzip')"
   ]
  },
  {
   "cell_type": "code",
   "execution_count": 34,
   "id": "6754ded5",
   "metadata": {},
   "outputs": [
    {
     "data": {
      "text/html": [
       "<div>\n",
       "<style scoped>\n",
       "    .dataframe tbody tr th:only-of-type {\n",
       "        vertical-align: middle;\n",
       "    }\n",
       "\n",
       "    .dataframe tbody tr th {\n",
       "        vertical-align: top;\n",
       "    }\n",
       "\n",
       "    .dataframe thead th {\n",
       "        text-align: right;\n",
       "    }\n",
       "</style>\n",
       "<table border=\"1\" class=\"dataframe\">\n",
       "  <thead>\n",
       "    <tr style=\"text-align: right;\">\n",
       "      <th></th>\n",
       "      <th>label</th>\n",
       "      <th>ORIGIN_ID</th>\n",
       "    </tr>\n",
       "  </thead>\n",
       "  <tbody>\n",
       "    <tr>\n",
       "      <th>0</th>\n",
       "      <td>Fact</td>\n",
       "      <td>556236</td>\n",
       "    </tr>\n",
       "    <tr>\n",
       "      <th>1</th>\n",
       "      <td>Fact</td>\n",
       "      <td>2023646</td>\n",
       "    </tr>\n",
       "    <tr>\n",
       "      <th>2</th>\n",
       "      <td>Fact</td>\n",
       "      <td>2023646</td>\n",
       "    </tr>\n",
       "    <tr>\n",
       "      <th>3</th>\n",
       "      <td>Fact</td>\n",
       "      <td>2273984</td>\n",
       "    </tr>\n",
       "    <tr>\n",
       "      <th>4</th>\n",
       "      <td>Fact</td>\n",
       "      <td>55837</td>\n",
       "    </tr>\n",
       "  </tbody>\n",
       "</table>\n",
       "</div>"
      ],
      "text/plain": [
       "  label  ORIGIN_ID\n",
       "0  Fact     556236\n",
       "1  Fact    2023646\n",
       "2  Fact    2023646\n",
       "3  Fact    2273984\n",
       "4  Fact      55837"
      ]
     },
     "execution_count": 34,
     "metadata": {},
     "output_type": "execute_result"
    }
   ],
   "source": [
    "triple_facts.head()"
   ]
  },
  {
   "cell_type": "code",
   "execution_count": 35,
   "id": "494e0166",
   "metadata": {},
   "outputs": [
    {
     "data": {
      "text/plain": [
       "(113805277, 2)"
      ]
     },
     "execution_count": 35,
     "metadata": {},
     "output_type": "execute_result"
    }
   ],
   "source": [
    "triple_facts.shape"
   ]
  },
  {
   "cell_type": "code",
   "execution_count": 38,
   "id": "5ff430c4",
   "metadata": {},
   "outputs": [],
   "source": [
    "origin_count = get_evidence_count(or_df = triple_facts.copy())"
   ]
  },
  {
   "cell_type": "code",
   "execution_count": 39,
   "id": "cb0b8d98",
   "metadata": {},
   "outputs": [],
   "source": [
    "origin_count.to_csv(join('all_triples', 'origin_fact_count.csv'), index = False, compression = 'gzip')"
   ]
  },
  {
   "cell_type": "code",
   "execution_count": 40,
   "id": "0e5c7f49",
   "metadata": {},
   "outputs": [
    {
     "data": {
      "text/html": [
       "<div>\n",
       "<style scoped>\n",
       "    .dataframe tbody tr th:only-of-type {\n",
       "        vertical-align: middle;\n",
       "    }\n",
       "\n",
       "    .dataframe tbody tr th {\n",
       "        vertical-align: top;\n",
       "    }\n",
       "\n",
       "    .dataframe thead th {\n",
       "        text-align: right;\n",
       "    }\n",
       "</style>\n",
       "<table border=\"1\" class=\"dataframe\">\n",
       "  <thead>\n",
       "    <tr style=\"text-align: right;\">\n",
       "      <th></th>\n",
       "      <th>ORIGIN_ID</th>\n",
       "      <th>Counterfact</th>\n",
       "      <th>Doubtful</th>\n",
       "      <th>Fact</th>\n",
       "      <th>Possible</th>\n",
       "      <th>Probable</th>\n",
       "      <th>Uncommitted</th>\n",
       "      <th>total</th>\n",
       "    </tr>\n",
       "  </thead>\n",
       "  <tbody>\n",
       "    <tr>\n",
       "      <th>0</th>\n",
       "      <td>0</td>\n",
       "      <td>0</td>\n",
       "      <td>0</td>\n",
       "      <td>1</td>\n",
       "      <td>0</td>\n",
       "      <td>0</td>\n",
       "      <td>0</td>\n",
       "      <td>1</td>\n",
       "    </tr>\n",
       "    <tr>\n",
       "      <th>1</th>\n",
       "      <td>1</td>\n",
       "      <td>0</td>\n",
       "      <td>0</td>\n",
       "      <td>2</td>\n",
       "      <td>0</td>\n",
       "      <td>0</td>\n",
       "      <td>0</td>\n",
       "      <td>2</td>\n",
       "    </tr>\n",
       "    <tr>\n",
       "      <th>2</th>\n",
       "      <td>2</td>\n",
       "      <td>0</td>\n",
       "      <td>0</td>\n",
       "      <td>7</td>\n",
       "      <td>0</td>\n",
       "      <td>0</td>\n",
       "      <td>0</td>\n",
       "      <td>7</td>\n",
       "    </tr>\n",
       "    <tr>\n",
       "      <th>3</th>\n",
       "      <td>3</td>\n",
       "      <td>0</td>\n",
       "      <td>0</td>\n",
       "      <td>4</td>\n",
       "      <td>0</td>\n",
       "      <td>0</td>\n",
       "      <td>0</td>\n",
       "      <td>4</td>\n",
       "    </tr>\n",
       "    <tr>\n",
       "      <th>4</th>\n",
       "      <td>4</td>\n",
       "      <td>71</td>\n",
       "      <td>2</td>\n",
       "      <td>53226</td>\n",
       "      <td>31</td>\n",
       "      <td>67</td>\n",
       "      <td>487</td>\n",
       "      <td>53884</td>\n",
       "    </tr>\n",
       "    <tr>\n",
       "      <th>...</th>\n",
       "      <td>...</td>\n",
       "      <td>...</td>\n",
       "      <td>...</td>\n",
       "      <td>...</td>\n",
       "      <td>...</td>\n",
       "      <td>...</td>\n",
       "      <td>...</td>\n",
       "      <td>...</td>\n",
       "    </tr>\n",
       "    <tr>\n",
       "      <th>23601729</th>\n",
       "      <td>23857432</td>\n",
       "      <td>0</td>\n",
       "      <td>0</td>\n",
       "      <td>1</td>\n",
       "      <td>0</td>\n",
       "      <td>0</td>\n",
       "      <td>0</td>\n",
       "      <td>1</td>\n",
       "    </tr>\n",
       "    <tr>\n",
       "      <th>23601730</th>\n",
       "      <td>23857433</td>\n",
       "      <td>0</td>\n",
       "      <td>0</td>\n",
       "      <td>1</td>\n",
       "      <td>0</td>\n",
       "      <td>0</td>\n",
       "      <td>0</td>\n",
       "      <td>1</td>\n",
       "    </tr>\n",
       "    <tr>\n",
       "      <th>23601731</th>\n",
       "      <td>23857434</td>\n",
       "      <td>0</td>\n",
       "      <td>0</td>\n",
       "      <td>1</td>\n",
       "      <td>0</td>\n",
       "      <td>0</td>\n",
       "      <td>0</td>\n",
       "      <td>1</td>\n",
       "    </tr>\n",
       "    <tr>\n",
       "      <th>23601732</th>\n",
       "      <td>23857435</td>\n",
       "      <td>0</td>\n",
       "      <td>0</td>\n",
       "      <td>1</td>\n",
       "      <td>0</td>\n",
       "      <td>0</td>\n",
       "      <td>0</td>\n",
       "      <td>1</td>\n",
       "    </tr>\n",
       "    <tr>\n",
       "      <th>23601733</th>\n",
       "      <td>23857436</td>\n",
       "      <td>0</td>\n",
       "      <td>0</td>\n",
       "      <td>1</td>\n",
       "      <td>0</td>\n",
       "      <td>0</td>\n",
       "      <td>0</td>\n",
       "      <td>1</td>\n",
       "    </tr>\n",
       "  </tbody>\n",
       "</table>\n",
       "<p>23601734 rows × 8 columns</p>\n",
       "</div>"
      ],
      "text/plain": [
       "          ORIGIN_ID  Counterfact  Doubtful   Fact  Possible  Probable  \\\n",
       "0                 0            0         0      1         0         0   \n",
       "1                 1            0         0      2         0         0   \n",
       "2                 2            0         0      7         0         0   \n",
       "3                 3            0         0      4         0         0   \n",
       "4                 4           71         2  53226        31        67   \n",
       "...             ...          ...       ...    ...       ...       ...   \n",
       "23601729   23857432            0         0      1         0         0   \n",
       "23601730   23857433            0         0      1         0         0   \n",
       "23601731   23857434            0         0      1         0         0   \n",
       "23601732   23857435            0         0      1         0         0   \n",
       "23601733   23857436            0         0      1         0         0   \n",
       "\n",
       "          Uncommitted  total  \n",
       "0                   0      1  \n",
       "1                   0      2  \n",
       "2                   0      7  \n",
       "3                   0      4  \n",
       "4                 487  53884  \n",
       "...               ...    ...  \n",
       "23601729            0      1  \n",
       "23601730            0      1  \n",
       "23601731            0      1  \n",
       "23601732            0      1  \n",
       "23601733            0      1  \n",
       "\n",
       "[23601734 rows x 8 columns]"
      ]
     },
     "execution_count": 40,
     "metadata": {},
     "output_type": "execute_result"
    }
   ],
   "source": [
    "origin_count"
   ]
  },
  {
   "cell_type": "code",
   "execution_count": 42,
   "id": "a11c0560",
   "metadata": {},
   "outputs": [],
   "source": [
    "# del origin_count"
   ]
  },
  {
   "cell_type": "code",
   "execution_count": 46,
   "id": "83bb6683",
   "metadata": {},
   "outputs": [
    {
     "name": "stdout",
     "output_type": "stream",
     "text": [
      "Origin probas\n",
      "Canonized triples\n",
      "Join and Return\n"
     ]
    }
   ],
   "source": [
    "probas = get_origin_proba_fact_count()"
   ]
  },
  {
   "cell_type": "code",
   "execution_count": 48,
   "id": "fcd0c7e6",
   "metadata": {},
   "outputs": [
    {
     "data": {
      "text/html": [
       "<div>\n",
       "<style scoped>\n",
       "    .dataframe tbody tr th:only-of-type {\n",
       "        vertical-align: middle;\n",
       "    }\n",
       "\n",
       "    .dataframe tbody tr th {\n",
       "        vertical-align: top;\n",
       "    }\n",
       "\n",
       "    .dataframe thead th {\n",
       "        text-align: right;\n",
       "    }\n",
       "</style>\n",
       "<table border=\"1\" class=\"dataframe\">\n",
       "  <thead>\n",
       "    <tr style=\"text-align: right;\">\n",
       "      <th></th>\n",
       "      <th>ORIGIN_ID</th>\n",
       "      <th>Counterfact</th>\n",
       "      <th>Doubtful</th>\n",
       "      <th>Fact</th>\n",
       "      <th>Possible</th>\n",
       "      <th>Probable</th>\n",
       "      <th>Uncommitted</th>\n",
       "      <th>total</th>\n",
       "      <th>PREDICATE</th>\n",
       "      <th>SUBJECT_CUI</th>\n",
       "      <th>OBJECT_CUI</th>\n",
       "      <th>label_proba</th>\n",
       "    </tr>\n",
       "  </thead>\n",
       "  <tbody>\n",
       "    <tr>\n",
       "      <th>0</th>\n",
       "      <td>0</td>\n",
       "      <td>0</td>\n",
       "      <td>0</td>\n",
       "      <td>1</td>\n",
       "      <td>0</td>\n",
       "      <td>0</td>\n",
       "      <td>0</td>\n",
       "      <td>1</td>\n",
       "      <td>PROCESS_OF</td>\n",
       "      <td>C0003725</td>\n",
       "      <td>C0999630</td>\n",
       "      <td>1.000000</td>\n",
       "    </tr>\n",
       "    <tr>\n",
       "      <th>1</th>\n",
       "      <td>1</td>\n",
       "      <td>0</td>\n",
       "      <td>0</td>\n",
       "      <td>2</td>\n",
       "      <td>0</td>\n",
       "      <td>0</td>\n",
       "      <td>0</td>\n",
       "      <td>2</td>\n",
       "      <td>ISA</td>\n",
       "      <td>C0039258</td>\n",
       "      <td>C0446169</td>\n",
       "      <td>1.000000</td>\n",
       "    </tr>\n",
       "    <tr>\n",
       "      <th>2</th>\n",
       "      <td>2</td>\n",
       "      <td>0</td>\n",
       "      <td>0</td>\n",
       "      <td>7</td>\n",
       "      <td>0</td>\n",
       "      <td>0</td>\n",
       "      <td>0</td>\n",
       "      <td>7</td>\n",
       "      <td>ISA</td>\n",
       "      <td>C0318627</td>\n",
       "      <td>C0206590</td>\n",
       "      <td>1.000000</td>\n",
       "    </tr>\n",
       "    <tr>\n",
       "      <th>3</th>\n",
       "      <td>3</td>\n",
       "      <td>0</td>\n",
       "      <td>0</td>\n",
       "      <td>4</td>\n",
       "      <td>0</td>\n",
       "      <td>0</td>\n",
       "      <td>0</td>\n",
       "      <td>4</td>\n",
       "      <td>ISA</td>\n",
       "      <td>C0446169</td>\n",
       "      <td>C0003725</td>\n",
       "      <td>1.000000</td>\n",
       "    </tr>\n",
       "    <tr>\n",
       "      <th>4</th>\n",
       "      <td>4</td>\n",
       "      <td>71</td>\n",
       "      <td>2</td>\n",
       "      <td>53226</td>\n",
       "      <td>31</td>\n",
       "      <td>67</td>\n",
       "      <td>487</td>\n",
       "      <td>53884</td>\n",
       "      <td>PROCESS_OF</td>\n",
       "      <td>C0012634</td>\n",
       "      <td>C0020114</td>\n",
       "      <td>0.989018</td>\n",
       "    </tr>\n",
       "    <tr>\n",
       "      <th>...</th>\n",
       "      <td>...</td>\n",
       "      <td>...</td>\n",
       "      <td>...</td>\n",
       "      <td>...</td>\n",
       "      <td>...</td>\n",
       "      <td>...</td>\n",
       "      <td>...</td>\n",
       "      <td>...</td>\n",
       "      <td>...</td>\n",
       "      <td>...</td>\n",
       "      <td>...</td>\n",
       "      <td>...</td>\n",
       "    </tr>\n",
       "    <tr>\n",
       "      <th>28416912</th>\n",
       "      <td>23857434</td>\n",
       "      <td>0</td>\n",
       "      <td>0</td>\n",
       "      <td>1</td>\n",
       "      <td>0</td>\n",
       "      <td>0</td>\n",
       "      <td>0</td>\n",
       "      <td>1</td>\n",
       "      <td>COEXISTS_WITH</td>\n",
       "      <td>C1413909</td>\n",
       "      <td>C1413914</td>\n",
       "      <td>1.000000</td>\n",
       "    </tr>\n",
       "    <tr>\n",
       "      <th>28416913</th>\n",
       "      <td>23857435</td>\n",
       "      <td>0</td>\n",
       "      <td>0</td>\n",
       "      <td>1</td>\n",
       "      <td>0</td>\n",
       "      <td>0</td>\n",
       "      <td>0</td>\n",
       "      <td>1</td>\n",
       "      <td>PROCESS_OF</td>\n",
       "      <td>C4023614</td>\n",
       "      <td>C1413909</td>\n",
       "      <td>1.000000</td>\n",
       "    </tr>\n",
       "    <tr>\n",
       "      <th>28416914</th>\n",
       "      <td>23857435</td>\n",
       "      <td>0</td>\n",
       "      <td>0</td>\n",
       "      <td>1</td>\n",
       "      <td>0</td>\n",
       "      <td>0</td>\n",
       "      <td>0</td>\n",
       "      <td>1</td>\n",
       "      <td>PROCESS_OF</td>\n",
       "      <td>C4023614</td>\n",
       "      <td>C1413909</td>\n",
       "      <td>1.000000</td>\n",
       "    </tr>\n",
       "    <tr>\n",
       "      <th>28416915</th>\n",
       "      <td>23857436</td>\n",
       "      <td>0</td>\n",
       "      <td>0</td>\n",
       "      <td>1</td>\n",
       "      <td>0</td>\n",
       "      <td>0</td>\n",
       "      <td>0</td>\n",
       "      <td>1</td>\n",
       "      <td>PROCESS_OF</td>\n",
       "      <td>C4023614</td>\n",
       "      <td>C1413914</td>\n",
       "      <td>1.000000</td>\n",
       "    </tr>\n",
       "    <tr>\n",
       "      <th>28416916</th>\n",
       "      <td>23857436</td>\n",
       "      <td>0</td>\n",
       "      <td>0</td>\n",
       "      <td>1</td>\n",
       "      <td>0</td>\n",
       "      <td>0</td>\n",
       "      <td>0</td>\n",
       "      <td>1</td>\n",
       "      <td>PROCESS_OF</td>\n",
       "      <td>C4023614</td>\n",
       "      <td>C1413914</td>\n",
       "      <td>1.000000</td>\n",
       "    </tr>\n",
       "  </tbody>\n",
       "</table>\n",
       "<p>28416917 rows × 12 columns</p>\n",
       "</div>"
      ],
      "text/plain": [
       "          ORIGIN_ID  Counterfact  Doubtful   Fact  Possible  Probable  \\\n",
       "0                 0            0         0      1         0         0   \n",
       "1                 1            0         0      2         0         0   \n",
       "2                 2            0         0      7         0         0   \n",
       "3                 3            0         0      4         0         0   \n",
       "4                 4           71         2  53226        31        67   \n",
       "...             ...          ...       ...    ...       ...       ...   \n",
       "28416912   23857434            0         0      1         0         0   \n",
       "28416913   23857435            0         0      1         0         0   \n",
       "28416914   23857435            0         0      1         0         0   \n",
       "28416915   23857436            0         0      1         0         0   \n",
       "28416916   23857436            0         0      1         0         0   \n",
       "\n",
       "          Uncommitted  total      PREDICATE SUBJECT_CUI OBJECT_CUI  \\\n",
       "0                   0      1     PROCESS_OF    C0003725   C0999630   \n",
       "1                   0      2            ISA    C0039258   C0446169   \n",
       "2                   0      7            ISA    C0318627   C0206590   \n",
       "3                   0      4            ISA    C0446169   C0003725   \n",
       "4                 487  53884     PROCESS_OF    C0012634   C0020114   \n",
       "...               ...    ...            ...         ...        ...   \n",
       "28416912            0      1  COEXISTS_WITH    C1413909   C1413914   \n",
       "28416913            0      1     PROCESS_OF    C4023614   C1413909   \n",
       "28416914            0      1     PROCESS_OF    C4023614   C1413909   \n",
       "28416915            0      1     PROCESS_OF    C4023614   C1413914   \n",
       "28416916            0      1     PROCESS_OF    C4023614   C1413914   \n",
       "\n",
       "          label_proba  \n",
       "0            1.000000  \n",
       "1            1.000000  \n",
       "2            1.000000  \n",
       "3            1.000000  \n",
       "4            0.989018  \n",
       "...               ...  \n",
       "28416912     1.000000  \n",
       "28416913     1.000000  \n",
       "28416914     1.000000  \n",
       "28416915     1.000000  \n",
       "28416916     1.000000  \n",
       "\n",
       "[28416917 rows x 12 columns]"
      ]
     },
     "execution_count": 48,
     "metadata": {},
     "output_type": "execute_result"
    }
   ],
   "source": [
    "probas"
   ]
  },
  {
   "cell_type": "code",
   "execution_count": 49,
   "id": "778f568e",
   "metadata": {},
   "outputs": [],
   "source": [
    "probas.to_csv(join('all_triples', 'origin_probabilities_with_count.csv'), index = False, compression = 'gzip')"
   ]
  },
  {
   "cell_type": "code",
   "execution_count": 50,
   "id": "871bc472",
   "metadata": {},
   "outputs": [],
   "source": [
    "del probas"
   ]
  },
  {
   "cell_type": "code",
   "execution_count": 3,
   "id": "0b86dd97",
   "metadata": {},
   "outputs": [],
   "source": [
    "probas = get_fact_percentage()"
   ]
  },
  {
   "cell_type": "code",
   "execution_count": 4,
   "id": "f7f7c899",
   "metadata": {},
   "outputs": [],
   "source": [
    "probas.to_csv(join('all_triples', 'origin_probabilities_with_perc.csv'), index = False, compression = 'gzip')"
   ]
  },
  {
   "cell_type": "markdown",
   "id": "6b07110b",
   "metadata": {},
   "source": [
    "## Origin Factuality Aggregation"
   ]
  },
  {
   "cell_type": "code",
   "execution_count": 15,
   "id": "1b36cc39",
   "metadata": {},
   "outputs": [],
   "source": [
    "def gen_proba(origin_facts_df):\n",
    "    fact_proba_scores = {'Fact':1,'Probable':0.75,\n",
    "                   'Possible':0.5,   'Doubtful':0.25,\n",
    "                   'Counterfact':0, 'Uncommitted':0, 'Conditional':0}\n",
    "    origin_facts_df['label_proba'] = origin_facts_df['label'].map(fact_proba_scores)\n",
    "    return origin_facts_df.groupby(\"ORIGIN_ID\")[[\"label_proba\"]].agg(lambda x: x.astype(float).mean())\n"
   ]
  },
  {
   "cell_type": "code",
   "execution_count": 7,
   "id": "c3ee7195",
   "metadata": {},
   "outputs": [],
   "source": [
    "sents = pd.read_csv(join('all_triples', 'origin_factuality.csv'), compression = 'gzip')"
   ]
  },
  {
   "cell_type": "code",
   "execution_count": 8,
   "id": "63a9539b",
   "metadata": {},
   "outputs": [
    {
     "data": {
      "text/html": [
       "<div>\n",
       "<style scoped>\n",
       "    .dataframe tbody tr th:only-of-type {\n",
       "        vertical-align: middle;\n",
       "    }\n",
       "\n",
       "    .dataframe tbody tr th {\n",
       "        vertical-align: top;\n",
       "    }\n",
       "\n",
       "    .dataframe thead th {\n",
       "        text-align: right;\n",
       "    }\n",
       "</style>\n",
       "<table border=\"1\" class=\"dataframe\">\n",
       "  <thead>\n",
       "    <tr style=\"text-align: right;\">\n",
       "      <th></th>\n",
       "      <th>label</th>\n",
       "      <th>ORIGIN_ID</th>\n",
       "    </tr>\n",
       "  </thead>\n",
       "  <tbody>\n",
       "    <tr>\n",
       "      <th>0</th>\n",
       "      <td>Fact</td>\n",
       "      <td>556236</td>\n",
       "    </tr>\n",
       "    <tr>\n",
       "      <th>1</th>\n",
       "      <td>Fact</td>\n",
       "      <td>2023646</td>\n",
       "    </tr>\n",
       "    <tr>\n",
       "      <th>2</th>\n",
       "      <td>Fact</td>\n",
       "      <td>2023646</td>\n",
       "    </tr>\n",
       "    <tr>\n",
       "      <th>3</th>\n",
       "      <td>Fact</td>\n",
       "      <td>2273984</td>\n",
       "    </tr>\n",
       "    <tr>\n",
       "      <th>4</th>\n",
       "      <td>Fact</td>\n",
       "      <td>55837</td>\n",
       "    </tr>\n",
       "  </tbody>\n",
       "</table>\n",
       "</div>"
      ],
      "text/plain": [
       "  label  ORIGIN_ID\n",
       "0  Fact     556236\n",
       "1  Fact    2023646\n",
       "2  Fact    2023646\n",
       "3  Fact    2273984\n",
       "4  Fact      55837"
      ]
     },
     "execution_count": 8,
     "metadata": {},
     "output_type": "execute_result"
    }
   ],
   "source": [
    "sents.head()"
   ]
  },
  {
   "cell_type": "code",
   "execution_count": 9,
   "id": "7efb7738",
   "metadata": {},
   "outputs": [
    {
     "data": {
      "text/plain": [
       "(113805277, 2)"
      ]
     },
     "execution_count": 9,
     "metadata": {},
     "output_type": "execute_result"
    }
   ],
   "source": [
    "sents.shape"
   ]
  },
  {
   "cell_type": "code",
   "execution_count": 12,
   "id": "30e1e6c8",
   "metadata": {},
   "outputs": [
    {
     "data": {
      "text/plain": [
       "array(['Fact', 'Uncommitted', 'Possible', 'Counterfact', 'Probable',\n",
       "       'Doubtful'], dtype=object)"
      ]
     },
     "execution_count": 12,
     "metadata": {},
     "output_type": "execute_result"
    }
   ],
   "source": [
    "sents['label'].unique()"
   ]
  },
  {
   "cell_type": "code",
   "execution_count": 16,
   "id": "bab50897",
   "metadata": {},
   "outputs": [],
   "source": [
    "probas = gen_proba(origin_facts_df = sents)"
   ]
  },
  {
   "cell_type": "code",
   "execution_count": 23,
   "id": "76626de6",
   "metadata": {},
   "outputs": [
    {
     "data": {
      "text/html": [
       "<div>\n",
       "<style scoped>\n",
       "    .dataframe tbody tr th:only-of-type {\n",
       "        vertical-align: middle;\n",
       "    }\n",
       "\n",
       "    .dataframe tbody tr th {\n",
       "        vertical-align: top;\n",
       "    }\n",
       "\n",
       "    .dataframe thead th {\n",
       "        text-align: right;\n",
       "    }\n",
       "</style>\n",
       "<table border=\"1\" class=\"dataframe\">\n",
       "  <thead>\n",
       "    <tr style=\"text-align: right;\">\n",
       "      <th></th>\n",
       "      <th>label_proba</th>\n",
       "    </tr>\n",
       "    <tr>\n",
       "      <th>ORIGIN_ID</th>\n",
       "      <th></th>\n",
       "    </tr>\n",
       "  </thead>\n",
       "  <tbody>\n",
       "    <tr>\n",
       "      <th>0</th>\n",
       "      <td>1.000000</td>\n",
       "    </tr>\n",
       "    <tr>\n",
       "      <th>1</th>\n",
       "      <td>1.000000</td>\n",
       "    </tr>\n",
       "    <tr>\n",
       "      <th>2</th>\n",
       "      <td>1.000000</td>\n",
       "    </tr>\n",
       "    <tr>\n",
       "      <th>3</th>\n",
       "      <td>1.000000</td>\n",
       "    </tr>\n",
       "    <tr>\n",
       "      <th>4</th>\n",
       "      <td>0.989018</td>\n",
       "    </tr>\n",
       "  </tbody>\n",
       "</table>\n",
       "</div>"
      ],
      "text/plain": [
       "           label_proba\n",
       "ORIGIN_ID             \n",
       "0             1.000000\n",
       "1             1.000000\n",
       "2             1.000000\n",
       "3             1.000000\n",
       "4             0.989018"
      ]
     },
     "execution_count": 23,
     "metadata": {},
     "output_type": "execute_result"
    }
   ],
   "source": [
    "probas.head()"
   ]
  },
  {
   "cell_type": "code",
   "execution_count": 18,
   "id": "14046bfd",
   "metadata": {},
   "outputs": [
    {
     "data": {
      "text/plain": [
       "0.0"
      ]
     },
     "execution_count": 18,
     "metadata": {},
     "output_type": "execute_result"
    }
   ],
   "source": [
    "probas['label_proba'].min()"
   ]
  },
  {
   "cell_type": "code",
   "execution_count": 19,
   "id": "aca38b65",
   "metadata": {},
   "outputs": [
    {
     "data": {
      "text/plain": [
       "1.0"
      ]
     },
     "execution_count": 19,
     "metadata": {},
     "output_type": "execute_result"
    }
   ],
   "source": [
    "probas['label_proba'].max()"
   ]
  },
  {
   "cell_type": "code",
   "execution_count": 20,
   "id": "f08b2c59",
   "metadata": {},
   "outputs": [
    {
     "data": {
      "text/plain": [
       "0.9110480193979422"
      ]
     },
     "execution_count": 20,
     "metadata": {},
     "output_type": "execute_result"
    }
   ],
   "source": [
    "probas['label_proba'].mean()"
   ]
  },
  {
   "cell_type": "code",
   "execution_count": 22,
   "id": "42801b06",
   "metadata": {},
   "outputs": [
    {
     "data": {
      "text/plain": [
       "array([0.        , 0.00342466, 0.00884956, ..., 0.99986552, 0.99986821,\n",
       "       1.        ])"
      ]
     },
     "execution_count": 22,
     "metadata": {},
     "output_type": "execute_result"
    }
   ],
   "source": [
    "np.sort(probas['label_proba'].unique())"
   ]
  },
  {
   "cell_type": "code",
   "execution_count": 25,
   "id": "22f3bc50",
   "metadata": {},
   "outputs": [],
   "source": [
    "probas.reset_index().to_csv(join('all_triples', 'origin_probabilities.csv'), index = False, compression = 'gzip')"
   ]
  },
  {
   "cell_type": "markdown",
   "id": "ebb1e987",
   "metadata": {},
   "source": [
    "## Triple Probabilities"
   ]
  },
  {
   "cell_type": "code",
   "execution_count": 31,
   "id": "f6bcbedb",
   "metadata": {},
   "outputs": [],
   "source": [
    "def get_triple_probas():\n",
    "    print('Origin probas')\n",
    "    probas = pd.read_csv(join('all_triples', 'origin_probabilities.csv'), compression = 'gzip')\n",
    "    print('Canonized triples')\n",
    "    can_triples = pd.read_csv(join('all_triples', 'all_data_triples_can.csv'), compression = 'gzip')\n",
    "    print('Join and Return')\n",
    "    return can_triples.set_index('ORIGIN_ID').join(probas.set_index('ORIGIN_ID'), how='inner').reset_index()\n"
   ]
  },
  {
   "cell_type": "code",
   "execution_count": 32,
   "id": "4580ffef",
   "metadata": {},
   "outputs": [
    {
     "name": "stdout",
     "output_type": "stream",
     "text": [
      "Origin probas\n",
      "Canonized triples\n",
      "Join and Return\n"
     ]
    }
   ],
   "source": [
    "probas = get_triple_probas()"
   ]
  },
  {
   "cell_type": "code",
   "execution_count": 33,
   "id": "f6a04558",
   "metadata": {},
   "outputs": [
    {
     "data": {
      "text/html": [
       "<div>\n",
       "<style scoped>\n",
       "    .dataframe tbody tr th:only-of-type {\n",
       "        vertical-align: middle;\n",
       "    }\n",
       "\n",
       "    .dataframe tbody tr th {\n",
       "        vertical-align: top;\n",
       "    }\n",
       "\n",
       "    .dataframe thead th {\n",
       "        text-align: right;\n",
       "    }\n",
       "</style>\n",
       "<table border=\"1\" class=\"dataframe\">\n",
       "  <thead>\n",
       "    <tr style=\"text-align: right;\">\n",
       "      <th></th>\n",
       "      <th>ORIGIN_ID</th>\n",
       "      <th>PREDICATE</th>\n",
       "      <th>SUBJECT_CUI</th>\n",
       "      <th>OBJECT_CUI</th>\n",
       "      <th>label_proba</th>\n",
       "    </tr>\n",
       "  </thead>\n",
       "  <tbody>\n",
       "    <tr>\n",
       "      <th>0</th>\n",
       "      <td>0</td>\n",
       "      <td>PROCESS_OF</td>\n",
       "      <td>C0003725</td>\n",
       "      <td>C0999630</td>\n",
       "      <td>1.000000</td>\n",
       "    </tr>\n",
       "    <tr>\n",
       "      <th>1</th>\n",
       "      <td>1</td>\n",
       "      <td>ISA</td>\n",
       "      <td>C0039258</td>\n",
       "      <td>C0446169</td>\n",
       "      <td>1.000000</td>\n",
       "    </tr>\n",
       "    <tr>\n",
       "      <th>2</th>\n",
       "      <td>2</td>\n",
       "      <td>ISA</td>\n",
       "      <td>C0318627</td>\n",
       "      <td>C0206590</td>\n",
       "      <td>1.000000</td>\n",
       "    </tr>\n",
       "    <tr>\n",
       "      <th>3</th>\n",
       "      <td>3</td>\n",
       "      <td>ISA</td>\n",
       "      <td>C0446169</td>\n",
       "      <td>C0003725</td>\n",
       "      <td>1.000000</td>\n",
       "    </tr>\n",
       "    <tr>\n",
       "      <th>4</th>\n",
       "      <td>4</td>\n",
       "      <td>PROCESS_OF</td>\n",
       "      <td>C0012634</td>\n",
       "      <td>C0020114</td>\n",
       "      <td>0.989018</td>\n",
       "    </tr>\n",
       "  </tbody>\n",
       "</table>\n",
       "</div>"
      ],
      "text/plain": [
       "   ORIGIN_ID   PREDICATE SUBJECT_CUI OBJECT_CUI  label_proba\n",
       "0          0  PROCESS_OF    C0003725   C0999630     1.000000\n",
       "1          1         ISA    C0039258   C0446169     1.000000\n",
       "2          2         ISA    C0318627   C0206590     1.000000\n",
       "3          3         ISA    C0446169   C0003725     1.000000\n",
       "4          4  PROCESS_OF    C0012634   C0020114     0.989018"
      ]
     },
     "execution_count": 33,
     "metadata": {},
     "output_type": "execute_result"
    }
   ],
   "source": [
    "probas.head()"
   ]
  },
  {
   "cell_type": "code",
   "execution_count": 36,
   "id": "cfedf6e1",
   "metadata": {},
   "outputs": [
    {
     "data": {
      "text/plain": [
       "array([0.        , 0.00342466, 0.00884956, ..., 0.99986552, 0.99986821,\n",
       "       1.        ])"
      ]
     },
     "execution_count": 36,
     "metadata": {},
     "output_type": "execute_result"
    }
   ],
   "source": [
    "np.sort(probas['label_proba'].unique())"
   ]
  },
  {
   "cell_type": "code",
   "execution_count": 37,
   "id": "ab1ed32c",
   "metadata": {},
   "outputs": [],
   "source": [
    "probas.to_csv(join('all_triples', 'triples_probabilities.csv'), index = False, compression = 'gzip')"
   ]
  },
  {
   "cell_type": "markdown",
   "id": "5b3f8700",
   "metadata": {},
   "source": [
    "## Tests"
   ]
  },
  {
   "cell_type": "code",
   "execution_count": 3,
   "id": "fe59d144",
   "metadata": {},
   "outputs": [],
   "source": [
    "sents = pd.read_csv(join('all_triples','sentence_index.csv'), compression = 'gzip')"
   ]
  },
  {
   "cell_type": "code",
   "execution_count": 4,
   "id": "534479fa",
   "metadata": {},
   "outputs": [
    {
     "data": {
      "text/html": [
       "<div>\n",
       "<style scoped>\n",
       "    .dataframe tbody tr th:only-of-type {\n",
       "        vertical-align: middle;\n",
       "    }\n",
       "\n",
       "    .dataframe tbody tr th {\n",
       "        vertical-align: top;\n",
       "    }\n",
       "\n",
       "    .dataframe thead th {\n",
       "        text-align: right;\n",
       "    }\n",
       "</style>\n",
       "<table border=\"1\" class=\"dataframe\">\n",
       "  <thead>\n",
       "    <tr style=\"text-align: right;\">\n",
       "      <th></th>\n",
       "      <th>f_name</th>\n",
       "      <th>SENTENCE_ID</th>\n",
       "    </tr>\n",
       "  </thead>\n",
       "  <tbody>\n",
       "    <tr>\n",
       "      <th>0</th>\n",
       "      <td>split_00</td>\n",
       "      <td>6</td>\n",
       "    </tr>\n",
       "    <tr>\n",
       "      <th>1</th>\n",
       "      <td>split_00</td>\n",
       "      <td>7</td>\n",
       "    </tr>\n",
       "    <tr>\n",
       "      <th>2</th>\n",
       "      <td>split_00</td>\n",
       "      <td>8</td>\n",
       "    </tr>\n",
       "    <tr>\n",
       "      <th>3</th>\n",
       "      <td>split_00</td>\n",
       "      <td>9</td>\n",
       "    </tr>\n",
       "    <tr>\n",
       "      <th>4</th>\n",
       "      <td>split_00</td>\n",
       "      <td>10</td>\n",
       "    </tr>\n",
       "  </tbody>\n",
       "</table>\n",
       "</div>"
      ],
      "text/plain": [
       "     f_name  SENTENCE_ID\n",
       "0  split_00            6\n",
       "1  split_00            7\n",
       "2  split_00            8\n",
       "3  split_00            9\n",
       "4  split_00           10"
      ]
     },
     "execution_count": 4,
     "metadata": {},
     "output_type": "execute_result"
    }
   ],
   "source": [
    "sents.head()"
   ]
  },
  {
   "cell_type": "code",
   "execution_count": 5,
   "id": "c764dbbc",
   "metadata": {},
   "outputs": [],
   "source": [
    "sents = pd.read_csv(join('all_triples','origin_predication.csv'), compression = 'gzip')"
   ]
  },
  {
   "cell_type": "code",
   "execution_count": 6,
   "id": "e0300cb0",
   "metadata": {},
   "outputs": [
    {
     "data": {
      "text/html": [
       "<div>\n",
       "<style scoped>\n",
       "    .dataframe tbody tr th:only-of-type {\n",
       "        vertical-align: middle;\n",
       "    }\n",
       "\n",
       "    .dataframe tbody tr th {\n",
       "        vertical-align: top;\n",
       "    }\n",
       "\n",
       "    .dataframe thead th {\n",
       "        text-align: right;\n",
       "    }\n",
       "</style>\n",
       "<table border=\"1\" class=\"dataframe\">\n",
       "  <thead>\n",
       "    <tr style=\"text-align: right;\">\n",
       "      <th></th>\n",
       "      <th>ORIGIN_ID</th>\n",
       "      <th>PREDICATION_ID</th>\n",
       "      <th>SENTENCE_ID</th>\n",
       "    </tr>\n",
       "  </thead>\n",
       "  <tbody>\n",
       "    <tr>\n",
       "      <th>0</th>\n",
       "      <td>1775772</td>\n",
       "      <td>76299252</td>\n",
       "      <td>10378470</td>\n",
       "    </tr>\n",
       "    <tr>\n",
       "      <th>1</th>\n",
       "      <td>1302567</td>\n",
       "      <td>74851732</td>\n",
       "      <td>24206336</td>\n",
       "    </tr>\n",
       "    <tr>\n",
       "      <th>2</th>\n",
       "      <td>1737760</td>\n",
       "      <td>76177799</td>\n",
       "      <td>26954710</td>\n",
       "    </tr>\n",
       "    <tr>\n",
       "      <th>3</th>\n",
       "      <td>380736</td>\n",
       "      <td>72444077</td>\n",
       "      <td>19247628</td>\n",
       "    </tr>\n",
       "    <tr>\n",
       "      <th>4</th>\n",
       "      <td>29711</td>\n",
       "      <td>15350637</td>\n",
       "      <td>84375</td>\n",
       "    </tr>\n",
       "  </tbody>\n",
       "</table>\n",
       "</div>"
      ],
      "text/plain": [
       "   ORIGIN_ID  PREDICATION_ID  SENTENCE_ID\n",
       "0    1775772        76299252     10378470\n",
       "1    1302567        74851732     24206336\n",
       "2    1737760        76177799     26954710\n",
       "3     380736        72444077     19247628\n",
       "4      29711        15350637        84375"
      ]
     },
     "execution_count": 6,
     "metadata": {},
     "output_type": "execute_result"
    }
   ],
   "source": [
    "sents.head()"
   ]
  },
  {
   "cell_type": "code",
   "execution_count": 7,
   "id": "3ba5bb91",
   "metadata": {},
   "outputs": [],
   "source": [
    "sents = pd.read_csv(join('PREDICATION_AUX','all_combo_index_v2.csv'), compression = 'gzip')"
   ]
  },
  {
   "cell_type": "code",
   "execution_count": 8,
   "id": "21b9a89a",
   "metadata": {},
   "outputs": [
    {
     "data": {
      "text/html": [
       "<div>\n",
       "<style scoped>\n",
       "    .dataframe tbody tr th:only-of-type {\n",
       "        vertical-align: middle;\n",
       "    }\n",
       "\n",
       "    .dataframe tbody tr th {\n",
       "        vertical-align: top;\n",
       "    }\n",
       "\n",
       "    .dataframe thead th {\n",
       "        text-align: right;\n",
       "    }\n",
       "</style>\n",
       "<table border=\"1\" class=\"dataframe\">\n",
       "  <thead>\n",
       "    <tr style=\"text-align: right;\">\n",
       "      <th></th>\n",
       "      <th>PREDICATION_AUX_ID</th>\n",
       "      <th>PREDICATION_ID</th>\n",
       "      <th>SENTENCE_ID</th>\n",
       "      <th>file_name</th>\n",
       "    </tr>\n",
       "  </thead>\n",
       "  <tbody>\n",
       "    <tr>\n",
       "      <th>0</th>\n",
       "      <td>10592600</td>\n",
       "      <td>10592604</td>\n",
       "      <td>16</td>\n",
       "      <td>SENTENCE/split_00.csv.gz</td>\n",
       "    </tr>\n",
       "    <tr>\n",
       "      <th>1</th>\n",
       "      <td>10592679</td>\n",
       "      <td>10592697</td>\n",
       "      <td>17</td>\n",
       "      <td>SENTENCE/split_00.csv.gz</td>\n",
       "    </tr>\n",
       "    <tr>\n",
       "      <th>2</th>\n",
       "      <td>10592713</td>\n",
       "      <td>10592728</td>\n",
       "      <td>17</td>\n",
       "      <td>SENTENCE/split_00.csv.gz</td>\n",
       "    </tr>\n",
       "    <tr>\n",
       "      <th>3</th>\n",
       "      <td>10592749</td>\n",
       "      <td>10592759</td>\n",
       "      <td>17</td>\n",
       "      <td>SENTENCE/split_00.csv.gz</td>\n",
       "    </tr>\n",
       "    <tr>\n",
       "      <th>4</th>\n",
       "      <td>10592816</td>\n",
       "      <td>10592832</td>\n",
       "      <td>18</td>\n",
       "      <td>SENTENCE/split_00.csv.gz</td>\n",
       "    </tr>\n",
       "  </tbody>\n",
       "</table>\n",
       "</div>"
      ],
      "text/plain": [
       "   PREDICATION_AUX_ID  PREDICATION_ID  SENTENCE_ID                 file_name\n",
       "0            10592600        10592604           16  SENTENCE/split_00.csv.gz\n",
       "1            10592679        10592697           17  SENTENCE/split_00.csv.gz\n",
       "2            10592713        10592728           17  SENTENCE/split_00.csv.gz\n",
       "3            10592749        10592759           17  SENTENCE/split_00.csv.gz\n",
       "4            10592816        10592832           18  SENTENCE/split_00.csv.gz"
      ]
     },
     "execution_count": 8,
     "metadata": {},
     "output_type": "execute_result"
    }
   ],
   "source": [
    "sents.head()"
   ]
  },
  {
   "cell_type": "code",
   "execution_count": 4,
   "id": "27f52781",
   "metadata": {},
   "outputs": [],
   "source": [
    "sents = pd.read_csv(join('all_triples','all_data_triples_can.csv'), compression = 'gzip')"
   ]
  },
  {
   "cell_type": "code",
   "execution_count": 5,
   "id": "b12bf346",
   "metadata": {},
   "outputs": [
    {
     "data": {
      "text/html": [
       "<div>\n",
       "<style scoped>\n",
       "    .dataframe tbody tr th:only-of-type {\n",
       "        vertical-align: middle;\n",
       "    }\n",
       "\n",
       "    .dataframe tbody tr th {\n",
       "        vertical-align: top;\n",
       "    }\n",
       "\n",
       "    .dataframe thead th {\n",
       "        text-align: right;\n",
       "    }\n",
       "</style>\n",
       "<table border=\"1\" class=\"dataframe\">\n",
       "  <thead>\n",
       "    <tr style=\"text-align: right;\">\n",
       "      <th></th>\n",
       "      <th>PREDICATE</th>\n",
       "      <th>ORIGIN_ID</th>\n",
       "      <th>SUBJECT_CUI</th>\n",
       "      <th>OBJECT_CUI</th>\n",
       "    </tr>\n",
       "  </thead>\n",
       "  <tbody>\n",
       "    <tr>\n",
       "      <th>0</th>\n",
       "      <td>PROCESS_OF</td>\n",
       "      <td>0</td>\n",
       "      <td>C0003725</td>\n",
       "      <td>C0999630</td>\n",
       "    </tr>\n",
       "    <tr>\n",
       "      <th>1</th>\n",
       "      <td>ISA</td>\n",
       "      <td>1</td>\n",
       "      <td>C0039258</td>\n",
       "      <td>C0446169</td>\n",
       "    </tr>\n",
       "    <tr>\n",
       "      <th>2</th>\n",
       "      <td>ISA</td>\n",
       "      <td>2</td>\n",
       "      <td>C0318627</td>\n",
       "      <td>C0206590</td>\n",
       "    </tr>\n",
       "    <tr>\n",
       "      <th>3</th>\n",
       "      <td>ISA</td>\n",
       "      <td>3</td>\n",
       "      <td>C0446169</td>\n",
       "      <td>C0003725</td>\n",
       "    </tr>\n",
       "    <tr>\n",
       "      <th>4</th>\n",
       "      <td>PROCESS_OF</td>\n",
       "      <td>4</td>\n",
       "      <td>C0012634</td>\n",
       "      <td>C0020114</td>\n",
       "    </tr>\n",
       "  </tbody>\n",
       "</table>\n",
       "</div>"
      ],
      "text/plain": [
       "    PREDICATE  ORIGIN_ID SUBJECT_CUI OBJECT_CUI\n",
       "0  PROCESS_OF          0    C0003725   C0999630\n",
       "1         ISA          1    C0039258   C0446169\n",
       "2         ISA          2    C0318627   C0206590\n",
       "3         ISA          3    C0446169   C0003725\n",
       "4  PROCESS_OF          4    C0012634   C0020114"
      ]
     },
     "execution_count": 5,
     "metadata": {},
     "output_type": "execute_result"
    }
   ],
   "source": [
    "sents.head()"
   ]
  },
  {
   "cell_type": "code",
   "execution_count": null,
   "id": "f8a8f1bc",
   "metadata": {},
   "outputs": [],
   "source": []
  }
 ],
 "metadata": {
  "kernelspec": {
   "display_name": "Python 3 (ipykernel)",
   "language": "python",
   "name": "python3"
  },
  "language_info": {
   "codemirror_mode": {
    "name": "ipython",
    "version": 3
   },
   "file_extension": ".py",
   "mimetype": "text/x-python",
   "name": "python",
   "nbconvert_exporter": "python",
   "pygments_lexer": "ipython3",
   "version": "3.9.16"
  }
 },
 "nbformat": 4,
 "nbformat_minor": 5
}
