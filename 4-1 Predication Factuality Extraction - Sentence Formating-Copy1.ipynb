{
 "cells": [
  {
   "cell_type": "code",
   "execution_count": 1,
   "id": "654ea0bc",
   "metadata": {},
   "outputs": [],
   "source": [
    "# the objective is to splite sentence files and aux_predications into multiple files\n",
    "# each file needs to contains only sentences and aux_preds of the same triple\n",
    "import pandas as pd\n",
    "from glob import glob\n",
    "from os.path import join\n",
    "import gc\n",
    "import gzip\n",
    "from csv import reader\n",
    "from collections import Counter\n",
    "import os\n",
    "from tqdm.notebook import tqdm\n",
    "import numpy as np\n",
    "import json\n",
    "from multiprocessing.pool import Pool, ThreadPool\n",
    "from pathos.multiprocessing import ProcessingPool\n",
    "from concurrent.futures import ProcessPoolExecutor\n",
    "from more_itertools import batched\n",
    "\n",
    "SENTENCE_COLS = [\n",
    "    'SENTENCE_ID','PMID','TYPE','NUMBER','SENT_START_INDEX',\n",
    "    'SENTENCE','SENT_END_INDEX','NORMALIZED_SECTION_HEADER','SECTION_HEADER']\n",
    "PREDICATION_AUX_COLS = ['PREDICATION_AUX_ID' ,'PREDICATION_ID' ,'SUBJECT_TEXT','SUBJECT_DIST'\n",
    ",'SUBJECT_MAXDIST','SUBJECT_START_INDEX'\n",
    ",'SUBJECT_END_INDEX','SUBJECT_SCORE'\n",
    ",'INDICATOR_TYPE','PREDICATE_START_INDEX'\n",
    ",'PREDICATE_END_INDEX','OBJECT_TEXT','OBJECT_DIST'\n",
    ",'OBJECT_MAXDIST','OBJECT_START_INDEX'\n",
    ",'OBJECT_END_INDEX','OBJECT_SCORE'\n",
    ",'CURR_TIMESTAMP']\n",
    "\n",
    "PREDICATION_COLS = ['PREDICATION_ID','SENTENCE_ID','PMID',\n",
    "                        'PREDICATE','SUBJECT_CUI','SUBJECT_NAME','SUBJECT_SEMTYPE',\n",
    "                       'SUBJECT_NOVELTY','OBJECT_CUI','OBJECT_NAME','OBJECT_SEMTYPE','OBJECT_NOVELTY','unk1','unk2','unk3']\n",
    "\n",
    "SENTENCE_DIR = 'SENTENCE'\n",
    "PREDICATION_DIR = 'PREDICATION'\n",
    "PREDICATION_AUX_DIR = 'PREDICATION_AUX'\n"
   ]
  },
  {
   "cell_type": "code",
   "execution_count": 2,
   "id": "32054fa3",
   "metadata": {},
   "outputs": [],
   "source": [
    "# !pip install pathos\n",
    "# !pip install more-itertools\n",
    "# list(batched(list(range(20)), 3))\n",
    "# !pip install -U pandas"
   ]
  },
  {
   "cell_type": "code",
   "execution_count": 3,
   "id": "183e6b6f",
   "metadata": {},
   "outputs": [
    {
     "data": {
      "text/plain": [
       "'1.5.3'"
      ]
     },
     "execution_count": 3,
     "metadata": {},
     "output_type": "execute_result"
    }
   ],
   "source": [
    "pd.__version__"
   ]
  },
  {
   "cell_type": "code",
   "execution_count": 4,
   "id": "eda9f649",
   "metadata": {},
   "outputs": [
    {
     "data": {
      "text/plain": [
       "0"
      ]
     },
     "execution_count": 4,
     "metadata": {},
     "output_type": "execute_result"
    }
   ],
   "source": [
    "import gc\n",
    "\n",
    "gc.collect()"
   ]
  },
  {
   "cell_type": "code",
   "execution_count": 5,
   "id": "b36ada8f",
   "metadata": {},
   "outputs": [],
   "source": [
    "def write_json_lines(file_name,dict_data):\n",
    "    json_string = json.dumps(dict_data)\n",
    "    with open(file_name, 'a') as f:\n",
    "        f.write(json_string+\"\\n\")\n",
    "        \n",
    "def read_json_lines(file_name):\n",
    "    lines = []\n",
    "    with open(file_name) as file_in:\n",
    "        for line in file_in:\n",
    "            lines.append(json.loads(line))\n",
    "    return lines\n",
    "\n",
    "def save_json(data_path, data):\n",
    "    with open(data_path, 'w') as f:\n",
    "        json.dump(data, f)\n",
    "def read_json(data_path):\n",
    "    with open(data_path) as json_file:\n",
    "        data = json.load(json_file)\n",
    "    return data\n"
   ]
  },
  {
   "cell_type": "code",
   "execution_count": 6,
   "id": "e6bc471e",
   "metadata": {},
   "outputs": [],
   "source": [
    "def manual_separation(bad_line):\n",
    "    good_1 = bad_line[:5]\n",
    "    good_2 = bad_line[-3:]\n",
    "    sent_parts = bad_line[5:-3]\n",
    "    sent_parts = [', '.join(sent_parts)]\n",
    "    all_data = good_1+ sent_parts + good_2\n",
    "    return all_data\n",
    "def test_line(bad_line):\n",
    "    print(bad_line)\n",
    "    return bad_line\n",
    "\n",
    "def create_sentence_indexes():\n",
    "    all_files = sorted(glob(join(SENTENCE_DIR,'*.gz')))\n",
    "    print(len(all_files))\n",
    "    for fil in tqdm(all_files):\n",
    "        df = pd.read_csv(fil, on_bad_lines=manual_separation,\n",
    "                 compression= 'gzip', encoding='ISO-8859-1', header=None, names = SENTENCE_COLS, engine='python'\n",
    "        )\n",
    "        df['file_name'] = fil\n",
    "        df[['SENTENCE_ID', 'file_name']].to_csv(join(fil.split('.')[0]+'_index.csv'), index = False)\n",
    "\n",
    "def get_all_index(main_dir):\n",
    "    all_files = sorted(glob(join(main_dir,'*_index.csv')))\n",
    "    all_index = None\n",
    "    for fil in tqdm(all_files):\n",
    "        df = pd.read_csv(fil)\n",
    "        if all_index is None:\n",
    "            all_index = df\n",
    "        else:\n",
    "            all_index = pd.concat([all_index, df], ignore_index = True)\n",
    "    return all_index\n",
    "\n",
    "def create_pred_aux_indexes():\n",
    "    all_files = sorted(glob(join(PREDICATION_AUX_DIR,'*.gz')))\n",
    "    print(len(all_files))\n",
    "    for fil in tqdm(all_files):\n",
    "        df = pd.read_csv(fil, on_bad_lines=test_line,\n",
    "                 compression= 'gzip', encoding='ISO-8859-1', header=None, names = PREDICATION_AUX_COLS, engine='python'\n",
    "        )\n",
    "        df['file_name'] = fil\n",
    "        df[['PREDICATION_AUX_ID', 'PREDICATION_ID', 'file_name']].to_csv(\n",
    "            join(fil.split('.')[0]+'_index.csv'),compression= 'gzip', index = False)\n",
    "\n",
    "def create_pred_indexes():\n",
    "    all_files = sorted(glob(join(PREDICATION_DIR,'*.gz')))\n",
    "    print(len(all_files))\n",
    "    for fil in tqdm(all_files):\n",
    "        df = pd.read_csv(fil, on_bad_lines=test_line,\n",
    "                 compression= 'gzip', encoding='ISO-8859-1', header=None, names = PREDICATION_COLS, engine='python'\n",
    "        )\n",
    "        df['file_name'] = fil\n",
    "        df[['PREDICATION_AUX_ID', 'PREDICATION_ID', 'file_name']].to_csv(\n",
    "            join(fil.split('.')[0]+'_index.csv'),compression= 'gzip', index = False)\n",
    "\n",
    "def create_indexes(main_dir, index_cols):\n",
    "    all_files = sorted(glob(join(main_dir,'*.gz')))\n",
    "    print(len(all_files))\n",
    "    for fil in tqdm(all_files):\n",
    "        df = pd.read_csv(fil, on_bad_lines=test_line,\n",
    "                 compression= 'gzip', encoding='ISO-8859-1', header=None, names = PREDICATION_COLS, engine='python'\n",
    "        )\n",
    "        df['file_name'] = fil\n",
    "        df[index_cols].to_csv(join(fil.split('.')[0]+'_index.csv'),compression= 'gzip', index = False)\n",
    "\n",
    "def mask_triple(sentence, sent_end, s_end, s_start, p_end, p_start, o_end, o_start):\n",
    "    ends = np.array([s_end, p_end, o_end])\n",
    "    starts = np.array([s_start, p_start, o_start])\n",
    "    element = ['s', 'o', 'p']\n",
    "    el_dict = {'s':'@SUBJECT$', 'o':'@OBJECT$', 'p':'@PREDICAT$'}\n",
    "    values = [(start, end, el) for start, end, el in zip(starts, ends, element)]\n",
    "    dtype = [('start', int), ('end', int), ('el', 'S10')]\n",
    "    a = np.array(values, dtype=dtype)       # create a structured array\n",
    "    a = np.sort(a, order='start')\n",
    "#     a[0][0]a[0][1]a[0][2]a[1]a[2]\n",
    "    s = sent_end\n",
    "    sent = sentence[:a[0][0]-s]+el_dict[a[0][2].decode('UTF-8')]+\\\n",
    "    sentence[a[0][1]-s:a[1][0]-s]+el_dict[a[1][2].decode('UTF-8')]+\\\n",
    "    sentence[a[1][1]-s:a[2][0]-s]+el_dict[a[2][2].decode('UTF-8')]+sentence[a[2][1]-s:]\n",
    "    return sent\n",
    "\n",
    "def get_predicate_sent_factuality(df_sent_idx):\n",
    "    all_files = sorted(glob(join(PREDICATION_AUX_DIR,'*.gz')))\n",
    "    print(len(all_files))\n",
    "    save_data = []\n",
    "    save_counter = 0\n",
    "    for fil in tqdm(all_files):\n",
    "#         print(fil)\n",
    "        df = pd.read_csv(\n",
    "            fil, compression= 'gzip', on_bad_lines=test_line, encoding='ISO-8859-1',\n",
    "            header=None, names = PREDICATION_AUX_COLS, engine='python'\n",
    "        )\n",
    "        df = df.merge(df_sent_idx, left_on='PREDICATION_AUX_ID', right_on='PREDICATION_AUX_ID', how = 'inner')\n",
    "        df = df.groupby('file_name')\n",
    "        for file_name, pred_df in df:\n",
    "            sent_df = pd.read_csv(\n",
    "                file_name, compression= 'gzip', on_bad_lines=manual_separation, encoding='ISO-8859-1',\n",
    "                header=None, names = SENTENCE_COLS, engine='python'\n",
    "            )\n",
    "            for i, rec in pred_df.iterrows():\n",
    "                try:\n",
    "                    data = {}\n",
    "                    SENTENCE_ID = rec['SENTENCE_ID']\n",
    "                    PREDICATION_AUX_ID = rec['PREDICATION_AUX_ID']\n",
    "                    PREDICATION_ID = rec['PREDICATION_ID_x']\n",
    "                    sent_data = sent_df[sent_df['SENTENCE_ID']==SENTENCE_ID].to_dict('records')[0]\n",
    "                    SENTENCE = sent_data['SENTENCE']\n",
    "                    SENT_START_INDEX = sent_data['SENT_START_INDEX']\n",
    "                    SENT_END_INDEX = sent_data['SENT_END_INDEX']\n",
    "                    SUBJECT_START_INDEX = rec['SUBJECT_START_INDEX']\n",
    "                    SUBJECT_END_INDEX = rec['SUBJECT_END_INDEX']\n",
    "                    PREDICATE_START_INDEX = rec['PREDICATE_START_INDEX']\n",
    "                    PREDICATE_END_INDEX = rec['PREDICATE_END_INDEX']\n",
    "                    OBJECT_START_INDEX = rec['OBJECT_START_INDEX']\n",
    "                    OBJECT_END_INDEX = rec['OBJECT_END_INDEX']\n",
    "                    formated_sent = mask_triple(\n",
    "                        SENTENCE, SENT_START_INDEX ,\n",
    "                        s_start=SUBJECT_START_INDEX, s_end=SUBJECT_END_INDEX,\n",
    "                        p_start=PREDICATE_START_INDEX, p_end=PREDICATE_END_INDEX,\n",
    "                        o_start=OBJECT_START_INDEX, o_end=OBJECT_END_INDEX)\n",
    "                    data['PREDICATION_AUX_ID'] = PREDICATION_AUX_ID\n",
    "                    data['SENTENCE'] = SENTENCE\n",
    "                    data['FORMATED_SENTENCE'] = formated_sent\n",
    "                    data['file_name'] = file_name\n",
    "                    save_data.append(data)\n",
    "                    if len(save_data)>100:\n",
    "                        save_data = pd.DataFrame(save_data)\n",
    "                        save_data.to_csv(join('Format_sents', 'form_sent_{}.csv'.format(save_counter)), compression = 'gzip' , index = False)\n",
    "                        save_counter += 1\n",
    "                        save_data = []\n",
    "#                     write_json_lines('all_sentences.jsonl',data)\n",
    "                except:\n",
    "                    print(SENTENCE_ID,' : ',SENTENCE)\n",
    "            if len(save_data)>0:\n",
    "                save_data = pd.DataFrame(save_data)\n",
    "                save_data.to_csv(join('Format_sents', 'form_sent_{}.csv'.format(save_counter)), compression = 'gzip' , index = False)\n",
    "                save_data = []\n",
    "#                 return raw_sent\n",
    "# #                 return sent_data, rec\n",
    "#             return sent_df\n",
    "#         return df\n",
    "def get_format_sentences_examples():\n",
    "    all_paths = glob(join('Format_sents', '*.csv'))\n",
    "    "
   ]
  },
  {
   "cell_type": "code",
   "execution_count": 7,
   "id": "f20cfce1",
   "metadata": {},
   "outputs": [
    {
     "data": {
      "text/plain": [
       "'split_01'"
      ]
     },
     "execution_count": 7,
     "metadata": {},
     "output_type": "execute_result"
    }
   ],
   "source": [
    "'split_01.csv.gz'.split('.')[0]"
   ]
  },
  {
   "cell_type": "markdown",
   "id": "c9e34b37",
   "metadata": {},
   "source": [
    "## Spliting zipped CSVs into multiple files"
   ]
  },
  {
   "cell_type": "code",
   "execution_count": null,
   "id": "5fe70020",
   "metadata": {},
   "outputs": [],
   "source": [
    "# gzip -dc semmedVER43_2021_R_SENTENCE.csv | split -C 21G -d - split_ --filter='gzip > $FILE.csv.gz'\n",
    "# pigz -dc semmedVER43_2021_R_SENTENCE.csv | split -C 20M -d - split_ --filter='pigz > $FILE.csv.gz'\n",
    "# pigz -dc semmedVER43_2021_R_PREDICATION_AUX.csv | split -C 20M -d - split_ --filter='pigz > $FILE.csv.gz'"
   ]
  },
  {
   "cell_type": "markdown",
   "id": "cebd3c04",
   "metadata": {},
   "source": [
    "## Creating Sentence File Index"
   ]
  },
  {
   "cell_type": "code",
   "execution_count": null,
   "id": "8e613e17",
   "metadata": {},
   "outputs": [],
   "source": [
    "create_sentence_indexes()"
   ]
  },
  {
   "cell_type": "code",
   "execution_count": null,
   "id": "7b7f8991",
   "metadata": {},
   "outputs": [],
   "source": [
    "df = get_all_index(SENTENCE_DIR)"
   ]
  },
  {
   "cell_type": "code",
   "execution_count": null,
   "id": "6a0d4415",
   "metadata": {},
   "outputs": [],
   "source": [
    "df.shape"
   ]
  },
  {
   "cell_type": "code",
   "execution_count": null,
   "id": "7ac02c5a",
   "metadata": {},
   "outputs": [],
   "source": [
    "df.to_csv(join(SENTENCE_DIR, 'all_index.csv'),index=False)"
   ]
  },
  {
   "cell_type": "markdown",
   "id": "19500537",
   "metadata": {},
   "source": [
    "## Pred AUX Index Creation"
   ]
  },
  {
   "cell_type": "code",
   "execution_count": null,
   "id": "87b78287",
   "metadata": {},
   "outputs": [],
   "source": [
    "create_pred_aux_indexes()"
   ]
  },
  {
   "cell_type": "code",
   "execution_count": null,
   "id": "8b86f169",
   "metadata": {},
   "outputs": [],
   "source": [
    "df = get_all_index(PREDICATION_AUX_DIR)"
   ]
  },
  {
   "cell_type": "code",
   "execution_count": null,
   "id": "8333bb85",
   "metadata": {},
   "outputs": [],
   "source": [
    "df.to_csv(join(PREDICATION_AUX_DIR, 'all_index.csv'),compression= 'gzip',index=False)"
   ]
  },
  {
   "cell_type": "markdown",
   "id": "1eabdb47",
   "metadata": {},
   "source": [
    "## Pred index Creation"
   ]
  },
  {
   "cell_type": "code",
   "execution_count": null,
   "id": "e2d8b9c7",
   "metadata": {},
   "outputs": [],
   "source": [
    "create_indexes(PREDICATION_DIR, ['SENTENCE_ID', 'PREDICATION_ID', 'file_name'])"
   ]
  },
  {
   "cell_type": "code",
   "execution_count": null,
   "id": "b5886fc3",
   "metadata": {},
   "outputs": [],
   "source": [
    "df = get_all_index(PREDICATION_DIR)"
   ]
  },
  {
   "cell_type": "code",
   "execution_count": null,
   "id": "66cb9129",
   "metadata": {},
   "outputs": [],
   "source": [
    "df.to_csv(join(PREDICATION_DIR, 'all_index.csv'),compression= 'gzip',index=False)"
   ]
  },
  {
   "cell_type": "markdown",
   "id": "1d0ffaf7",
   "metadata": {},
   "source": [
    "## Combine Pred and Pred AUX Indeces"
   ]
  },
  {
   "cell_type": "code",
   "execution_count": null,
   "id": "0c1c048f",
   "metadata": {},
   "outputs": [],
   "source": [
    "df_aux = pd.read_csv(join(PREDICATION_AUX_DIR, 'all_index.csv'))\n",
    "df = pd.read_csv(join(PREDICATION_DIR, 'all_index.csv'))"
   ]
  },
  {
   "cell_type": "code",
   "execution_count": null,
   "id": "3dd3f309",
   "metadata": {},
   "outputs": [],
   "source": [
    "df_aux.head()"
   ]
  },
  {
   "cell_type": "code",
   "execution_count": null,
   "id": "349cbf9a",
   "metadata": {},
   "outputs": [],
   "source": [
    "df.head()"
   ]
  },
  {
   "cell_type": "code",
   "execution_count": null,
   "id": "e794662f",
   "metadata": {},
   "outputs": [],
   "source": [
    "df_aux = df_aux.merge(df, left_on='PREDICATION_ID', right_on='PREDICATION_ID', how = 'inner')\n"
   ]
  },
  {
   "cell_type": "code",
   "execution_count": null,
   "id": "22d34478",
   "metadata": {},
   "outputs": [],
   "source": [
    "df.shape"
   ]
  },
  {
   "cell_type": "code",
   "execution_count": null,
   "id": "a96de6ea",
   "metadata": {},
   "outputs": [],
   "source": [
    "df_aux.shape"
   ]
  },
  {
   "cell_type": "code",
   "execution_count": null,
   "id": "d3ddbaa8",
   "metadata": {},
   "outputs": [],
   "source": [
    "df_aux.to_csv(join(PREDICATION_AUX_DIR, 'all_combo_index.csv'),compression= 'gzip',index=False)"
   ]
  },
  {
   "cell_type": "markdown",
   "id": "b1f074bb",
   "metadata": {},
   "source": [
    "## Combine Preds and Sentences"
   ]
  },
  {
   "cell_type": "code",
   "execution_count": null,
   "id": "3283f0d6",
   "metadata": {},
   "outputs": [],
   "source": [
    "df_preds = pd.read_csv(join(PREDICATION_AUX_DIR, 'all_combo_index.csv'),compression= 'gzip')"
   ]
  },
  {
   "cell_type": "code",
   "execution_count": null,
   "id": "d1bca850",
   "metadata": {},
   "outputs": [],
   "source": [
    "del df_preds['file_name_x']\n",
    "del df_preds['file_name_y']"
   ]
  },
  {
   "cell_type": "code",
   "execution_count": null,
   "id": "edcedd1a",
   "metadata": {},
   "outputs": [],
   "source": [
    "df_preds.head()"
   ]
  },
  {
   "cell_type": "code",
   "execution_count": null,
   "id": "0340bdbe",
   "metadata": {},
   "outputs": [],
   "source": [
    "df_sents = pd.read_csv(join(SENTENCE_DIR, 'all_index.csv'),compression= 'gzip')"
   ]
  },
  {
   "cell_type": "code",
   "execution_count": null,
   "id": "6e297455",
   "metadata": {},
   "outputs": [],
   "source": [
    "# df_sents.to_csv(join(SENTENCE_DIR, 'all_index.csv'),compression= 'gzip',index=False)"
   ]
  },
  {
   "cell_type": "code",
   "execution_count": null,
   "id": "fd330c02",
   "metadata": {},
   "outputs": [],
   "source": [
    "df_preds = df_preds.merge(df_sents, left_on='SENTENCE_ID', right_on='SENTENCE_ID', how = 'inner')"
   ]
  },
  {
   "cell_type": "code",
   "execution_count": null,
   "id": "0ef1893d",
   "metadata": {},
   "outputs": [],
   "source": [
    "df_preds.shape"
   ]
  },
  {
   "cell_type": "code",
   "execution_count": null,
   "id": "88057b5e",
   "metadata": {},
   "outputs": [],
   "source": [
    "df_preds.head()"
   ]
  },
  {
   "cell_type": "code",
   "execution_count": null,
   "id": "03b10032",
   "metadata": {},
   "outputs": [],
   "source": [
    "df_preds.to_csv(join(PREDICATION_AUX_DIR, 'all_combo_index_v2.csv'),compression= 'gzip',index=False)"
   ]
  },
  {
   "cell_type": "markdown",
   "id": "60ff5eec",
   "metadata": {},
   "source": [
    "## Creating Sentence Predications"
   ]
  },
  {
   "cell_type": "code",
   "execution_count": null,
   "id": "9c3fa617",
   "metadata": {},
   "outputs": [],
   "source": [
    "df_index = pd.read_csv(join(PREDICATION_AUX_DIR, 'all_combo_index_v2.csv'),compression= 'gzip')"
   ]
  },
  {
   "cell_type": "code",
   "execution_count": null,
   "id": "72a8951d",
   "metadata": {},
   "outputs": [],
   "source": [
    "df_index.head()"
   ]
  },
  {
   "cell_type": "code",
   "execution_count": null,
   "id": "c8f4e744",
   "metadata": {},
   "outputs": [],
   "source": [
    "df = get_predicate_sent_factuality(df_index)"
   ]
  },
  {
   "cell_type": "code",
   "execution_count": null,
   "id": "ef7011bd",
   "metadata": {},
   "outputs": [],
   "source": [
    "df"
   ]
  },
  {
   "cell_type": "code",
   "execution_count": null,
   "id": "1e3359cc",
   "metadata": {},
   "outputs": [],
   "source": [
    "df[0]"
   ]
  },
  {
   "cell_type": "code",
   "execution_count": null,
   "id": "3ac432f8",
   "metadata": {},
   "outputs": [],
   "source": [
    "df[1]"
   ]
  },
  {
   "cell_type": "code",
   "execution_count": null,
   "id": "74e8e376",
   "metadata": {},
   "outputs": [],
   "source": [
    "aa = mask_triple(\n",
    "    df[0]['SENTENCE'], df[0]['SENT_START_INDEX'] ,\n",
    "    s_start=df[1]['SUBJECT_START_INDEX'], s_end=df[1]['SUBJECT_END_INDEX'],\n",
    "    p_start=df[1]['PREDICATE_START_INDEX'], p_end=df[1]['PREDICATE_END_INDEX'],\n",
    "    o_start=df[1]['OBJECT_START_INDEX'], o_end=df[1]['OBJECT_END_INDEX'])"
   ]
  },
  {
   "cell_type": "code",
   "execution_count": null,
   "id": "a8697280",
   "metadata": {},
   "outputs": [],
   "source": [
    "aa"
   ]
  },
  {
   "cell_type": "code",
   "execution_count": null,
   "id": "b00f3250",
   "metadata": {},
   "outputs": [],
   "source": [
    "df[0]['SENTENCE'][69-21:80-21]"
   ]
  },
  {
   "cell_type": "code",
   "execution_count": null,
   "id": "70c73b5d",
   "metadata": {},
   "outputs": [],
   "source": [
    "for i in df.groupby('file_name'):\n",
    "    print(i[-1].shape)"
   ]
  },
  {
   "cell_type": "code",
   "execution_count": null,
   "id": "c6b9c4b4",
   "metadata": {},
   "outputs": [],
   "source": [
    "df[1]"
   ]
  },
  {
   "cell_type": "code",
   "execution_count": null,
   "id": "43328d74",
   "metadata": {},
   "outputs": [],
   "source": [
    "df.head()"
   ]
  },
  {
   "cell_type": "markdown",
   "id": "05f63abc",
   "metadata": {},
   "source": [
    "## Explore formatted sentences"
   ]
  },
  {
   "cell_type": "code",
   "execution_count": null,
   "id": "f7f35b6d",
   "metadata": {},
   "outputs": [],
   "source": [
    "all_sent_files = glob(join('Format_sents', '*.csv'))"
   ]
  },
  {
   "cell_type": "code",
   "execution_count": null,
   "id": "75c8f509",
   "metadata": {},
   "outputs": [],
   "source": [
    "all_sent_files = os.listdir(join('Format_sents'))"
   ]
  },
  {
   "cell_type": "code",
   "execution_count": null,
   "id": "6ad598a7",
   "metadata": {},
   "outputs": [],
   "source": [
    "all_sent_files"
   ]
  },
  {
   "cell_type": "code",
   "execution_count": null,
   "id": "c37bfa61",
   "metadata": {},
   "outputs": [],
   "source": [
    "max([int(i.split('_')[-1].split('.')[0]) for i in all_sent_files])"
   ]
  },
  {
   "cell_type": "code",
   "execution_count": null,
   "id": "3ba0ccbc",
   "metadata": {},
   "outputs": [],
   "source": [
    "pd.read_csv(join('Format_sents',all_sent_files[0]), compression = 'gzip')"
   ]
  },
  {
   "cell_type": "code",
   "execution_count": null,
   "id": "ea10ac6c",
   "metadata": {},
   "outputs": [],
   "source": [
    "pd.read_csv(join('Format_sents','labeled_sent'+'_'+all_sent_files[0].split('_')[-1]), compression = 'gzip')"
   ]
  },
  {
   "cell_type": "code",
   "execution_count": 5,
   "id": "0ca8d29d",
   "metadata": {},
   "outputs": [],
   "source": [
    "FACTUALITY_INT = ['Uncommitted', 'Fact',\n",
    "                  'Probable', 'Possible', 'Counterfact',\n",
    "                  'Doubtful', 'Conditional']\n",
    "# , 'Conditional':[]\n",
    "def get_factuality_sentence_samples(max_sample = 20):\n",
    "    all_data = {'Uncommitted':[], 'Fact':[],\n",
    "                  'Probable':[], 'Possible':[], 'Counterfact':[],\n",
    "                  'Doubtful':[]}\n",
    "    total_runs = 1126784\n",
    "    pbar = tqdm(total = total_runs)\n",
    "    for i in range(total_runs):\n",
    "        sents = pd.read_csv(join('Format_sents', 'form_sent_{}.csv'.format(i)), compression ='gzip')\n",
    "        labels = pd.read_csv(join('Format_sents', 'labeled_sent_{}.csv'.format(i)), compression ='gzip')\n",
    "        fact_map = dict(zip(labels['PREDICATION_AUX_ID'], labels['label']))\n",
    "        sents['labels'] = sents['PREDICATION_AUX_ID'].map(fact_map)\n",
    "#         print(sents['labels'].unique())\n",
    "        for label in all_data:\n",
    "            label_df = sents[sents['labels'] == label]\n",
    "            sample_size = min([max_sample-len(all_data[label]), label_df.shape[0]-len(all_data[label])])\n",
    "            if sample_size>0:\n",
    "                all_data[label] += label_df.sample(sample_size).to_dict('records')\n",
    "                \n",
    "        avg_num = {label: len(all_data[label]) for label in all_data}\n",
    "#         print(avg_num)\n",
    "        pbar.set_description('|'.join([k+':'+str(v) for k, v in avg_num.items()]))\n",
    "        avg_num = sum(list(avg_num.values()))/len(all_data)\n",
    "#         print(avg_num)\n",
    "        if avg_num == max_sample:\n",
    "            break\n",
    "        pbar.update()\n",
    "        \n",
    "    return all_data"
   ]
  },
  {
   "cell_type": "code",
   "execution_count": null,
   "id": "67379ee7",
   "metadata": {},
   "outputs": [],
   "source": [
    "class_data = get_factuality_sentence_samples()"
   ]
  },
  {
   "cell_type": "code",
   "execution_count": null,
   "id": "4501e0e4",
   "metadata": {},
   "outputs": [],
   "source": [
    "from IPython.display import display"
   ]
  },
  {
   "cell_type": "code",
   "execution_count": 7,
   "id": "3ac68a5b",
   "metadata": {},
   "outputs": [],
   "source": [
    "# !pip install pyarrow"
   ]
  },
  {
   "cell_type": "code",
   "execution_count": null,
   "id": "20365cc2",
   "metadata": {},
   "outputs": [],
   "source": [
    "for c_data in class_data:\n",
    "    print(c_data)\n",
    "    display(pd.DataFrame(class_data[c_data]))"
   ]
  },
  {
   "cell_type": "code",
   "execution_count": null,
   "id": "33a9b7e7",
   "metadata": {},
   "outputs": [],
   "source": [
    "pd.read_csv(join('all_triples', 'origin_predication.csv'), compression = 'gzip')"
   ]
  },
  {
   "cell_type": "code",
   "execution_count": 5,
   "id": "8a3b0703",
   "metadata": {},
   "outputs": [],
   "source": [
    "pred_aux_index = pd.read_csv(join('PREDICATION_AUX', 'all_combo_index_v2.csv'), compression = 'gzip')"
   ]
  },
  {
   "cell_type": "code",
   "execution_count": 6,
   "id": "331b4b31",
   "metadata": {},
   "outputs": [],
   "source": [
    "pred_aux_index = pred_aux_index[['PREDICATION_AUX_ID', 'PREDICATION_ID']]"
   ]
  },
  {
   "cell_type": "code",
   "execution_count": 7,
   "id": "f648980c",
   "metadata": {},
   "outputs": [],
   "source": [
    "# pred_aux_index = pred_aux_index['PREDICATION_ID'].to_dict()"
   ]
  },
  {
   "cell_type": "code",
   "execution_count": 8,
   "id": "3cc56112",
   "metadata": {},
   "outputs": [],
   "source": [
    "# save_json(join('all_triples', 'pred_aux_pred_map.json'), pred_aux_index)\n",
    "pred_aux_index.to_csv(join('all_triples', 'pred_aux_pred_map.csv'), compression = 'gzip', index = False)"
   ]
  },
  {
   "cell_type": "code",
   "execution_count": 9,
   "id": "02b14dfd",
   "metadata": {},
   "outputs": [
    {
     "data": {
      "text/html": [
       "<div>\n",
       "<style scoped>\n",
       "    .dataframe tbody tr th:only-of-type {\n",
       "        vertical-align: middle;\n",
       "    }\n",
       "\n",
       "    .dataframe tbody tr th {\n",
       "        vertical-align: top;\n",
       "    }\n",
       "\n",
       "    .dataframe thead th {\n",
       "        text-align: right;\n",
       "    }\n",
       "</style>\n",
       "<table border=\"1\" class=\"dataframe\">\n",
       "  <thead>\n",
       "    <tr style=\"text-align: right;\">\n",
       "      <th></th>\n",
       "      <th>Unnamed: 0</th>\n",
       "      <th>PREDICATION_AUX_ID</th>\n",
       "      <th>PREDICATION_ID</th>\n",
       "    </tr>\n",
       "  </thead>\n",
       "  <tbody>\n",
       "    <tr>\n",
       "      <th>0</th>\n",
       "      <td>0</td>\n",
       "      <td>10592600</td>\n",
       "      <td>10592604</td>\n",
       "    </tr>\n",
       "    <tr>\n",
       "      <th>1</th>\n",
       "      <td>1</td>\n",
       "      <td>10592679</td>\n",
       "      <td>10592697</td>\n",
       "    </tr>\n",
       "    <tr>\n",
       "      <th>2</th>\n",
       "      <td>2</td>\n",
       "      <td>10592713</td>\n",
       "      <td>10592728</td>\n",
       "    </tr>\n",
       "    <tr>\n",
       "      <th>3</th>\n",
       "      <td>3</td>\n",
       "      <td>10592749</td>\n",
       "      <td>10592759</td>\n",
       "    </tr>\n",
       "    <tr>\n",
       "      <th>4</th>\n",
       "      <td>4</td>\n",
       "      <td>10592816</td>\n",
       "      <td>10592832</td>\n",
       "    </tr>\n",
       "    <tr>\n",
       "      <th>...</th>\n",
       "      <td>...</td>\n",
       "      <td>...</td>\n",
       "      <td>...</td>\n",
       "    </tr>\n",
       "    <tr>\n",
       "      <th>114827822</th>\n",
       "      <td>114827822</td>\n",
       "      <td>197488007</td>\n",
       "      <td>197481959</td>\n",
       "    </tr>\n",
       "    <tr>\n",
       "      <th>114827823</th>\n",
       "      <td>114827823</td>\n",
       "      <td>197488008</td>\n",
       "      <td>197481960</td>\n",
       "    </tr>\n",
       "    <tr>\n",
       "      <th>114827824</th>\n",
       "      <td>114827824</td>\n",
       "      <td>197488009</td>\n",
       "      <td>197481961</td>\n",
       "    </tr>\n",
       "    <tr>\n",
       "      <th>114827825</th>\n",
       "      <td>114827825</td>\n",
       "      <td>197488010</td>\n",
       "      <td>197481962</td>\n",
       "    </tr>\n",
       "    <tr>\n",
       "      <th>114827826</th>\n",
       "      <td>114827826</td>\n",
       "      <td>197488011</td>\n",
       "      <td>197481963</td>\n",
       "    </tr>\n",
       "  </tbody>\n",
       "</table>\n",
       "<p>114827827 rows × 3 columns</p>\n",
       "</div>"
      ],
      "text/plain": [
       "           Unnamed: 0  PREDICATION_AUX_ID  PREDICATION_ID\n",
       "0                   0            10592600        10592604\n",
       "1                   1            10592679        10592697\n",
       "2                   2            10592713        10592728\n",
       "3                   3            10592749        10592759\n",
       "4                   4            10592816        10592832\n",
       "...               ...                 ...             ...\n",
       "114827822   114827822           197488007       197481959\n",
       "114827823   114827823           197488008       197481960\n",
       "114827824   114827824           197488009       197481961\n",
       "114827825   114827825           197488010       197481962\n",
       "114827826   114827826           197488011       197481963\n",
       "\n",
       "[114827827 rows x 3 columns]"
      ]
     },
     "execution_count": 9,
     "metadata": {},
     "output_type": "execute_result"
    }
   ],
   "source": [
    "pd.read_csv(join('all_triples', 'pred_aux_pred_map.csv'), compression = 'gzip')"
   ]
  },
  {
   "cell_type": "code",
   "execution_count": 11,
   "id": "688ecaf2",
   "metadata": {},
   "outputs": [],
   "source": [
    "del pred_aux_index"
   ]
  },
  {
   "cell_type": "code",
   "execution_count": 12,
   "id": "aad7a3d9",
   "metadata": {},
   "outputs": [],
   "source": [
    "# pred_aux_index = dict(zip(pred_aux_index['PREDICATION_AUX_ID'], pred_aux_index['PREDICATION_ID']))\n"
   ]
  },
  {
   "cell_type": "code",
   "execution_count": 13,
   "id": "db6a61f7",
   "metadata": {},
   "outputs": [],
   "source": [
    "o_pred_df = pd.read_csv(join('all_triples', 'origin_predication.csv'), compression = 'gzip')"
   ]
  },
  {
   "cell_type": "code",
   "execution_count": 15,
   "id": "b2e9eb7f",
   "metadata": {},
   "outputs": [],
   "source": [
    "# o_pred_df = o_pred_df.set_index(['PREDICATION_ID', 'ORIGIN_ID'])\n",
    "o_pred_df = o_pred_df[['PREDICATION_ID', 'ORIGIN_ID']]"
   ]
  },
  {
   "cell_type": "code",
   "execution_count": 16,
   "id": "a77c805a",
   "metadata": {},
   "outputs": [
    {
     "data": {
      "text/html": [
       "<div>\n",
       "<style scoped>\n",
       "    .dataframe tbody tr th:only-of-type {\n",
       "        vertical-align: middle;\n",
       "    }\n",
       "\n",
       "    .dataframe tbody tr th {\n",
       "        vertical-align: top;\n",
       "    }\n",
       "\n",
       "    .dataframe thead th {\n",
       "        text-align: right;\n",
       "    }\n",
       "</style>\n",
       "<table border=\"1\" class=\"dataframe\">\n",
       "  <thead>\n",
       "    <tr style=\"text-align: right;\">\n",
       "      <th></th>\n",
       "      <th>PREDICATION_ID</th>\n",
       "      <th>ORIGIN_ID</th>\n",
       "    </tr>\n",
       "  </thead>\n",
       "  <tbody>\n",
       "    <tr>\n",
       "      <th>0</th>\n",
       "      <td>76299252</td>\n",
       "      <td>1775772</td>\n",
       "    </tr>\n",
       "    <tr>\n",
       "      <th>1</th>\n",
       "      <td>74851732</td>\n",
       "      <td>1302567</td>\n",
       "    </tr>\n",
       "    <tr>\n",
       "      <th>2</th>\n",
       "      <td>76177799</td>\n",
       "      <td>1737760</td>\n",
       "    </tr>\n",
       "    <tr>\n",
       "      <th>3</th>\n",
       "      <td>72444077</td>\n",
       "      <td>380736</td>\n",
       "    </tr>\n",
       "    <tr>\n",
       "      <th>4</th>\n",
       "      <td>15350637</td>\n",
       "      <td>29711</td>\n",
       "    </tr>\n",
       "    <tr>\n",
       "      <th>...</th>\n",
       "      <td>...</td>\n",
       "      <td>...</td>\n",
       "    </tr>\n",
       "    <tr>\n",
       "      <th>115525914</th>\n",
       "      <td>195239203</td>\n",
       "      <td>23425206</td>\n",
       "    </tr>\n",
       "    <tr>\n",
       "      <th>115525915</th>\n",
       "      <td>195239206</td>\n",
       "      <td>23425206</td>\n",
       "    </tr>\n",
       "    <tr>\n",
       "      <th>115525916</th>\n",
       "      <td>197412490</td>\n",
       "      <td>23841294</td>\n",
       "    </tr>\n",
       "    <tr>\n",
       "      <th>115525917</th>\n",
       "      <td>197412498</td>\n",
       "      <td>23841294</td>\n",
       "    </tr>\n",
       "    <tr>\n",
       "      <th>115525918</th>\n",
       "      <td>196850371</td>\n",
       "      <td>23722919</td>\n",
       "    </tr>\n",
       "  </tbody>\n",
       "</table>\n",
       "<p>115525919 rows × 2 columns</p>\n",
       "</div>"
      ],
      "text/plain": [
       "           PREDICATION_ID  ORIGIN_ID\n",
       "0                76299252    1775772\n",
       "1                74851732    1302567\n",
       "2                76177799    1737760\n",
       "3                72444077     380736\n",
       "4                15350637      29711\n",
       "...                   ...        ...\n",
       "115525914       195239203   23425206\n",
       "115525915       195239206   23425206\n",
       "115525916       197412490   23841294\n",
       "115525917       197412498   23841294\n",
       "115525918       196850371   23722919\n",
       "\n",
       "[115525919 rows x 2 columns]"
      ]
     },
     "execution_count": 16,
     "metadata": {},
     "output_type": "execute_result"
    }
   ],
   "source": [
    "o_pred_df"
   ]
  },
  {
   "cell_type": "code",
   "execution_count": 17,
   "id": "096885b9",
   "metadata": {},
   "outputs": [],
   "source": [
    "# o_pred_df = o_pred_df['ORIGIN_ID'].to_dict()"
   ]
  },
  {
   "cell_type": "code",
   "execution_count": 18,
   "id": "10acb795",
   "metadata": {},
   "outputs": [],
   "source": [
    "# save_json(join('all_triples', 'pred_origin_map.json'), o_pred_df)\n",
    "o_pred_df.to_csv(join('all_triples', 'pred_origin_map.csv'), compression = 'gzip', index = False)"
   ]
  },
  {
   "cell_type": "code",
   "execution_count": 19,
   "id": "dd303876",
   "metadata": {},
   "outputs": [
    {
     "data": {
      "text/html": [
       "<div>\n",
       "<style scoped>\n",
       "    .dataframe tbody tr th:only-of-type {\n",
       "        vertical-align: middle;\n",
       "    }\n",
       "\n",
       "    .dataframe tbody tr th {\n",
       "        vertical-align: top;\n",
       "    }\n",
       "\n",
       "    .dataframe thead th {\n",
       "        text-align: right;\n",
       "    }\n",
       "</style>\n",
       "<table border=\"1\" class=\"dataframe\">\n",
       "  <thead>\n",
       "    <tr style=\"text-align: right;\">\n",
       "      <th></th>\n",
       "      <th>PREDICATION_ID</th>\n",
       "      <th>ORIGIN_ID</th>\n",
       "    </tr>\n",
       "  </thead>\n",
       "  <tbody>\n",
       "    <tr>\n",
       "      <th>0</th>\n",
       "      <td>76299252</td>\n",
       "      <td>1775772</td>\n",
       "    </tr>\n",
       "    <tr>\n",
       "      <th>1</th>\n",
       "      <td>74851732</td>\n",
       "      <td>1302567</td>\n",
       "    </tr>\n",
       "    <tr>\n",
       "      <th>2</th>\n",
       "      <td>76177799</td>\n",
       "      <td>1737760</td>\n",
       "    </tr>\n",
       "    <tr>\n",
       "      <th>3</th>\n",
       "      <td>72444077</td>\n",
       "      <td>380736</td>\n",
       "    </tr>\n",
       "    <tr>\n",
       "      <th>4</th>\n",
       "      <td>15350637</td>\n",
       "      <td>29711</td>\n",
       "    </tr>\n",
       "    <tr>\n",
       "      <th>...</th>\n",
       "      <td>...</td>\n",
       "      <td>...</td>\n",
       "    </tr>\n",
       "    <tr>\n",
       "      <th>115525914</th>\n",
       "      <td>195239203</td>\n",
       "      <td>23425206</td>\n",
       "    </tr>\n",
       "    <tr>\n",
       "      <th>115525915</th>\n",
       "      <td>195239206</td>\n",
       "      <td>23425206</td>\n",
       "    </tr>\n",
       "    <tr>\n",
       "      <th>115525916</th>\n",
       "      <td>197412490</td>\n",
       "      <td>23841294</td>\n",
       "    </tr>\n",
       "    <tr>\n",
       "      <th>115525917</th>\n",
       "      <td>197412498</td>\n",
       "      <td>23841294</td>\n",
       "    </tr>\n",
       "    <tr>\n",
       "      <th>115525918</th>\n",
       "      <td>196850371</td>\n",
       "      <td>23722919</td>\n",
       "    </tr>\n",
       "  </tbody>\n",
       "</table>\n",
       "<p>115525919 rows × 2 columns</p>\n",
       "</div>"
      ],
      "text/plain": [
       "           PREDICATION_ID  ORIGIN_ID\n",
       "0                76299252    1775772\n",
       "1                74851732    1302567\n",
       "2                76177799    1737760\n",
       "3                72444077     380736\n",
       "4                15350637      29711\n",
       "...                   ...        ...\n",
       "115525914       195239203   23425206\n",
       "115525915       195239206   23425206\n",
       "115525916       197412490   23841294\n",
       "115525917       197412498   23841294\n",
       "115525918       196850371   23722919\n",
       "\n",
       "[115525919 rows x 2 columns]"
      ]
     },
     "execution_count": 19,
     "metadata": {},
     "output_type": "execute_result"
    }
   ],
   "source": [
    "pd.read_csv(join('all_triples', 'pred_origin_map.csv'), compression = 'gzip')"
   ]
  },
  {
   "cell_type": "code",
   "execution_count": 20,
   "id": "49ff14aa",
   "metadata": {},
   "outputs": [],
   "source": [
    "del o_pred_df"
   ]
  },
  {
   "cell_type": "code",
   "execution_count": null,
   "id": "9a133f9f",
   "metadata": {},
   "outputs": [],
   "source": [
    "o_pred_df = read_json(join('all_triples', 'pred_origin_map.json'))\n",
    "pred_aux_index = read_json(join('all_triples', 'pred_aux_pred_map.json'))"
   ]
  },
  {
   "cell_type": "code",
   "execution_count": null,
   "id": "057f5c18",
   "metadata": {},
   "outputs": [],
   "source": [
    "o_pred_df = {k: o_pred_df[v] for k, v in pred_aux_index.items()}"
   ]
  },
  {
   "cell_type": "code",
   "execution_count": null,
   "id": "4fdcfcfe",
   "metadata": {},
   "outputs": [],
   "source": [
    "save_json(join('all_triples', 'pred_aux_origin_map.json'), o_pred_df)"
   ]
  },
  {
   "cell_type": "code",
   "execution_count": 5,
   "id": "f6b6c987",
   "metadata": {},
   "outputs": [],
   "source": [
    "def get_map():\n",
    "    pred_aux_index = pd.read_csv(join('PREDICATION_AUX', 'all_index.csv'), chunksize = 1000000)\n",
    "    o_pred_df = pd.read_csv(join('all_triples', 'origin_predication.csv'), compression = 'gzip')\n",
    "    o_pred_df = o_pred_df.set_index('PREDICATION_ID')\n",
    "    for df_ in tqdm(pred_aux_index):\n",
    "        df_ = df_.dropna()\n",
    "        df_ = df_[['PREDICATION_ID', 'PREDICATION_AUX_ID']]\n",
    "        df_ = df_[df_.apply(pd.to_numeric, errors='coerce').notna()].dropna().astype(int)\n",
    "        df_ = df_.set_index('PREDICATION_ID')\n",
    "        \n",
    "#         inter_index = list(set(list(df_.index)).intersection(set(list(o_pred_df.index))))\n",
    "#         o_pred_df.loc[inter_index,'PREDICATION_AUX_ID'] = df_.loc[inter_index, 'PREDICATION_AUX_ID']\n",
    "        o_pred_df.loc[df_.index,'PREDICATION_AUX_ID'] = df_.loc[df_.index, 'PREDICATION_AUX_ID']\n",
    "#     o_pred_df['PREDICATION_AUX_ID'] = o_pred_df['PREDICATION_AUX_ID'].astype(int)\n",
    "    return o_pred_df\n"
   ]
  },
  {
   "cell_type": "code",
   "execution_count": 6,
   "id": "13ea27db",
   "metadata": {
    "scrolled": false
   },
   "outputs": [
    {
     "data": {
      "application/vnd.jupyter.widget-view+json": {
       "model_id": "301de1dd73024fc293beec73c9241131",
       "version_major": 2,
       "version_minor": 0
      },
      "text/plain": [
       "0it [00:00, ?it/s]"
      ]
     },
     "metadata": {},
     "output_type": "display_data"
    },
    {
     "name": "stderr",
     "output_type": "stream",
     "text": [
      "/tmp/ipykernel_49038/104673803.py:1: DtypeWarning: Columns (0,1) have mixed types.Specify dtype option on import or set low_memory=False.\n",
      "  or_map_df = get_map()\n"
     ]
    }
   ],
   "source": [
    "or_map_df = get_map()"
   ]
  },
  {
   "cell_type": "code",
   "execution_count": 7,
   "id": "68bbf933",
   "metadata": {},
   "outputs": [
    {
     "data": {
      "text/html": [
       "<div>\n",
       "<style scoped>\n",
       "    .dataframe tbody tr th:only-of-type {\n",
       "        vertical-align: middle;\n",
       "    }\n",
       "\n",
       "    .dataframe tbody tr th {\n",
       "        vertical-align: top;\n",
       "    }\n",
       "\n",
       "    .dataframe thead th {\n",
       "        text-align: right;\n",
       "    }\n",
       "</style>\n",
       "<table border=\"1\" class=\"dataframe\">\n",
       "  <thead>\n",
       "    <tr style=\"text-align: right;\">\n",
       "      <th></th>\n",
       "      <th>ORIGIN_ID</th>\n",
       "      <th>SENTENCE_ID</th>\n",
       "      <th>PREDICATION_AUX_ID</th>\n",
       "    </tr>\n",
       "    <tr>\n",
       "      <th>PREDICATION_ID</th>\n",
       "      <th></th>\n",
       "      <th></th>\n",
       "      <th></th>\n",
       "    </tr>\n",
       "  </thead>\n",
       "  <tbody>\n",
       "    <tr>\n",
       "      <th>76299252</th>\n",
       "      <td>1775772</td>\n",
       "      <td>10378470</td>\n",
       "      <td>76299234.0</td>\n",
       "    </tr>\n",
       "    <tr>\n",
       "      <th>74851732</th>\n",
       "      <td>1302567</td>\n",
       "      <td>24206336</td>\n",
       "      <td>74851718.0</td>\n",
       "    </tr>\n",
       "    <tr>\n",
       "      <th>76177799</th>\n",
       "      <td>1737760</td>\n",
       "      <td>26954710</td>\n",
       "      <td>76177784.0</td>\n",
       "    </tr>\n",
       "    <tr>\n",
       "      <th>72444077</th>\n",
       "      <td>380736</td>\n",
       "      <td>19247628</td>\n",
       "      <td>72444062.0</td>\n",
       "    </tr>\n",
       "    <tr>\n",
       "      <th>15350637</th>\n",
       "      <td>29711</td>\n",
       "      <td>84375</td>\n",
       "      <td>15350618.0</td>\n",
       "    </tr>\n",
       "    <tr>\n",
       "      <th>...</th>\n",
       "      <td>...</td>\n",
       "      <td>...</td>\n",
       "      <td>...</td>\n",
       "    </tr>\n",
       "    <tr>\n",
       "      <th>195239203</th>\n",
       "      <td>23425206</td>\n",
       "      <td>371250407</td>\n",
       "      <td>195244650.0</td>\n",
       "    </tr>\n",
       "    <tr>\n",
       "      <th>195239206</th>\n",
       "      <td>23425206</td>\n",
       "      <td>371250413</td>\n",
       "      <td>195244653.0</td>\n",
       "    </tr>\n",
       "    <tr>\n",
       "      <th>197412490</th>\n",
       "      <td>23841294</td>\n",
       "      <td>376355376</td>\n",
       "      <td>197418519.0</td>\n",
       "    </tr>\n",
       "    <tr>\n",
       "      <th>197412498</th>\n",
       "      <td>23841294</td>\n",
       "      <td>376355386</td>\n",
       "      <td>197418527.0</td>\n",
       "    </tr>\n",
       "    <tr>\n",
       "      <th>196850371</th>\n",
       "      <td>23722919</td>\n",
       "      <td>375035956</td>\n",
       "      <td>196856211.0</td>\n",
       "    </tr>\n",
       "  </tbody>\n",
       "</table>\n",
       "<p>115525919 rows × 3 columns</p>\n",
       "</div>"
      ],
      "text/plain": [
       "                ORIGIN_ID  SENTENCE_ID  PREDICATION_AUX_ID\n",
       "PREDICATION_ID                                            \n",
       "76299252          1775772     10378470          76299234.0\n",
       "74851732          1302567     24206336          74851718.0\n",
       "76177799          1737760     26954710          76177784.0\n",
       "72444077           380736     19247628          72444062.0\n",
       "15350637            29711        84375          15350618.0\n",
       "...                   ...          ...                 ...\n",
       "195239203        23425206    371250407         195244650.0\n",
       "195239206        23425206    371250413         195244653.0\n",
       "197412490        23841294    376355376         197418519.0\n",
       "197412498        23841294    376355386         197418527.0\n",
       "196850371        23722919    375035956         196856211.0\n",
       "\n",
       "[115525919 rows x 3 columns]"
      ]
     },
     "execution_count": 7,
     "metadata": {},
     "output_type": "execute_result"
    }
   ],
   "source": [
    "or_map_df"
   ]
  },
  {
   "cell_type": "code",
   "execution_count": 8,
   "id": "9effa476",
   "metadata": {},
   "outputs": [
    {
     "data": {
      "text/html": [
       "<div>\n",
       "<style scoped>\n",
       "    .dataframe tbody tr th:only-of-type {\n",
       "        vertical-align: middle;\n",
       "    }\n",
       "\n",
       "    .dataframe tbody tr th {\n",
       "        vertical-align: top;\n",
       "    }\n",
       "\n",
       "    .dataframe thead th {\n",
       "        text-align: right;\n",
       "    }\n",
       "</style>\n",
       "<table border=\"1\" class=\"dataframe\">\n",
       "  <thead>\n",
       "    <tr style=\"text-align: right;\">\n",
       "      <th></th>\n",
       "      <th>ORIGIN_ID</th>\n",
       "      <th>SENTENCE_ID</th>\n",
       "      <th>PREDICATION_AUX_ID</th>\n",
       "    </tr>\n",
       "    <tr>\n",
       "      <th>PREDICATION_ID</th>\n",
       "      <th></th>\n",
       "      <th></th>\n",
       "      <th></th>\n",
       "    </tr>\n",
       "  </thead>\n",
       "  <tbody>\n",
       "    <tr>\n",
       "      <th>75774500</th>\n",
       "      <td>36006</td>\n",
       "      <td>26116576</td>\n",
       "      <td>NaN</td>\n",
       "    </tr>\n",
       "    <tr>\n",
       "      <th>75191084</th>\n",
       "      <td>1418341</td>\n",
       "      <td>24913947</td>\n",
       "      <td>NaN</td>\n",
       "    </tr>\n",
       "    <tr>\n",
       "      <th>73742492</th>\n",
       "      <td>862517</td>\n",
       "      <td>21921506</td>\n",
       "      <td>NaN</td>\n",
       "    </tr>\n",
       "    <tr>\n",
       "      <th>18299998</th>\n",
       "      <td>47956</td>\n",
       "      <td>135276</td>\n",
       "      <td>NaN</td>\n",
       "    </tr>\n",
       "    <tr>\n",
       "      <th>58683523</th>\n",
       "      <td>208098</td>\n",
       "      <td>105126770</td>\n",
       "      <td>NaN</td>\n",
       "    </tr>\n",
       "    <tr>\n",
       "      <th>...</th>\n",
       "      <td>...</td>\n",
       "      <td>...</td>\n",
       "      <td>...</td>\n",
       "    </tr>\n",
       "    <tr>\n",
       "      <th>196192228</th>\n",
       "      <td>23601739</td>\n",
       "      <td>373470218</td>\n",
       "      <td>NaN</td>\n",
       "    </tr>\n",
       "    <tr>\n",
       "      <th>195607944</th>\n",
       "      <td>21383156</td>\n",
       "      <td>372101926</td>\n",
       "      <td>NaN</td>\n",
       "    </tr>\n",
       "    <tr>\n",
       "      <th>196175424</th>\n",
       "      <td>23599671</td>\n",
       "      <td>373430428</td>\n",
       "      <td>NaN</td>\n",
       "    </tr>\n",
       "    <tr>\n",
       "      <th>197391120</th>\n",
       "      <td>23836422</td>\n",
       "      <td>376304793</td>\n",
       "      <td>NaN</td>\n",
       "    </tr>\n",
       "    <tr>\n",
       "      <th>196540467</th>\n",
       "      <td>1213510</td>\n",
       "      <td>374314549</td>\n",
       "      <td>NaN</td>\n",
       "    </tr>\n",
       "  </tbody>\n",
       "</table>\n",
       "<p>33573 rows × 3 columns</p>\n",
       "</div>"
      ],
      "text/plain": [
       "                ORIGIN_ID  SENTENCE_ID  PREDICATION_AUX_ID\n",
       "PREDICATION_ID                                            \n",
       "75774500            36006     26116576                 NaN\n",
       "75191084          1418341     24913947                 NaN\n",
       "73742492           862517     21921506                 NaN\n",
       "18299998            47956       135276                 NaN\n",
       "58683523           208098    105126770                 NaN\n",
       "...                   ...          ...                 ...\n",
       "196192228        23601739    373470218                 NaN\n",
       "195607944        21383156    372101926                 NaN\n",
       "196175424        23599671    373430428                 NaN\n",
       "197391120        23836422    376304793                 NaN\n",
       "196540467         1213510    374314549                 NaN\n",
       "\n",
       "[33573 rows x 3 columns]"
      ]
     },
     "execution_count": 8,
     "metadata": {},
     "output_type": "execute_result"
    }
   ],
   "source": [
    "or_map_df[or_map_df['PREDICATION_AUX_ID'].isna()]"
   ]
  },
  {
   "cell_type": "code",
   "execution_count": 9,
   "id": "22800637",
   "metadata": {},
   "outputs": [],
   "source": [
    "or_map_df.to_csv(join('all_triples', 'origin_pred_pred_aux_map.csv'), compression = 'gzip')"
   ]
  },
  {
   "cell_type": "code",
   "execution_count": 11,
   "id": "13bcf0df",
   "metadata": {},
   "outputs": [
    {
     "data": {
      "text/html": [
       "<div>\n",
       "<style scoped>\n",
       "    .dataframe tbody tr th:only-of-type {\n",
       "        vertical-align: middle;\n",
       "    }\n",
       "\n",
       "    .dataframe tbody tr th {\n",
       "        vertical-align: top;\n",
       "    }\n",
       "\n",
       "    .dataframe thead th {\n",
       "        text-align: right;\n",
       "    }\n",
       "</style>\n",
       "<table border=\"1\" class=\"dataframe\">\n",
       "  <thead>\n",
       "    <tr style=\"text-align: right;\">\n",
       "      <th></th>\n",
       "      <th>PREDICATION_ID</th>\n",
       "      <th>ORIGIN_ID</th>\n",
       "      <th>SENTENCE_ID</th>\n",
       "      <th>PREDICATION_AUX_ID</th>\n",
       "    </tr>\n",
       "  </thead>\n",
       "  <tbody>\n",
       "    <tr>\n",
       "      <th>0</th>\n",
       "      <td>76299252</td>\n",
       "      <td>1775772</td>\n",
       "      <td>10378470</td>\n",
       "      <td>76299234.0</td>\n",
       "    </tr>\n",
       "    <tr>\n",
       "      <th>1</th>\n",
       "      <td>74851732</td>\n",
       "      <td>1302567</td>\n",
       "      <td>24206336</td>\n",
       "      <td>74851718.0</td>\n",
       "    </tr>\n",
       "    <tr>\n",
       "      <th>2</th>\n",
       "      <td>76177799</td>\n",
       "      <td>1737760</td>\n",
       "      <td>26954710</td>\n",
       "      <td>76177784.0</td>\n",
       "    </tr>\n",
       "    <tr>\n",
       "      <th>3</th>\n",
       "      <td>72444077</td>\n",
       "      <td>380736</td>\n",
       "      <td>19247628</td>\n",
       "      <td>72444062.0</td>\n",
       "    </tr>\n",
       "    <tr>\n",
       "      <th>4</th>\n",
       "      <td>15350637</td>\n",
       "      <td>29711</td>\n",
       "      <td>84375</td>\n",
       "      <td>15350618.0</td>\n",
       "    </tr>\n",
       "    <tr>\n",
       "      <th>...</th>\n",
       "      <td>...</td>\n",
       "      <td>...</td>\n",
       "      <td>...</td>\n",
       "      <td>...</td>\n",
       "    </tr>\n",
       "    <tr>\n",
       "      <th>115525914</th>\n",
       "      <td>195239203</td>\n",
       "      <td>23425206</td>\n",
       "      <td>371250407</td>\n",
       "      <td>195244650.0</td>\n",
       "    </tr>\n",
       "    <tr>\n",
       "      <th>115525915</th>\n",
       "      <td>195239206</td>\n",
       "      <td>23425206</td>\n",
       "      <td>371250413</td>\n",
       "      <td>195244653.0</td>\n",
       "    </tr>\n",
       "    <tr>\n",
       "      <th>115525916</th>\n",
       "      <td>197412490</td>\n",
       "      <td>23841294</td>\n",
       "      <td>376355376</td>\n",
       "      <td>197418519.0</td>\n",
       "    </tr>\n",
       "    <tr>\n",
       "      <th>115525917</th>\n",
       "      <td>197412498</td>\n",
       "      <td>23841294</td>\n",
       "      <td>376355386</td>\n",
       "      <td>197418527.0</td>\n",
       "    </tr>\n",
       "    <tr>\n",
       "      <th>115525918</th>\n",
       "      <td>196850371</td>\n",
       "      <td>23722919</td>\n",
       "      <td>375035956</td>\n",
       "      <td>196856211.0</td>\n",
       "    </tr>\n",
       "  </tbody>\n",
       "</table>\n",
       "<p>115525919 rows × 4 columns</p>\n",
       "</div>"
      ],
      "text/plain": [
       "           PREDICATION_ID  ORIGIN_ID  SENTENCE_ID  PREDICATION_AUX_ID\n",
       "0                76299252    1775772     10378470          76299234.0\n",
       "1                74851732    1302567     24206336          74851718.0\n",
       "2                76177799    1737760     26954710          76177784.0\n",
       "3                72444077     380736     19247628          72444062.0\n",
       "4                15350637      29711        84375          15350618.0\n",
       "...                   ...        ...          ...                 ...\n",
       "115525914       195239203   23425206    371250407         195244650.0\n",
       "115525915       195239206   23425206    371250413         195244653.0\n",
       "115525916       197412490   23841294    376355376         197418519.0\n",
       "115525917       197412498   23841294    376355386         197418527.0\n",
       "115525918       196850371   23722919    375035956         196856211.0\n",
       "\n",
       "[115525919 rows x 4 columns]"
      ]
     },
     "execution_count": 11,
     "metadata": {},
     "output_type": "execute_result"
    }
   ],
   "source": [
    "pd.read_csv(join('all_triples', 'origin_pred_pred_aux_map.csv'), compression = 'gzip' )"
   ]
  },
  {
   "cell_type": "code",
   "execution_count": 7,
   "id": "97df0aa3",
   "metadata": {},
   "outputs": [],
   "source": [
    "or_map_df = pd.read_csv(join('all_triples', 'origin_pred_pred_aux_map.csv'), compression = 'gzip', engine = 'pyarrow')"
   ]
  },
  {
   "cell_type": "code",
   "execution_count": 8,
   "id": "40e9738a",
   "metadata": {},
   "outputs": [],
   "source": [
    "or_map_df = or_map_df[~or_map_df['PREDICATION_AUX_ID'].isna()]"
   ]
  },
  {
   "cell_type": "code",
   "execution_count": 9,
   "id": "9d9fab23",
   "metadata": {},
   "outputs": [],
   "source": [
    "or_map_df['PREDICATION_AUX_ID'] = or_map_df['PREDICATION_AUX_ID'].astype(int)"
   ]
  },
  {
   "cell_type": "code",
   "execution_count": 10,
   "id": "07eb0ea4",
   "metadata": {},
   "outputs": [],
   "source": [
    "or_map_df = or_map_df.set_index('PREDICATION_AUX_ID')"
   ]
  },
  {
   "cell_type": "code",
   "execution_count": 11,
   "id": "f0eca44c",
   "metadata": {},
   "outputs": [],
   "source": [
    "# aux_to_origin_map = dict(zip(or_map_df['PREDICATION_AUX_ID'], or_map_df['ORIGIN_ID']))"
   ]
  },
  {
   "cell_type": "code",
   "execution_count": 12,
   "id": "ad4f801f",
   "metadata": {},
   "outputs": [],
   "source": [
    "# aux_to_origin_map\n",
    "# or_map_df.to_dict()"
   ]
  },
  {
   "cell_type": "code",
   "execution_count": 13,
   "id": "04713ed3",
   "metadata": {},
   "outputs": [],
   "source": [
    "def get_triple_evidences(or_map_df):\n",
    "#     total_runs = 1126784\n",
    "    total_runs = len(glob('Format_sents/*'))//2\n",
    "#     pbar = tqdm(total = total_runs)\n",
    "    \n",
    "    def read_csv(meta_path):\n",
    "        def read_csv_(i):\n",
    "            return pd.read_csv(meta_path.format(i), compression ='gzip', engine = 'pyarrow')\n",
    "        return read_csv_\n",
    "    \n",
    "    def read_batched_df(batch):\n",
    "        sents = []\n",
    "        labels = []\n",
    "        meta_sent = join('Format_sents', 'form_sent_{}.csv')\n",
    "        meta_lab = join('Format_sents', 'labeled_sent_{}.csv')\n",
    "        with ProcessingPool(10) as pool:\n",
    "            sents = pd.concat(list(pool.map(read_csv(meta_sent), batch)))\n",
    "            labels = pd.concat(list(pool.map(read_csv(meta_lab), batch)))\n",
    "        return labels, sents\n",
    "\n",
    "    def save_rec(rec):\n",
    "        ORIGIN_ID = rec['ORIGIN_ID']\n",
    "        write_json_lines(join('triple_evidences', '{}.jsonl'.format(ORIGIN_ID)),rec)\n",
    "#     def process_sent_csv(i):\n",
    "#         sents = pd.read_csv(join('Format_sents', 'form_sent_{}.csv'.format(i)), compression ='gzip')\n",
    "#         labels = pd.read_csv(join('Format_sents', 'labeled_sent_{}.csv'.format(i)), compression ='gzip')\n",
    "#         sents['labels'] = labels['label']\n",
    "#         sents = sents.set_index('PREDICATION_AUX_ID')\n",
    "#         sents['ORIGIN_ID'] = or_map_df.loc[sents.index, 'ORIGIN_ID']\n",
    "#         sents['SENTENCE_ID'] = or_map_df.loc[sents.index, 'SENTENCE_ID']\n",
    "#         sents['PREDICATION_ID'] = or_map_df.loc[sents.index, 'PREDICATION_ID']\n",
    "#         del sents['file_name']\n",
    "#         sents = sents.reset_index()\n",
    "#         for i, rec in sents.iterrows():\n",
    "#             ORIGIN_ID = rec['ORIGIN_ID']\n",
    "#             write_json_lines(join('triple_evidences', '{}.jsonl'.format(ORIGIN_ID)),rec.to_dict())\n",
    "# #         with ThreadPool(8) as pool_:\n",
    "# #             pool_.map(save_rec, sents.to_dict('records'))\n",
    "#         pbar.update()\n",
    "        \n",
    "\n",
    "#     with ProcessingPool(10) as pool:\n",
    "#         pool.map(process_sent_csv, list(range(total_runs)))\n",
    "###################\n",
    "#     for i in range(total_runs):\n",
    "#         sents = pd.read_csv(join('Format_sents', 'form_sent_{}.csv'.format(i)), compression ='gzip')\n",
    "#         labels = pd.read_csv(join('Format_sents', 'labeled_sent_{}.csv'.format(i)), compression ='gzip')\n",
    "#         sents['labels'] = labels['label']\n",
    "#         sents = sents.set_index('PREDICATION_AUX_ID')\n",
    "#         sents['ORIGIN_ID'] = or_map_df.loc[sents.index, 'ORIGIN_ID']\n",
    "#         sents['SENTENCE_ID'] = or_map_df.loc[sents.index, 'SENTENCE_ID']\n",
    "#         sents['PREDICATION_ID'] = or_map_df.loc[sents.index, 'PREDICATION_ID']\n",
    "#         del sents['file_name']\n",
    "#         sents = sents.reset_index()\n",
    "# #         return sents\n",
    "# #         with ThreadPool(8) as pool_:\n",
    "# #             pool_.map(save_rec, sents.to_dict('records'))\n",
    "#         for i, rec in sents.iterrows():\n",
    "#             ORIGIN_ID = rec['ORIGIN_ID']\n",
    "#             write_json_lines(join('triple_evidences', '{}.jsonl'.format(ORIGIN_ID)),rec.to_dict())\n",
    "# #         return sents\n",
    "#         pbar.update()\n",
    "######################\n",
    "    \n",
    "    for batch_i in tqdm(list(batched(list(range(total_runs)), 10))):\n",
    "#         print(batch_i)\n",
    "        labels, sents = read_batched_df(batch_i)\n",
    "        sents['labels'] = labels['label']\n",
    "        sents = sents.set_index('PREDICATION_AUX_ID')\n",
    "        sents['ORIGIN_ID'] = or_map_df.loc[sents.index, 'ORIGIN_ID']\n",
    "        sents['SENTENCE_ID'] = or_map_df.loc[sents.index, 'SENTENCE_ID']\n",
    "        sents['PREDICATION_ID'] = or_map_df.loc[sents.index, 'PREDICATION_ID']\n",
    "        del sents['file_name']\n",
    "        sents = sents.reset_index()\n",
    "        with ThreadPool(200) as pool_:\n",
    "            pool_.map(save_rec, sents.to_dict('records'))\n",
    "\n",
    "######################\n",
    "#     or_map_df = or_map_df.copy().reset_index()\n",
    "#     for i in range(total_runs):\n",
    "#         sents = pd.read_csv(join('Format_sents', 'form_sent_{}.csv'.format(i)), compression ='gzip')\n",
    "#         labels = pd.read_csv(join('Format_sents', 'labeled_sent_{}.csv'.format(i)), compression ='gzip')\n",
    "#         sents['labels'] = labels['label']\n",
    "#         index_select = or_map_df['PREDICATION_AUX_ID'].isin(sents['PREDICATION_AUX_ID'])\n",
    "#         sents['ORIGIN_ID'] = list(or_map_df.loc[index_select, :]['ORIGIN_ID'])\n",
    "# #         sents['SENTENCE_ID'] = or_map_df.loc[index_select, 'SENTENCE_ID']\n",
    "# #         sents['PREDICATION_ID'] = or_map_df.loc[index_select, 'PREDICATION_ID']\n",
    "#         del sents['file_name']\n",
    "#         return sents\n",
    "#         sents = sents.reset_index()\n",
    "#         with ThreadPool(8) as pool_:\n",
    "#             pool_.map(save_rec, sents.to_dict('records'))\n",
    "# #         for i, rec in sents.iterrows():\n",
    "# #             ORIGIN_ID = rec['ORIGIN_ID']\n",
    "# #             write_json_lines(join('triple_evidences', '{}.jsonl'.format(ORIGIN_ID)),rec.to_dict())\n",
    "# #         return sents\n",
    "#         pbar.update()\n",
    "        "
   ]
  },
  {
   "cell_type": "code",
   "execution_count": null,
   "id": "c6d6e2ca",
   "metadata": {},
   "outputs": [
    {
     "data": {
      "application/vnd.jupyter.widget-view+json": {
       "model_id": "6eb7e561878842f08a2740366a729eb6",
       "version_major": 2,
       "version_minor": 0
      },
      "text/plain": [
       "  0%|          | 0/112679 [00:00<?, ?it/s]"
      ]
     },
     "metadata": {},
     "output_type": "display_data"
    }
   ],
   "source": [
    "get_triple_evidences(or_map_df)"
   ]
  },
  {
   "cell_type": "code",
   "execution_count": null,
   "id": "2bf73224",
   "metadata": {},
   "outputs": [],
   "source": [
    "\n",
    "\n"
   ]
  }
 ],
 "metadata": {
  "kernelspec": {
   "display_name": "Python 3 (ipykernel)",
   "language": "python",
   "name": "python3"
  },
  "language_info": {
   "codemirror_mode": {
    "name": "ipython",
    "version": 3
   },
   "file_extension": ".py",
   "mimetype": "text/x-python",
   "name": "python",
   "nbconvert_exporter": "python",
   "pygments_lexer": "ipython3",
   "version": "3.9.16"
  }
 },
 "nbformat": 4,
 "nbformat_minor": 5
}
