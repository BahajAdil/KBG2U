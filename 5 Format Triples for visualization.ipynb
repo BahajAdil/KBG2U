{
 "cells": [
  {
   "cell_type": "code",
   "execution_count": 4,
   "id": "302fd35a",
   "metadata": {},
   "outputs": [],
   "source": [
    "import pandas as pd\n",
    "from os.path import join\n",
    "TRIPLES_DIR = 'all_triples'"
   ]
  },
  {
   "cell_type": "code",
   "execution_count": 22,
   "id": "ae149a70",
   "metadata": {},
   "outputs": [],
   "source": [
    "def get_vis_data():\n",
    "    df_triples = pd.read_csv(join(TRIPLES_DIR, 'all_data_triples_can.csv'), compression = 'gzip')\n",
    "    df_ents = pd.read_csv(join(TRIPLES_DIR, 'all_data_entities_can.csv'), compression = 'gzip')\n",
    "    df_triples = df_triples.rename(columns={'SUBJECT_CUI':'source_id', 'OBJECT_CUI':'target_id'})\n",
    "    ent_to_type = df_ents.set_index('ENTITY')['SEMTYPE'].to_dict()\n",
    "    ent_to_name = df_ents.set_index('ENTITY')['NAME'].to_dict()\n",
    "#     df_triples['edge_id'] = df_triples['PREDICATE']\n",
    "#     df_triples['edge_type'] = df_triples['PREDICATE']\n",
    "    df_triples['edge_value'] = 1\n",
    "    df_triples['source_name'] = df_triples['source_id'].map(ent_to_name)\n",
    "    df_triples['source_type'] = df_triples['source_id'].map(ent_to_type)\n",
    "    df_triples['target_name'] = df_triples['target_id'].map(ent_to_name)\n",
    "    df_triples['target_type'] = df_triples['target_id'].map(ent_to_type)\n",
    "    df_triples = df_triples.drop(columns=['PREDICATE', 'ORIGIN_ID'])\n",
    "    return df_triples"
   ]
  },
  {
   "cell_type": "code",
   "execution_count": 23,
   "id": "f079dbab",
   "metadata": {},
   "outputs": [],
   "source": [
    "vis_triples = get_vis_data()"
   ]
  },
  {
   "cell_type": "code",
   "execution_count": 24,
   "id": "1592c536",
   "metadata": {},
   "outputs": [
    {
     "data": {
      "text/html": [
       "<div>\n",
       "<style scoped>\n",
       "    .dataframe tbody tr th:only-of-type {\n",
       "        vertical-align: middle;\n",
       "    }\n",
       "\n",
       "    .dataframe tbody tr th {\n",
       "        vertical-align: top;\n",
       "    }\n",
       "\n",
       "    .dataframe thead th {\n",
       "        text-align: right;\n",
       "    }\n",
       "</style>\n",
       "<table border=\"1\" class=\"dataframe\">\n",
       "  <thead>\n",
       "    <tr style=\"text-align: right;\">\n",
       "      <th></th>\n",
       "      <th>source_id</th>\n",
       "      <th>target_id</th>\n",
       "      <th>edge_value</th>\n",
       "      <th>source_name</th>\n",
       "      <th>source_type</th>\n",
       "      <th>target_name</th>\n",
       "      <th>target_type</th>\n",
       "    </tr>\n",
       "  </thead>\n",
       "  <tbody>\n",
       "    <tr>\n",
       "      <th>0</th>\n",
       "      <td>C0003725</td>\n",
       "      <td>C0999630</td>\n",
       "      <td>1</td>\n",
       "      <td>JUN</td>\n",
       "      <td>aapp</td>\n",
       "      <td>Lepus capensis (organism)</td>\n",
       "      <td>mamm</td>\n",
       "    </tr>\n",
       "    <tr>\n",
       "      <th>1</th>\n",
       "      <td>C0039258</td>\n",
       "      <td>C0446169</td>\n",
       "      <td>1</td>\n",
       "      <td>Tahyna virus</td>\n",
       "      <td>virs</td>\n",
       "      <td>California Group Viruses</td>\n",
       "      <td>virs</td>\n",
       "    </tr>\n",
       "    <tr>\n",
       "      <th>2</th>\n",
       "      <td>C0318627</td>\n",
       "      <td>C0206590</td>\n",
       "      <td>1</td>\n",
       "      <td>Eyach virus</td>\n",
       "      <td>virs</td>\n",
       "      <td>Coltivirus</td>\n",
       "      <td>virs</td>\n",
       "    </tr>\n",
       "    <tr>\n",
       "      <th>3</th>\n",
       "      <td>C0446169</td>\n",
       "      <td>C0003725</td>\n",
       "      <td>1</td>\n",
       "      <td>California Group Viruses</td>\n",
       "      <td>virs</td>\n",
       "      <td>JUN</td>\n",
       "      <td>aapp</td>\n",
       "    </tr>\n",
       "    <tr>\n",
       "      <th>4</th>\n",
       "      <td>C0012634</td>\n",
       "      <td>C0020114</td>\n",
       "      <td>1</td>\n",
       "      <td>Disease</td>\n",
       "      <td>dsyn</td>\n",
       "      <td>Human</td>\n",
       "      <td>grup</td>\n",
       "    </tr>\n",
       "  </tbody>\n",
       "</table>\n",
       "</div>"
      ],
      "text/plain": [
       "  source_id target_id  edge_value               source_name source_type  \\\n",
       "0  C0003725  C0999630           1                       JUN        aapp   \n",
       "1  C0039258  C0446169           1              Tahyna virus        virs   \n",
       "2  C0318627  C0206590           1               Eyach virus        virs   \n",
       "3  C0446169  C0003725           1  California Group Viruses        virs   \n",
       "4  C0012634  C0020114           1                   Disease        dsyn   \n",
       "\n",
       "                 target_name target_type  \n",
       "0  Lepus capensis (organism)        mamm  \n",
       "1   California Group Viruses        virs  \n",
       "2                 Coltivirus        virs  \n",
       "3                        JUN        aapp  \n",
       "4                      Human        grup  "
      ]
     },
     "execution_count": 24,
     "metadata": {},
     "output_type": "execute_result"
    }
   ],
   "source": [
    "vis_triples.head()"
   ]
  },
  {
   "cell_type": "code",
   "execution_count": 25,
   "id": "4153b3b8",
   "metadata": {},
   "outputs": [],
   "source": [
    "vis_triples.to_csv(join(TRIPLES_DIR, 'all_data_triples_can_vis.csv'), index = False)"
   ]
  },
  {
   "cell_type": "code",
   "execution_count": null,
   "id": "8c9dfbb5",
   "metadata": {},
   "outputs": [],
   "source": []
  }
 ],
 "metadata": {
  "kernelspec": {
   "display_name": "Python 3 (ipykernel)",
   "language": "python",
   "name": "python3"
  },
  "language_info": {
   "codemirror_mode": {
    "name": "ipython",
    "version": 3
   },
   "file_extension": ".py",
   "mimetype": "text/x-python",
   "name": "python",
   "nbconvert_exporter": "python",
   "pygments_lexer": "ipython3",
   "version": "3.9.16"
  }
 },
 "nbformat": 4,
 "nbformat_minor": 5
}
