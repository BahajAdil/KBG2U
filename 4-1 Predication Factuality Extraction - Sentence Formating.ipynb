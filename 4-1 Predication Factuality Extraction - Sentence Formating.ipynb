{
 "cells": [
  {
   "cell_type": "code",
   "execution_count": 1,
   "id": "654ea0bc",
   "metadata": {},
   "outputs": [],
   "source": [
    "# the objective is to splite sentence files and aux_predications into multiple files\n",
    "# each file needs to contains only sentences and aux_preds of the same triple\n",
    "import pandas as pd\n",
    "from glob import glob\n",
    "from os.path import join\n",
    "import gc\n",
    "import gzip\n",
    "from csv import reader\n",
    "from collections import Counter\n",
    "import os\n",
    "from tqdm.notebook import tqdm\n",
    "import numpy as np\n",
    "import json\n",
    "from multiprocessing.pool import Pool, ThreadPool\n",
    "from pathos.multiprocessing import ProcessingPool\n",
    "from concurrent.futures import ProcessPoolExecutor\n",
    "from more_itertools import batched\n",
    "\n",
    "SENTENCE_COLS = [\n",
    "    'SENTENCE_ID','PMID','TYPE','NUMBER','SENT_START_INDEX',\n",
    "    'SENTENCE','SENT_END_INDEX','NORMALIZED_SECTION_HEADER','SECTION_HEADER']\n",
    "PREDICATION_AUX_COLS = ['PREDICATION_AUX_ID' ,'PREDICATION_ID' ,'SUBJECT_TEXT','SUBJECT_DIST'\n",
    ",'SUBJECT_MAXDIST','SUBJECT_START_INDEX'\n",
    ",'SUBJECT_END_INDEX','SUBJECT_SCORE'\n",
    ",'INDICATOR_TYPE','PREDICATE_START_INDEX'\n",
    ",'PREDICATE_END_INDEX','OBJECT_TEXT','OBJECT_DIST'\n",
    ",'OBJECT_MAXDIST','OBJECT_START_INDEX'\n",
    ",'OBJECT_END_INDEX','OBJECT_SCORE'\n",
    ",'CURR_TIMESTAMP']\n",
    "\n",
    "PREDICATION_COLS = ['PREDICATION_ID','SENTENCE_ID','PMID',\n",
    "                        'PREDICATE','SUBJECT_CUI','SUBJECT_NAME','SUBJECT_SEMTYPE',\n",
    "                       'SUBJECT_NOVELTY','OBJECT_CUI','OBJECT_NAME','OBJECT_SEMTYPE','OBJECT_NOVELTY','unk1','unk2','unk3']\n",
    "\n",
    "SENTENCE_DIR = 'SENTENCE'\n",
    "PREDICATION_DIR = 'PREDICATION'\n",
    "PREDICATION_AUX_DIR = 'PREDICATION_AUX'\n"
   ]
  },
  {
   "cell_type": "code",
   "execution_count": 2,
   "id": "32054fa3",
   "metadata": {},
   "outputs": [],
   "source": [
    "# !pip install pathos\n",
    "# !pip install more-itertools\n",
    "# list(batched(list(range(20)), 3))\n",
    "# !pip install -U pandas"
   ]
  },
  {
   "cell_type": "code",
   "execution_count": 3,
   "id": "183e6b6f",
   "metadata": {},
   "outputs": [
    {
     "data": {
      "text/plain": [
       "'1.5.3'"
      ]
     },
     "execution_count": 3,
     "metadata": {},
     "output_type": "execute_result"
    }
   ],
   "source": [
    "pd.__version__"
   ]
  },
  {
   "cell_type": "code",
   "execution_count": 4,
   "id": "eda9f649",
   "metadata": {},
   "outputs": [
    {
     "data": {
      "text/plain": [
       "0"
      ]
     },
     "execution_count": 4,
     "metadata": {},
     "output_type": "execute_result"
    }
   ],
   "source": [
    "import gc\n",
    "\n",
    "gc.collect()"
   ]
  },
  {
   "cell_type": "code",
   "execution_count": 5,
   "id": "b36ada8f",
   "metadata": {},
   "outputs": [],
   "source": [
    "def write_json_lines(file_name,dict_data):\n",
    "    json_string = json.dumps(dict_data)\n",
    "    with open(file_name, 'a') as f:\n",
    "        f.write(json_string+\"\\n\")\n",
    "        \n",
    "def read_json_lines(file_name):\n",
    "    lines = []\n",
    "    with open(file_name) as file_in:\n",
    "        for line in file_in:\n",
    "            lines.append(json.loads(line))\n",
    "    return lines\n",
    "\n",
    "def save_json(data_path, data):\n",
    "    with open(data_path, 'w') as f:\n",
    "        json.dump(data, f)\n",
    "def read_json(data_path):\n",
    "    with open(data_path) as json_file:\n",
    "        data = json.load(json_file)\n",
    "    return data\n"
   ]
  },
  {
   "cell_type": "code",
   "execution_count": 6,
   "id": "e6bc471e",
   "metadata": {},
   "outputs": [],
   "source": [
    "def manual_separation(bad_line):\n",
    "    good_1 = bad_line[:5]\n",
    "    good_2 = bad_line[-3:]\n",
    "    sent_parts = bad_line[5:-3]\n",
    "    sent_parts = [', '.join(sent_parts)]\n",
    "    all_data = good_1+ sent_parts + good_2\n",
    "    return all_data\n",
    "def test_line(bad_line):\n",
    "    print(bad_line)\n",
    "    return bad_line\n",
    "\n",
    "def create_sentence_indexes():\n",
    "    all_files = sorted(glob(join(SENTENCE_DIR,'*.gz')))\n",
    "    print(len(all_files))\n",
    "    for fil in tqdm(all_files):\n",
    "        df = pd.read_csv(fil, on_bad_lines=manual_separation,\n",
    "                 compression= 'gzip', encoding='ISO-8859-1', header=None, names = SENTENCE_COLS, engine='python'\n",
    "        )\n",
    "        df['file_name'] = fil\n",
    "        df[['SENTENCE_ID', 'file_name']].to_csv(join(fil.split('.')[0]+'_index.csv'), index = False)\n",
    "\n",
    "def get_all_index(main_dir):\n",
    "    all_files = sorted(glob(join(main_dir,'*_index.csv')))\n",
    "    all_index = None\n",
    "    for fil in tqdm(all_files):\n",
    "        df = pd.read_csv(fil)\n",
    "        if all_index is None:\n",
    "            all_index = df\n",
    "        else:\n",
    "            all_index = pd.concat([all_index, df], ignore_index = True)\n",
    "    return all_index\n",
    "\n",
    "def create_pred_aux_indexes():\n",
    "    all_files = sorted(glob(join(PREDICATION_AUX_DIR,'*.gz')))\n",
    "    print(len(all_files))\n",
    "    for fil in tqdm(all_files):\n",
    "        df = pd.read_csv(fil, on_bad_lines=test_line,\n",
    "                 compression= 'gzip', encoding='ISO-8859-1', header=None, names = PREDICATION_AUX_COLS, engine='python'\n",
    "        )\n",
    "        df['file_name'] = fil\n",
    "        df[['PREDICATION_AUX_ID', 'PREDICATION_ID', 'file_name']].to_csv(\n",
    "            join(fil.split('.')[0]+'_index.csv'),compression= 'gzip', index = False)\n",
    "\n",
    "def create_pred_indexes():\n",
    "    all_files = sorted(glob(join(PREDICATION_DIR,'*.gz')))\n",
    "    print(len(all_files))\n",
    "    for fil in tqdm(all_files):\n",
    "        df = pd.read_csv(fil, on_bad_lines=test_line,\n",
    "                 compression= 'gzip', encoding='ISO-8859-1', header=None, names = PREDICATION_COLS, engine='python'\n",
    "        )\n",
    "        df['file_name'] = fil\n",
    "        df[['PREDICATION_AUX_ID', 'PREDICATION_ID', 'file_name']].to_csv(\n",
    "            join(fil.split('.')[0]+'_index.csv'),compression= 'gzip', index = False)\n",
    "\n",
    "def create_indexes(main_dir, index_cols):\n",
    "    all_files = sorted(glob(join(main_dir,'*.gz')))\n",
    "    print(len(all_files))\n",
    "    for fil in tqdm(all_files):\n",
    "        df = pd.read_csv(fil, on_bad_lines=test_line,\n",
    "                 compression= 'gzip', encoding='ISO-8859-1', header=None, names = PREDICATION_COLS, engine='python'\n",
    "        )\n",
    "        df['file_name'] = fil\n",
    "        df[index_cols].to_csv(join(fil.split('.')[0]+'_index.csv'),compression= 'gzip', index = False)\n",
    "\n",
    "def mask_triple(sentence, sent_end, s_end, s_start, p_end, p_start, o_end, o_start):\n",
    "    ends = np.array([s_end, p_end, o_end])\n",
    "    starts = np.array([s_start, p_start, o_start])\n",
    "    element = ['s', 'o', 'p']\n",
    "    el_dict = {'s':'@SUBJECT$', 'o':'@OBJECT$', 'p':'@PREDICAT$'}\n",
    "    values = [(start, end, el) for start, end, el in zip(starts, ends, element)]\n",
    "    dtype = [('start', int), ('end', int), ('el', 'S10')]\n",
    "    a = np.array(values, dtype=dtype)       # create a structured array\n",
    "    a = np.sort(a, order='start')\n",
    "#     a[0][0]a[0][1]a[0][2]a[1]a[2]\n",
    "    s = sent_end\n",
    "    sent = sentence[:a[0][0]-s]+el_dict[a[0][2].decode('UTF-8')]+\\\n",
    "    sentence[a[0][1]-s:a[1][0]-s]+el_dict[a[1][2].decode('UTF-8')]+\\\n",
    "    sentence[a[1][1]-s:a[2][0]-s]+el_dict[a[2][2].decode('UTF-8')]+sentence[a[2][1]-s:]\n",
    "    return sent\n",
    "\n",
    "def get_predicate_sent_factuality(df_sent_idx):\n",
    "    all_files = sorted(glob(join(PREDICATION_AUX_DIR,'*.gz')))\n",
    "    print(len(all_files))\n",
    "    save_data = []\n",
    "    save_counter = 0\n",
    "    for fil in tqdm(all_files):\n",
    "#         print(fil)\n",
    "        df = pd.read_csv(\n",
    "            fil, compression= 'gzip', on_bad_lines=test_line, encoding='ISO-8859-1',\n",
    "            header=None, names = PREDICATION_AUX_COLS, engine='python'\n",
    "        )\n",
    "        df = df.merge(df_sent_idx, left_on='PREDICATION_AUX_ID', right_on='PREDICATION_AUX_ID', how = 'inner')\n",
    "        df = df.groupby('file_name')\n",
    "        for file_name, pred_df in df:\n",
    "            sent_df = pd.read_csv(\n",
    "                file_name, compression= 'gzip', on_bad_lines=manual_separation, encoding='ISO-8859-1',\n",
    "                header=None, names = SENTENCE_COLS, engine='python'\n",
    "            )\n",
    "            for i, rec in pred_df.iterrows():\n",
    "                try:\n",
    "                    data = {}\n",
    "                    SENTENCE_ID = rec['SENTENCE_ID']\n",
    "                    PREDICATION_AUX_ID = rec['PREDICATION_AUX_ID']\n",
    "                    PREDICATION_ID = rec['PREDICATION_ID_x']\n",
    "                    sent_data = sent_df[sent_df['SENTENCE_ID']==SENTENCE_ID].to_dict('records')[0]\n",
    "                    SENTENCE = sent_data['SENTENCE']\n",
    "                    SENT_START_INDEX = sent_data['SENT_START_INDEX']\n",
    "                    SENT_END_INDEX = sent_data['SENT_END_INDEX']\n",
    "                    SUBJECT_START_INDEX = rec['SUBJECT_START_INDEX']\n",
    "                    SUBJECT_END_INDEX = rec['SUBJECT_END_INDEX']\n",
    "                    PREDICATE_START_INDEX = rec['PREDICATE_START_INDEX']\n",
    "                    PREDICATE_END_INDEX = rec['PREDICATE_END_INDEX']\n",
    "                    OBJECT_START_INDEX = rec['OBJECT_START_INDEX']\n",
    "                    OBJECT_END_INDEX = rec['OBJECT_END_INDEX']\n",
    "                    formated_sent = mask_triple(\n",
    "                        SENTENCE, SENT_START_INDEX ,\n",
    "                        s_start=SUBJECT_START_INDEX, s_end=SUBJECT_END_INDEX,\n",
    "                        p_start=PREDICATE_START_INDEX, p_end=PREDICATE_END_INDEX,\n",
    "                        o_start=OBJECT_START_INDEX, o_end=OBJECT_END_INDEX)\n",
    "                    data['PREDICATION_AUX_ID'] = PREDICATION_AUX_ID\n",
    "                    data['SENTENCE'] = SENTENCE\n",
    "                    data['FORMATED_SENTENCE'] = formated_sent\n",
    "                    data['file_name'] = file_name\n",
    "                    save_data.append(data)\n",
    "                    if len(save_data)>100:\n",
    "                        save_data = pd.DataFrame(save_data)\n",
    "                        save_data.to_csv(join('Format_sents', 'form_sent_{}.csv'.format(save_counter)), compression = 'gzip' , index = False)\n",
    "                        save_counter += 1\n",
    "                        save_data = []\n",
    "#                     write_json_lines('all_sentences.jsonl',data)\n",
    "                except:\n",
    "                    print(SENTENCE_ID,' : ',SENTENCE)\n",
    "            if len(save_data)>0:\n",
    "                save_data = pd.DataFrame(save_data)\n",
    "                save_data.to_csv(join('Format_sents', 'form_sent_{}.csv'.format(save_counter)), compression = 'gzip' , index = False)\n",
    "                save_data = []\n",
    "#                 return raw_sent\n",
    "# #                 return sent_data, rec\n",
    "#             return sent_df\n",
    "#         return df\n",
    "def get_format_sentences_examples():\n",
    "    all_paths = glob(join('Format_sents', '*.csv'))\n",
    "    "
   ]
  },
  {
   "cell_type": "code",
   "execution_count": 7,
   "id": "f20cfce1",
   "metadata": {},
   "outputs": [
    {
     "data": {
      "text/plain": [
       "'split_01'"
      ]
     },
     "execution_count": 7,
     "metadata": {},
     "output_type": "execute_result"
    }
   ],
   "source": [
    "'split_01.csv.gz'.split('.')[0]"
   ]
  },
  {
   "cell_type": "markdown",
   "id": "c9e34b37",
   "metadata": {},
   "source": [
    "## Spliting zipped CSVs into multiple files"
   ]
  },
  {
   "cell_type": "code",
   "execution_count": null,
   "id": "5fe70020",
   "metadata": {},
   "outputs": [],
   "source": [
    "# gzip -dc semmedVER43_2021_R_SENTENCE.csv | split -C 21G -d - split_ --filter='gzip > $FILE.csv.gz'\n",
    "# pigz -dc semmedVER43_2021_R_SENTENCE.csv | split -C 20M -d - split_ --filter='pigz > $FILE.csv.gz'\n",
    "# pigz -dc semmedVER43_2021_R_PREDICATION_AUX.csv | split -C 20M -d - split_ --filter='pigz > $FILE.csv.gz'"
   ]
  },
  {
   "cell_type": "markdown",
   "id": "cebd3c04",
   "metadata": {},
   "source": [
    "## Creating Sentence File Index"
   ]
  },
  {
   "cell_type": "code",
   "execution_count": null,
   "id": "8e613e17",
   "metadata": {},
   "outputs": [],
   "source": [
    "create_sentence_indexes()"
   ]
  },
  {
   "cell_type": "code",
   "execution_count": null,
   "id": "7b7f8991",
   "metadata": {},
   "outputs": [],
   "source": [
    "df = get_all_index(SENTENCE_DIR)"
   ]
  },
  {
   "cell_type": "code",
   "execution_count": null,
   "id": "6a0d4415",
   "metadata": {},
   "outputs": [],
   "source": [
    "df.shape"
   ]
  },
  {
   "cell_type": "code",
   "execution_count": null,
   "id": "7ac02c5a",
   "metadata": {},
   "outputs": [],
   "source": [
    "df.to_csv(join(SENTENCE_DIR, 'all_index.csv'),index=False)"
   ]
  },
  {
   "cell_type": "markdown",
   "id": "19500537",
   "metadata": {},
   "source": [
    "## Pred AUX Index Creation"
   ]
  },
  {
   "cell_type": "code",
   "execution_count": null,
   "id": "87b78287",
   "metadata": {},
   "outputs": [],
   "source": [
    "create_pred_aux_indexes()"
   ]
  },
  {
   "cell_type": "code",
   "execution_count": null,
   "id": "8b86f169",
   "metadata": {},
   "outputs": [],
   "source": [
    "df = get_all_index(PREDICATION_AUX_DIR)"
   ]
  },
  {
   "cell_type": "code",
   "execution_count": null,
   "id": "8333bb85",
   "metadata": {},
   "outputs": [],
   "source": [
    "df.to_csv(join(PREDICATION_AUX_DIR, 'all_index.csv'),compression= 'gzip',index=False)"
   ]
  },
  {
   "cell_type": "markdown",
   "id": "1eabdb47",
   "metadata": {},
   "source": [
    "## Pred index Creation"
   ]
  },
  {
   "cell_type": "code",
   "execution_count": null,
   "id": "e2d8b9c7",
   "metadata": {},
   "outputs": [],
   "source": [
    "create_indexes(PREDICATION_DIR, ['SENTENCE_ID', 'PREDICATION_ID', 'file_name'])"
   ]
  },
  {
   "cell_type": "code",
   "execution_count": null,
   "id": "b5886fc3",
   "metadata": {},
   "outputs": [],
   "source": [
    "df = get_all_index(PREDICATION_DIR)"
   ]
  },
  {
   "cell_type": "code",
   "execution_count": null,
   "id": "66cb9129",
   "metadata": {},
   "outputs": [],
   "source": [
    "df.to_csv(join(PREDICATION_DIR, 'all_index.csv'),compression= 'gzip',index=False)"
   ]
  },
  {
   "cell_type": "markdown",
   "id": "1d0ffaf7",
   "metadata": {},
   "source": [
    "## Combine Pred and Pred AUX Indeces"
   ]
  },
  {
   "cell_type": "code",
   "execution_count": null,
   "id": "0c1c048f",
   "metadata": {},
   "outputs": [],
   "source": [
    "df_aux = pd.read_csv(join(PREDICATION_AUX_DIR, 'all_index.csv'))\n",
    "df = pd.read_csv(join(PREDICATION_DIR, 'all_index.csv'))"
   ]
  },
  {
   "cell_type": "code",
   "execution_count": null,
   "id": "3dd3f309",
   "metadata": {},
   "outputs": [],
   "source": [
    "df_aux.head()"
   ]
  },
  {
   "cell_type": "code",
   "execution_count": null,
   "id": "349cbf9a",
   "metadata": {},
   "outputs": [],
   "source": [
    "df.head()"
   ]
  },
  {
   "cell_type": "code",
   "execution_count": null,
   "id": "e794662f",
   "metadata": {},
   "outputs": [],
   "source": [
    "df_aux = df_aux.merge(df, left_on='PREDICATION_ID', right_on='PREDICATION_ID', how = 'inner')\n"
   ]
  },
  {
   "cell_type": "code",
   "execution_count": null,
   "id": "22d34478",
   "metadata": {},
   "outputs": [],
   "source": [
    "df.shape"
   ]
  },
  {
   "cell_type": "code",
   "execution_count": null,
   "id": "a96de6ea",
   "metadata": {},
   "outputs": [],
   "source": [
    "df_aux.shape"
   ]
  },
  {
   "cell_type": "code",
   "execution_count": null,
   "id": "d3ddbaa8",
   "metadata": {},
   "outputs": [],
   "source": [
    "df_aux.to_csv(join(PREDICATION_AUX_DIR, 'all_combo_index.csv'),compression= 'gzip',index=False)"
   ]
  },
  {
   "cell_type": "markdown",
   "id": "b1f074bb",
   "metadata": {},
   "source": [
    "## Combine Preds and Sentences"
   ]
  },
  {
   "cell_type": "code",
   "execution_count": null,
   "id": "3283f0d6",
   "metadata": {},
   "outputs": [],
   "source": [
    "df_preds = pd.read_csv(join(PREDICATION_AUX_DIR, 'all_combo_index.csv'),compression= 'gzip')"
   ]
  },
  {
   "cell_type": "code",
   "execution_count": null,
   "id": "d1bca850",
   "metadata": {},
   "outputs": [],
   "source": [
    "del df_preds['file_name_x']\n",
    "del df_preds['file_name_y']"
   ]
  },
  {
   "cell_type": "code",
   "execution_count": null,
   "id": "edcedd1a",
   "metadata": {},
   "outputs": [],
   "source": [
    "df_preds.head()"
   ]
  },
  {
   "cell_type": "code",
   "execution_count": null,
   "id": "0340bdbe",
   "metadata": {},
   "outputs": [],
   "source": [
    "df_sents = pd.read_csv(join(SENTENCE_DIR, 'all_index.csv'),compression= 'gzip')"
   ]
  },
  {
   "cell_type": "code",
   "execution_count": null,
   "id": "6e297455",
   "metadata": {},
   "outputs": [],
   "source": [
    "# df_sents.to_csv(join(SENTENCE_DIR, 'all_index.csv'),compression= 'gzip',index=False)"
   ]
  },
  {
   "cell_type": "code",
   "execution_count": null,
   "id": "fd330c02",
   "metadata": {},
   "outputs": [],
   "source": [
    "df_preds = df_preds.merge(df_sents, left_on='SENTENCE_ID', right_on='SENTENCE_ID', how = 'inner')"
   ]
  },
  {
   "cell_type": "code",
   "execution_count": null,
   "id": "0ef1893d",
   "metadata": {},
   "outputs": [],
   "source": [
    "df_preds.shape"
   ]
  },
  {
   "cell_type": "code",
   "execution_count": null,
   "id": "88057b5e",
   "metadata": {},
   "outputs": [],
   "source": [
    "df_preds.head()"
   ]
  },
  {
   "cell_type": "code",
   "execution_count": null,
   "id": "03b10032",
   "metadata": {},
   "outputs": [],
   "source": [
    "df_preds.to_csv(join(PREDICATION_AUX_DIR, 'all_combo_index_v2.csv'),compression= 'gzip',index=False)"
   ]
  },
  {
   "cell_type": "markdown",
   "id": "60ff5eec",
   "metadata": {},
   "source": [
    "## Creating Sentence Predications"
   ]
  },
  {
   "cell_type": "code",
   "execution_count": null,
   "id": "9c3fa617",
   "metadata": {},
   "outputs": [],
   "source": [
    "df_index = pd.read_csv(join(PREDICATION_AUX_DIR, 'all_combo_index_v2.csv'),compression= 'gzip')"
   ]
  },
  {
   "cell_type": "code",
   "execution_count": null,
   "id": "72a8951d",
   "metadata": {},
   "outputs": [],
   "source": [
    "df_index.head()"
   ]
  },
  {
   "cell_type": "code",
   "execution_count": null,
   "id": "c8f4e744",
   "metadata": {},
   "outputs": [],
   "source": [
    "df = get_predicate_sent_factuality(df_index)"
   ]
  },
  {
   "cell_type": "code",
   "execution_count": null,
   "id": "ef7011bd",
   "metadata": {},
   "outputs": [],
   "source": [
    "df"
   ]
  },
  {
   "cell_type": "code",
   "execution_count": null,
   "id": "1e3359cc",
   "metadata": {},
   "outputs": [],
   "source": [
    "df[0]"
   ]
  },
  {
   "cell_type": "code",
   "execution_count": null,
   "id": "3ac432f8",
   "metadata": {},
   "outputs": [],
   "source": [
    "df[1]"
   ]
  },
  {
   "cell_type": "code",
   "execution_count": null,
   "id": "74e8e376",
   "metadata": {},
   "outputs": [],
   "source": [
    "aa = mask_triple(\n",
    "    df[0]['SENTENCE'], df[0]['SENT_START_INDEX'] ,\n",
    "    s_start=df[1]['SUBJECT_START_INDEX'], s_end=df[1]['SUBJECT_END_INDEX'],\n",
    "    p_start=df[1]['PREDICATE_START_INDEX'], p_end=df[1]['PREDICATE_END_INDEX'],\n",
    "    o_start=df[1]['OBJECT_START_INDEX'], o_end=df[1]['OBJECT_END_INDEX'])"
   ]
  },
  {
   "cell_type": "code",
   "execution_count": null,
   "id": "a8697280",
   "metadata": {},
   "outputs": [],
   "source": [
    "aa"
   ]
  },
  {
   "cell_type": "code",
   "execution_count": null,
   "id": "b00f3250",
   "metadata": {},
   "outputs": [],
   "source": [
    "df[0]['SENTENCE'][69-21:80-21]"
   ]
  },
  {
   "cell_type": "code",
   "execution_count": null,
   "id": "70c73b5d",
   "metadata": {},
   "outputs": [],
   "source": [
    "for i in df.groupby('file_name'):\n",
    "    print(i[-1].shape)"
   ]
  },
  {
   "cell_type": "code",
   "execution_count": null,
   "id": "c6b9c4b4",
   "metadata": {},
   "outputs": [],
   "source": [
    "df[1]"
   ]
  },
  {
   "cell_type": "code",
   "execution_count": null,
   "id": "43328d74",
   "metadata": {},
   "outputs": [],
   "source": [
    "df.head()"
   ]
  },
  {
   "cell_type": "markdown",
   "id": "05f63abc",
   "metadata": {},
   "source": [
    "## Explore formatted sentences"
   ]
  },
  {
   "cell_type": "code",
   "execution_count": null,
   "id": "f7f35b6d",
   "metadata": {},
   "outputs": [],
   "source": [
    "all_sent_files = glob(join('Format_sents', '*.csv'))"
   ]
  },
  {
   "cell_type": "code",
   "execution_count": null,
   "id": "75c8f509",
   "metadata": {},
   "outputs": [],
   "source": [
    "all_sent_files = os.listdir(join('Format_sents'))"
   ]
  },
  {
   "cell_type": "code",
   "execution_count": null,
   "id": "6ad598a7",
   "metadata": {},
   "outputs": [],
   "source": [
    "all_sent_files"
   ]
  },
  {
   "cell_type": "code",
   "execution_count": null,
   "id": "c37bfa61",
   "metadata": {},
   "outputs": [],
   "source": [
    "max([int(i.split('_')[-1].split('.')[0]) for i in all_sent_files])"
   ]
  },
  {
   "cell_type": "code",
   "execution_count": null,
   "id": "3ba0ccbc",
   "metadata": {},
   "outputs": [],
   "source": [
    "pd.read_csv(join('Format_sents',all_sent_files[0]), compression = 'gzip')"
   ]
  },
  {
   "cell_type": "code",
   "execution_count": null,
   "id": "ea10ac6c",
   "metadata": {},
   "outputs": [],
   "source": [
    "pd.read_csv(join('Format_sents','labeled_sent'+'_'+all_sent_files[0].split('_')[-1]), compression = 'gzip')"
   ]
  },
  {
   "cell_type": "code",
   "execution_count": 5,
   "id": "0ca8d29d",
   "metadata": {},
   "outputs": [],
   "source": [
    "FACTUALITY_INT = ['Uncommitted', 'Fact',\n",
    "                  'Probable', 'Possible', 'Counterfact',\n",
    "                  'Doubtful', 'Conditional']\n",
    "# , 'Conditional':[]\n",
    "def get_factuality_sentence_samples(max_sample = 20):\n",
    "    all_data = {'Uncommitted':[], 'Fact':[],\n",
    "                  'Probable':[], 'Possible':[], 'Counterfact':[],\n",
    "                  'Doubtful':[]}\n",
    "    total_runs = 1126784\n",
    "    pbar = tqdm(total = total_runs)\n",
    "    for i in range(total_runs):\n",
    "        sents = pd.read_csv(join('Format_sents', 'form_sent_{}.csv'.format(i)), compression ='gzip')\n",
    "        labels = pd.read_csv(join('Format_sents', 'labeled_sent_{}.csv'.format(i)), compression ='gzip')\n",
    "        fact_map = dict(zip(labels['PREDICATION_AUX_ID'], labels['label']))\n",
    "        sents['labels'] = sents['PREDICATION_AUX_ID'].map(fact_map)\n",
    "#         print(sents['labels'].unique())\n",
    "        for label in all_data:\n",
    "            label_df = sents[sents['labels'] == label]\n",
    "            sample_size = min([max_sample-len(all_data[label]), label_df.shape[0]-len(all_data[label])])\n",
    "            if sample_size>0:\n",
    "                all_data[label] += label_df.sample(sample_size).to_dict('records')\n",
    "                \n",
    "        avg_num = {label: len(all_data[label]) for label in all_data}\n",
    "#         print(avg_num)\n",
    "        pbar.set_description('|'.join([k+':'+str(v) for k, v in avg_num.items()]))\n",
    "        avg_num = sum(list(avg_num.values()))/len(all_data)\n",
    "#         print(avg_num)\n",
    "        if avg_num == max_sample:\n",
    "            break\n",
    "        pbar.update()\n",
    "        \n",
    "    return all_data"
   ]
  },
  {
   "cell_type": "code",
   "execution_count": null,
   "id": "67379ee7",
   "metadata": {},
   "outputs": [],
   "source": [
    "class_data = get_factuality_sentence_samples()"
   ]
  },
  {
   "cell_type": "code",
   "execution_count": null,
   "id": "4501e0e4",
   "metadata": {},
   "outputs": [],
   "source": [
    "from IPython.display import display"
   ]
  },
  {
   "cell_type": "code",
   "execution_count": 7,
   "id": "3ac68a5b",
   "metadata": {},
   "outputs": [],
   "source": [
    "# !pip install pyarrow"
   ]
  },
  {
   "cell_type": "code",
   "execution_count": null,
   "id": "20365cc2",
   "metadata": {},
   "outputs": [],
   "source": [
    "for c_data in class_data:\n",
    "    print(c_data)\n",
    "    display(pd.DataFrame(class_data[c_data]))"
   ]
  },
  {
   "cell_type": "code",
   "execution_count": null,
   "id": "33a9b7e7",
   "metadata": {},
   "outputs": [],
   "source": [
    "pd.read_csv(join('all_triples', 'origin_predication.csv'), compression = 'gzip')"
   ]
  },
  {
   "cell_type": "code",
   "execution_count": 5,
   "id": "8a3b0703",
   "metadata": {},
   "outputs": [],
   "source": [
    "pred_aux_index = pd.read_csv(join('PREDICATION_AUX', 'all_combo_index_v2.csv'), compression = 'gzip')"
   ]
  },
  {
   "cell_type": "code",
   "execution_count": 6,
   "id": "331b4b31",
   "metadata": {},
   "outputs": [],
   "source": [
    "pred_aux_index = pred_aux_index[['PREDICATION_AUX_ID', 'PREDICATION_ID']]"
   ]
  },
  {
   "cell_type": "code",
   "execution_count": 7,
   "id": "f648980c",
   "metadata": {},
   "outputs": [],
   "source": [
    "# pred_aux_index = pred_aux_index['PREDICATION_ID'].to_dict()"
   ]
  },
  {
   "cell_type": "code",
   "execution_count": 8,
   "id": "3cc56112",
   "metadata": {},
   "outputs": [],
   "source": [
    "# save_json(join('all_triples', 'pred_aux_pred_map.json'), pred_aux_index)\n",
    "pred_aux_index.to_csv(join('all_triples', 'pred_aux_pred_map.csv'), compression = 'gzip', index = False)"
   ]
  },
  {
   "cell_type": "code",
   "execution_count": 9,
   "id": "02b14dfd",
   "metadata": {},
   "outputs": [
    {
     "data": {
      "text/html": [
       "<div>\n",
       "<style scoped>\n",
       "    .dataframe tbody tr th:only-of-type {\n",
       "        vertical-align: middle;\n",
       "    }\n",
       "\n",
       "    .dataframe tbody tr th {\n",
       "        vertical-align: top;\n",
       "    }\n",
       "\n",
       "    .dataframe thead th {\n",
       "        text-align: right;\n",
       "    }\n",
       "</style>\n",
       "<table border=\"1\" class=\"dataframe\">\n",
       "  <thead>\n",
       "    <tr style=\"text-align: right;\">\n",
       "      <th></th>\n",
       "      <th>Unnamed: 0</th>\n",
       "      <th>PREDICATION_AUX_ID</th>\n",
       "      <th>PREDICATION_ID</th>\n",
       "    </tr>\n",
       "  </thead>\n",
       "  <tbody>\n",
       "    <tr>\n",
       "      <th>0</th>\n",
       "      <td>0</td>\n",
       "      <td>10592600</td>\n",
       "      <td>10592604</td>\n",
       "    </tr>\n",
       "    <tr>\n",
       "      <th>1</th>\n",
       "      <td>1</td>\n",
       "      <td>10592679</td>\n",
       "      <td>10592697</td>\n",
       "    </tr>\n",
       "    <tr>\n",
       "      <th>2</th>\n",
       "      <td>2</td>\n",
       "      <td>10592713</td>\n",
       "      <td>10592728</td>\n",
       "    </tr>\n",
       "    <tr>\n",
       "      <th>3</th>\n",
       "      <td>3</td>\n",
       "      <td>10592749</td>\n",
       "      <td>10592759</td>\n",
       "    </tr>\n",
       "    <tr>\n",
       "      <th>4</th>\n",
       "      <td>4</td>\n",
       "      <td>10592816</td>\n",
       "      <td>10592832</td>\n",
       "    </tr>\n",
       "    <tr>\n",
       "      <th>...</th>\n",
       "      <td>...</td>\n",
       "      <td>...</td>\n",
       "      <td>...</td>\n",
       "    </tr>\n",
       "    <tr>\n",
       "      <th>114827822</th>\n",
       "      <td>114827822</td>\n",
       "      <td>197488007</td>\n",
       "      <td>197481959</td>\n",
       "    </tr>\n",
       "    <tr>\n",
       "      <th>114827823</th>\n",
       "      <td>114827823</td>\n",
       "      <td>197488008</td>\n",
       "      <td>197481960</td>\n",
       "    </tr>\n",
       "    <tr>\n",
       "      <th>114827824</th>\n",
       "      <td>114827824</td>\n",
       "      <td>197488009</td>\n",
       "      <td>197481961</td>\n",
       "    </tr>\n",
       "    <tr>\n",
       "      <th>114827825</th>\n",
       "      <td>114827825</td>\n",
       "      <td>197488010</td>\n",
       "      <td>197481962</td>\n",
       "    </tr>\n",
       "    <tr>\n",
       "      <th>114827826</th>\n",
       "      <td>114827826</td>\n",
       "      <td>197488011</td>\n",
       "      <td>197481963</td>\n",
       "    </tr>\n",
       "  </tbody>\n",
       "</table>\n",
       "<p>114827827 rows × 3 columns</p>\n",
       "</div>"
      ],
      "text/plain": [
       "           Unnamed: 0  PREDICATION_AUX_ID  PREDICATION_ID\n",
       "0                   0            10592600        10592604\n",
       "1                   1            10592679        10592697\n",
       "2                   2            10592713        10592728\n",
       "3                   3            10592749        10592759\n",
       "4                   4            10592816        10592832\n",
       "...               ...                 ...             ...\n",
       "114827822   114827822           197488007       197481959\n",
       "114827823   114827823           197488008       197481960\n",
       "114827824   114827824           197488009       197481961\n",
       "114827825   114827825           197488010       197481962\n",
       "114827826   114827826           197488011       197481963\n",
       "\n",
       "[114827827 rows x 3 columns]"
      ]
     },
     "execution_count": 9,
     "metadata": {},
     "output_type": "execute_result"
    }
   ],
   "source": [
    "pd.read_csv(join('all_triples', 'pred_aux_pred_map.csv'), compression = 'gzip')"
   ]
  },
  {
   "cell_type": "code",
   "execution_count": 11,
   "id": "688ecaf2",
   "metadata": {},
   "outputs": [],
   "source": [
    "del pred_aux_index"
   ]
  },
  {
   "cell_type": "code",
   "execution_count": 12,
   "id": "aad7a3d9",
   "metadata": {},
   "outputs": [],
   "source": [
    "# pred_aux_index = dict(zip(pred_aux_index['PREDICATION_AUX_ID'], pred_aux_index['PREDICATION_ID']))\n"
   ]
  },
  {
   "cell_type": "code",
   "execution_count": 13,
   "id": "db6a61f7",
   "metadata": {},
   "outputs": [],
   "source": [
    "o_pred_df = pd.read_csv(join('all_triples', 'origin_predication.csv'), compression = 'gzip')"
   ]
  },
  {
   "cell_type": "code",
   "execution_count": 15,
   "id": "b2e9eb7f",
   "metadata": {},
   "outputs": [],
   "source": [
    "# o_pred_df = o_pred_df.set_index(['PREDICATION_ID', 'ORIGIN_ID'])\n",
    "o_pred_df = o_pred_df[['PREDICATION_ID', 'ORIGIN_ID']]"
   ]
  },
  {
   "cell_type": "code",
   "execution_count": 16,
   "id": "a77c805a",
   "metadata": {},
   "outputs": [
    {
     "data": {
      "text/html": [
       "<div>\n",
       "<style scoped>\n",
       "    .dataframe tbody tr th:only-of-type {\n",
       "        vertical-align: middle;\n",
       "    }\n",
       "\n",
       "    .dataframe tbody tr th {\n",
       "        vertical-align: top;\n",
       "    }\n",
       "\n",
       "    .dataframe thead th {\n",
       "        text-align: right;\n",
       "    }\n",
       "</style>\n",
       "<table border=\"1\" class=\"dataframe\">\n",
       "  <thead>\n",
       "    <tr style=\"text-align: right;\">\n",
       "      <th></th>\n",
       "      <th>PREDICATION_ID</th>\n",
       "      <th>ORIGIN_ID</th>\n",
       "    </tr>\n",
       "  </thead>\n",
       "  <tbody>\n",
       "    <tr>\n",
       "      <th>0</th>\n",
       "      <td>76299252</td>\n",
       "      <td>1775772</td>\n",
       "    </tr>\n",
       "    <tr>\n",
       "      <th>1</th>\n",
       "      <td>74851732</td>\n",
       "      <td>1302567</td>\n",
       "    </tr>\n",
       "    <tr>\n",
       "      <th>2</th>\n",
       "      <td>76177799</td>\n",
       "      <td>1737760</td>\n",
       "    </tr>\n",
       "    <tr>\n",
       "      <th>3</th>\n",
       "      <td>72444077</td>\n",
       "      <td>380736</td>\n",
       "    </tr>\n",
       "    <tr>\n",
       "      <th>4</th>\n",
       "      <td>15350637</td>\n",
       "      <td>29711</td>\n",
       "    </tr>\n",
       "    <tr>\n",
       "      <th>...</th>\n",
       "      <td>...</td>\n",
       "      <td>...</td>\n",
       "    </tr>\n",
       "    <tr>\n",
       "      <th>115525914</th>\n",
       "      <td>195239203</td>\n",
       "      <td>23425206</td>\n",
       "    </tr>\n",
       "    <tr>\n",
       "      <th>115525915</th>\n",
       "      <td>195239206</td>\n",
       "      <td>23425206</td>\n",
       "    </tr>\n",
       "    <tr>\n",
       "      <th>115525916</th>\n",
       "      <td>197412490</td>\n",
       "      <td>23841294</td>\n",
       "    </tr>\n",
       "    <tr>\n",
       "      <th>115525917</th>\n",
       "      <td>197412498</td>\n",
       "      <td>23841294</td>\n",
       "    </tr>\n",
       "    <tr>\n",
       "      <th>115525918</th>\n",
       "      <td>196850371</td>\n",
       "      <td>23722919</td>\n",
       "    </tr>\n",
       "  </tbody>\n",
       "</table>\n",
       "<p>115525919 rows × 2 columns</p>\n",
       "</div>"
      ],
      "text/plain": [
       "           PREDICATION_ID  ORIGIN_ID\n",
       "0                76299252    1775772\n",
       "1                74851732    1302567\n",
       "2                76177799    1737760\n",
       "3                72444077     380736\n",
       "4                15350637      29711\n",
       "...                   ...        ...\n",
       "115525914       195239203   23425206\n",
       "115525915       195239206   23425206\n",
       "115525916       197412490   23841294\n",
       "115525917       197412498   23841294\n",
       "115525918       196850371   23722919\n",
       "\n",
       "[115525919 rows x 2 columns]"
      ]
     },
     "execution_count": 16,
     "metadata": {},
     "output_type": "execute_result"
    }
   ],
   "source": [
    "o_pred_df"
   ]
  },
  {
   "cell_type": "code",
   "execution_count": 17,
   "id": "096885b9",
   "metadata": {},
   "outputs": [],
   "source": [
    "# o_pred_df = o_pred_df['ORIGIN_ID'].to_dict()"
   ]
  },
  {
   "cell_type": "code",
   "execution_count": 18,
   "id": "10acb795",
   "metadata": {},
   "outputs": [],
   "source": [
    "# save_json(join('all_triples', 'pred_origin_map.json'), o_pred_df)\n",
    "o_pred_df.to_csv(join('all_triples', 'pred_origin_map.csv'), compression = 'gzip', index = False)"
   ]
  },
  {
   "cell_type": "code",
   "execution_count": 19,
   "id": "dd303876",
   "metadata": {},
   "outputs": [
    {
     "data": {
      "text/html": [
       "<div>\n",
       "<style scoped>\n",
       "    .dataframe tbody tr th:only-of-type {\n",
       "        vertical-align: middle;\n",
       "    }\n",
       "\n",
       "    .dataframe tbody tr th {\n",
       "        vertical-align: top;\n",
       "    }\n",
       "\n",
       "    .dataframe thead th {\n",
       "        text-align: right;\n",
       "    }\n",
       "</style>\n",
       "<table border=\"1\" class=\"dataframe\">\n",
       "  <thead>\n",
       "    <tr style=\"text-align: right;\">\n",
       "      <th></th>\n",
       "      <th>PREDICATION_ID</th>\n",
       "      <th>ORIGIN_ID</th>\n",
       "    </tr>\n",
       "  </thead>\n",
       "  <tbody>\n",
       "    <tr>\n",
       "      <th>0</th>\n",
       "      <td>76299252</td>\n",
       "      <td>1775772</td>\n",
       "    </tr>\n",
       "    <tr>\n",
       "      <th>1</th>\n",
       "      <td>74851732</td>\n",
       "      <td>1302567</td>\n",
       "    </tr>\n",
       "    <tr>\n",
       "      <th>2</th>\n",
       "      <td>76177799</td>\n",
       "      <td>1737760</td>\n",
       "    </tr>\n",
       "    <tr>\n",
       "      <th>3</th>\n",
       "      <td>72444077</td>\n",
       "      <td>380736</td>\n",
       "    </tr>\n",
       "    <tr>\n",
       "      <th>4</th>\n",
       "      <td>15350637</td>\n",
       "      <td>29711</td>\n",
       "    </tr>\n",
       "    <tr>\n",
       "      <th>...</th>\n",
       "      <td>...</td>\n",
       "      <td>...</td>\n",
       "    </tr>\n",
       "    <tr>\n",
       "      <th>115525914</th>\n",
       "      <td>195239203</td>\n",
       "      <td>23425206</td>\n",
       "    </tr>\n",
       "    <tr>\n",
       "      <th>115525915</th>\n",
       "      <td>195239206</td>\n",
       "      <td>23425206</td>\n",
       "    </tr>\n",
       "    <tr>\n",
       "      <th>115525916</th>\n",
       "      <td>197412490</td>\n",
       "      <td>23841294</td>\n",
       "    </tr>\n",
       "    <tr>\n",
       "      <th>115525917</th>\n",
       "      <td>197412498</td>\n",
       "      <td>23841294</td>\n",
       "    </tr>\n",
       "    <tr>\n",
       "      <th>115525918</th>\n",
       "      <td>196850371</td>\n",
       "      <td>23722919</td>\n",
       "    </tr>\n",
       "  </tbody>\n",
       "</table>\n",
       "<p>115525919 rows × 2 columns</p>\n",
       "</div>"
      ],
      "text/plain": [
       "           PREDICATION_ID  ORIGIN_ID\n",
       "0                76299252    1775772\n",
       "1                74851732    1302567\n",
       "2                76177799    1737760\n",
       "3                72444077     380736\n",
       "4                15350637      29711\n",
       "...                   ...        ...\n",
       "115525914       195239203   23425206\n",
       "115525915       195239206   23425206\n",
       "115525916       197412490   23841294\n",
       "115525917       197412498   23841294\n",
       "115525918       196850371   23722919\n",
       "\n",
       "[115525919 rows x 2 columns]"
      ]
     },
     "execution_count": 19,
     "metadata": {},
     "output_type": "execute_result"
    }
   ],
   "source": [
    "pd.read_csv(join('all_triples', 'pred_origin_map.csv'), compression = 'gzip')"
   ]
  },
  {
   "cell_type": "code",
   "execution_count": 20,
   "id": "49ff14aa",
   "metadata": {},
   "outputs": [],
   "source": [
    "del o_pred_df"
   ]
  },
  {
   "cell_type": "code",
   "execution_count": null,
   "id": "9a133f9f",
   "metadata": {},
   "outputs": [],
   "source": [
    "o_pred_df = read_json(join('all_triples', 'pred_origin_map.json'))\n",
    "pred_aux_index = read_json(join('all_triples', 'pred_aux_pred_map.json'))"
   ]
  },
  {
   "cell_type": "code",
   "execution_count": null,
   "id": "057f5c18",
   "metadata": {},
   "outputs": [],
   "source": [
    "o_pred_df = {k: o_pred_df[v] for k, v in pred_aux_index.items()}"
   ]
  },
  {
   "cell_type": "code",
   "execution_count": null,
   "id": "4fdcfcfe",
   "metadata": {},
   "outputs": [],
   "source": [
    "save_json(join('all_triples', 'pred_aux_origin_map.json'), o_pred_df)"
   ]
  },
  {
   "cell_type": "code",
   "execution_count": 5,
   "id": "f6b6c987",
   "metadata": {},
   "outputs": [],
   "source": [
    "def get_map():\n",
    "    pred_aux_index = pd.read_csv(join('PREDICATION_AUX', 'all_index.csv'), chunksize = 1000000)\n",
    "    o_pred_df = pd.read_csv(join('all_triples', 'origin_predication.csv'), compression = 'gzip')\n",
    "    o_pred_df = o_pred_df.set_index('PREDICATION_ID')\n",
    "    for df_ in tqdm(pred_aux_index):\n",
    "        df_ = df_.dropna()\n",
    "        df_ = df_[['PREDICATION_ID', 'PREDICATION_AUX_ID']]\n",
    "        df_ = df_[df_.apply(pd.to_numeric, errors='coerce').notna()].dropna().astype(int)\n",
    "        df_ = df_.set_index('PREDICATION_ID')\n",
    "        \n",
    "#         inter_index = list(set(list(df_.index)).intersection(set(list(o_pred_df.index))))\n",
    "#         o_pred_df.loc[inter_index,'PREDICATION_AUX_ID'] = df_.loc[inter_index, 'PREDICATION_AUX_ID']\n",
    "        o_pred_df.loc[df_.index,'PREDICATION_AUX_ID'] = df_.loc[df_.index, 'PREDICATION_AUX_ID']\n",
    "#     o_pred_df['PREDICATION_AUX_ID'] = o_pred_df['PREDICATION_AUX_ID'].astype(int)\n",
    "    return o_pred_df\n"
   ]
  },
  {
   "cell_type": "code",
   "execution_count": 6,
   "id": "13ea27db",
   "metadata": {
    "scrolled": false
   },
   "outputs": [
    {
     "data": {
      "application/vnd.jupyter.widget-view+json": {
       "model_id": "301de1dd73024fc293beec73c9241131",
       "version_major": 2,
       "version_minor": 0
      },
      "text/plain": [
       "0it [00:00, ?it/s]"
      ]
     },
     "metadata": {},
     "output_type": "display_data"
    },
    {
     "name": "stderr",
     "output_type": "stream",
     "text": [
      "/tmp/ipykernel_49038/104673803.py:1: DtypeWarning: Columns (0,1) have mixed types.Specify dtype option on import or set low_memory=False.\n",
      "  or_map_df = get_map()\n"
     ]
    }
   ],
   "source": [
    "or_map_df = get_map()"
   ]
  },
  {
   "cell_type": "code",
   "execution_count": 7,
   "id": "68bbf933",
   "metadata": {},
   "outputs": [
    {
     "data": {
      "text/html": [
       "<div>\n",
       "<style scoped>\n",
       "    .dataframe tbody tr th:only-of-type {\n",
       "        vertical-align: middle;\n",
       "    }\n",
       "\n",
       "    .dataframe tbody tr th {\n",
       "        vertical-align: top;\n",
       "    }\n",
       "\n",
       "    .dataframe thead th {\n",
       "        text-align: right;\n",
       "    }\n",
       "</style>\n",
       "<table border=\"1\" class=\"dataframe\">\n",
       "  <thead>\n",
       "    <tr style=\"text-align: right;\">\n",
       "      <th></th>\n",
       "      <th>ORIGIN_ID</th>\n",
       "      <th>SENTENCE_ID</th>\n",
       "      <th>PREDICATION_AUX_ID</th>\n",
       "    </tr>\n",
       "    <tr>\n",
       "      <th>PREDICATION_ID</th>\n",
       "      <th></th>\n",
       "      <th></th>\n",
       "      <th></th>\n",
       "    </tr>\n",
       "  </thead>\n",
       "  <tbody>\n",
       "    <tr>\n",
       "      <th>76299252</th>\n",
       "      <td>1775772</td>\n",
       "      <td>10378470</td>\n",
       "      <td>76299234.0</td>\n",
       "    </tr>\n",
       "    <tr>\n",
       "      <th>74851732</th>\n",
       "      <td>1302567</td>\n",
       "      <td>24206336</td>\n",
       "      <td>74851718.0</td>\n",
       "    </tr>\n",
       "    <tr>\n",
       "      <th>76177799</th>\n",
       "      <td>1737760</td>\n",
       "      <td>26954710</td>\n",
       "      <td>76177784.0</td>\n",
       "    </tr>\n",
       "    <tr>\n",
       "      <th>72444077</th>\n",
       "      <td>380736</td>\n",
       "      <td>19247628</td>\n",
       "      <td>72444062.0</td>\n",
       "    </tr>\n",
       "    <tr>\n",
       "      <th>15350637</th>\n",
       "      <td>29711</td>\n",
       "      <td>84375</td>\n",
       "      <td>15350618.0</td>\n",
       "    </tr>\n",
       "    <tr>\n",
       "      <th>...</th>\n",
       "      <td>...</td>\n",
       "      <td>...</td>\n",
       "      <td>...</td>\n",
       "    </tr>\n",
       "    <tr>\n",
       "      <th>195239203</th>\n",
       "      <td>23425206</td>\n",
       "      <td>371250407</td>\n",
       "      <td>195244650.0</td>\n",
       "    </tr>\n",
       "    <tr>\n",
       "      <th>195239206</th>\n",
       "      <td>23425206</td>\n",
       "      <td>371250413</td>\n",
       "      <td>195244653.0</td>\n",
       "    </tr>\n",
       "    <tr>\n",
       "      <th>197412490</th>\n",
       "      <td>23841294</td>\n",
       "      <td>376355376</td>\n",
       "      <td>197418519.0</td>\n",
       "    </tr>\n",
       "    <tr>\n",
       "      <th>197412498</th>\n",
       "      <td>23841294</td>\n",
       "      <td>376355386</td>\n",
       "      <td>197418527.0</td>\n",
       "    </tr>\n",
       "    <tr>\n",
       "      <th>196850371</th>\n",
       "      <td>23722919</td>\n",
       "      <td>375035956</td>\n",
       "      <td>196856211.0</td>\n",
       "    </tr>\n",
       "  </tbody>\n",
       "</table>\n",
       "<p>115525919 rows × 3 columns</p>\n",
       "</div>"
      ],
      "text/plain": [
       "                ORIGIN_ID  SENTENCE_ID  PREDICATION_AUX_ID\n",
       "PREDICATION_ID                                            \n",
       "76299252          1775772     10378470          76299234.0\n",
       "74851732          1302567     24206336          74851718.0\n",
       "76177799          1737760     26954710          76177784.0\n",
       "72444077           380736     19247628          72444062.0\n",
       "15350637            29711        84375          15350618.0\n",
       "...                   ...          ...                 ...\n",
       "195239203        23425206    371250407         195244650.0\n",
       "195239206        23425206    371250413         195244653.0\n",
       "197412490        23841294    376355376         197418519.0\n",
       "197412498        23841294    376355386         197418527.0\n",
       "196850371        23722919    375035956         196856211.0\n",
       "\n",
       "[115525919 rows x 3 columns]"
      ]
     },
     "execution_count": 7,
     "metadata": {},
     "output_type": "execute_result"
    }
   ],
   "source": [
    "or_map_df"
   ]
  },
  {
   "cell_type": "code",
   "execution_count": 8,
   "id": "9effa476",
   "metadata": {},
   "outputs": [
    {
     "data": {
      "text/html": [
       "<div>\n",
       "<style scoped>\n",
       "    .dataframe tbody tr th:only-of-type {\n",
       "        vertical-align: middle;\n",
       "    }\n",
       "\n",
       "    .dataframe tbody tr th {\n",
       "        vertical-align: top;\n",
       "    }\n",
       "\n",
       "    .dataframe thead th {\n",
       "        text-align: right;\n",
       "    }\n",
       "</style>\n",
       "<table border=\"1\" class=\"dataframe\">\n",
       "  <thead>\n",
       "    <tr style=\"text-align: right;\">\n",
       "      <th></th>\n",
       "      <th>ORIGIN_ID</th>\n",
       "      <th>SENTENCE_ID</th>\n",
       "      <th>PREDICATION_AUX_ID</th>\n",
       "    </tr>\n",
       "    <tr>\n",
       "      <th>PREDICATION_ID</th>\n",
       "      <th></th>\n",
       "      <th></th>\n",
       "      <th></th>\n",
       "    </tr>\n",
       "  </thead>\n",
       "  <tbody>\n",
       "    <tr>\n",
       "      <th>75774500</th>\n",
       "      <td>36006</td>\n",
       "      <td>26116576</td>\n",
       "      <td>NaN</td>\n",
       "    </tr>\n",
       "    <tr>\n",
       "      <th>75191084</th>\n",
       "      <td>1418341</td>\n",
       "      <td>24913947</td>\n",
       "      <td>NaN</td>\n",
       "    </tr>\n",
       "    <tr>\n",
       "      <th>73742492</th>\n",
       "      <td>862517</td>\n",
       "      <td>21921506</td>\n",
       "      <td>NaN</td>\n",
       "    </tr>\n",
       "    <tr>\n",
       "      <th>18299998</th>\n",
       "      <td>47956</td>\n",
       "      <td>135276</td>\n",
       "      <td>NaN</td>\n",
       "    </tr>\n",
       "    <tr>\n",
       "      <th>58683523</th>\n",
       "      <td>208098</td>\n",
       "      <td>105126770</td>\n",
       "      <td>NaN</td>\n",
       "    </tr>\n",
       "    <tr>\n",
       "      <th>...</th>\n",
       "      <td>...</td>\n",
       "      <td>...</td>\n",
       "      <td>...</td>\n",
       "    </tr>\n",
       "    <tr>\n",
       "      <th>196192228</th>\n",
       "      <td>23601739</td>\n",
       "      <td>373470218</td>\n",
       "      <td>NaN</td>\n",
       "    </tr>\n",
       "    <tr>\n",
       "      <th>195607944</th>\n",
       "      <td>21383156</td>\n",
       "      <td>372101926</td>\n",
       "      <td>NaN</td>\n",
       "    </tr>\n",
       "    <tr>\n",
       "      <th>196175424</th>\n",
       "      <td>23599671</td>\n",
       "      <td>373430428</td>\n",
       "      <td>NaN</td>\n",
       "    </tr>\n",
       "    <tr>\n",
       "      <th>197391120</th>\n",
       "      <td>23836422</td>\n",
       "      <td>376304793</td>\n",
       "      <td>NaN</td>\n",
       "    </tr>\n",
       "    <tr>\n",
       "      <th>196540467</th>\n",
       "      <td>1213510</td>\n",
       "      <td>374314549</td>\n",
       "      <td>NaN</td>\n",
       "    </tr>\n",
       "  </tbody>\n",
       "</table>\n",
       "<p>33573 rows × 3 columns</p>\n",
       "</div>"
      ],
      "text/plain": [
       "                ORIGIN_ID  SENTENCE_ID  PREDICATION_AUX_ID\n",
       "PREDICATION_ID                                            \n",
       "75774500            36006     26116576                 NaN\n",
       "75191084          1418341     24913947                 NaN\n",
       "73742492           862517     21921506                 NaN\n",
       "18299998            47956       135276                 NaN\n",
       "58683523           208098    105126770                 NaN\n",
       "...                   ...          ...                 ...\n",
       "196192228        23601739    373470218                 NaN\n",
       "195607944        21383156    372101926                 NaN\n",
       "196175424        23599671    373430428                 NaN\n",
       "197391120        23836422    376304793                 NaN\n",
       "196540467         1213510    374314549                 NaN\n",
       "\n",
       "[33573 rows x 3 columns]"
      ]
     },
     "execution_count": 8,
     "metadata": {},
     "output_type": "execute_result"
    }
   ],
   "source": [
    "or_map_df[or_map_df['PREDICATION_AUX_ID'].isna()]"
   ]
  },
  {
   "cell_type": "code",
   "execution_count": 9,
   "id": "22800637",
   "metadata": {},
   "outputs": [],
   "source": [
    "or_map_df.to_csv(join('all_triples', 'origin_pred_pred_aux_map.csv'), compression = 'gzip')"
   ]
  },
  {
   "cell_type": "code",
   "execution_count": 11,
   "id": "13bcf0df",
   "metadata": {},
   "outputs": [
    {
     "data": {
      "text/html": [
       "<div>\n",
       "<style scoped>\n",
       "    .dataframe tbody tr th:only-of-type {\n",
       "        vertical-align: middle;\n",
       "    }\n",
       "\n",
       "    .dataframe tbody tr th {\n",
       "        vertical-align: top;\n",
       "    }\n",
       "\n",
       "    .dataframe thead th {\n",
       "        text-align: right;\n",
       "    }\n",
       "</style>\n",
       "<table border=\"1\" class=\"dataframe\">\n",
       "  <thead>\n",
       "    <tr style=\"text-align: right;\">\n",
       "      <th></th>\n",
       "      <th>PREDICATION_ID</th>\n",
       "      <th>ORIGIN_ID</th>\n",
       "      <th>SENTENCE_ID</th>\n",
       "      <th>PREDICATION_AUX_ID</th>\n",
       "    </tr>\n",
       "  </thead>\n",
       "  <tbody>\n",
       "    <tr>\n",
       "      <th>0</th>\n",
       "      <td>76299252</td>\n",
       "      <td>1775772</td>\n",
       "      <td>10378470</td>\n",
       "      <td>76299234.0</td>\n",
       "    </tr>\n",
       "    <tr>\n",
       "      <th>1</th>\n",
       "      <td>74851732</td>\n",
       "      <td>1302567</td>\n",
       "      <td>24206336</td>\n",
       "      <td>74851718.0</td>\n",
       "    </tr>\n",
       "    <tr>\n",
       "      <th>2</th>\n",
       "      <td>76177799</td>\n",
       "      <td>1737760</td>\n",
       "      <td>26954710</td>\n",
       "      <td>76177784.0</td>\n",
       "    </tr>\n",
       "    <tr>\n",
       "      <th>3</th>\n",
       "      <td>72444077</td>\n",
       "      <td>380736</td>\n",
       "      <td>19247628</td>\n",
       "      <td>72444062.0</td>\n",
       "    </tr>\n",
       "    <tr>\n",
       "      <th>4</th>\n",
       "      <td>15350637</td>\n",
       "      <td>29711</td>\n",
       "      <td>84375</td>\n",
       "      <td>15350618.0</td>\n",
       "    </tr>\n",
       "    <tr>\n",
       "      <th>...</th>\n",
       "      <td>...</td>\n",
       "      <td>...</td>\n",
       "      <td>...</td>\n",
       "      <td>...</td>\n",
       "    </tr>\n",
       "    <tr>\n",
       "      <th>115525914</th>\n",
       "      <td>195239203</td>\n",
       "      <td>23425206</td>\n",
       "      <td>371250407</td>\n",
       "      <td>195244650.0</td>\n",
       "    </tr>\n",
       "    <tr>\n",
       "      <th>115525915</th>\n",
       "      <td>195239206</td>\n",
       "      <td>23425206</td>\n",
       "      <td>371250413</td>\n",
       "      <td>195244653.0</td>\n",
       "    </tr>\n",
       "    <tr>\n",
       "      <th>115525916</th>\n",
       "      <td>197412490</td>\n",
       "      <td>23841294</td>\n",
       "      <td>376355376</td>\n",
       "      <td>197418519.0</td>\n",
       "    </tr>\n",
       "    <tr>\n",
       "      <th>115525917</th>\n",
       "      <td>197412498</td>\n",
       "      <td>23841294</td>\n",
       "      <td>376355386</td>\n",
       "      <td>197418527.0</td>\n",
       "    </tr>\n",
       "    <tr>\n",
       "      <th>115525918</th>\n",
       "      <td>196850371</td>\n",
       "      <td>23722919</td>\n",
       "      <td>375035956</td>\n",
       "      <td>196856211.0</td>\n",
       "    </tr>\n",
       "  </tbody>\n",
       "</table>\n",
       "<p>115525919 rows × 4 columns</p>\n",
       "</div>"
      ],
      "text/plain": [
       "           PREDICATION_ID  ORIGIN_ID  SENTENCE_ID  PREDICATION_AUX_ID\n",
       "0                76299252    1775772     10378470          76299234.0\n",
       "1                74851732    1302567     24206336          74851718.0\n",
       "2                76177799    1737760     26954710          76177784.0\n",
       "3                72444077     380736     19247628          72444062.0\n",
       "4                15350637      29711        84375          15350618.0\n",
       "...                   ...        ...          ...                 ...\n",
       "115525914       195239203   23425206    371250407         195244650.0\n",
       "115525915       195239206   23425206    371250413         195244653.0\n",
       "115525916       197412490   23841294    376355376         197418519.0\n",
       "115525917       197412498   23841294    376355386         197418527.0\n",
       "115525918       196850371   23722919    375035956         196856211.0\n",
       "\n",
       "[115525919 rows x 4 columns]"
      ]
     },
     "execution_count": 11,
     "metadata": {},
     "output_type": "execute_result"
    }
   ],
   "source": [
    "pd.read_csv(join('all_triples', 'origin_pred_pred_aux_map.csv'), compression = 'gzip' )"
   ]
  },
  {
   "cell_type": "code",
   "execution_count": 8,
   "id": "97df0aa3",
   "metadata": {},
   "outputs": [],
   "source": [
    "or_map_df = pd.read_csv(join('index_maps','origin_pred_pred_aux_sent_map.csv'), compression = 'gzip', engine = 'pyarrow')"
   ]
  },
  {
   "cell_type": "code",
   "execution_count": 9,
   "id": "caf50530",
   "metadata": {},
   "outputs": [
    {
     "data": {
      "text/html": [
       "<div>\n",
       "<style scoped>\n",
       "    .dataframe tbody tr th:only-of-type {\n",
       "        vertical-align: middle;\n",
       "    }\n",
       "\n",
       "    .dataframe tbody tr th {\n",
       "        vertical-align: top;\n",
       "    }\n",
       "\n",
       "    .dataframe thead th {\n",
       "        text-align: right;\n",
       "    }\n",
       "</style>\n",
       "<table border=\"1\" class=\"dataframe\">\n",
       "  <thead>\n",
       "    <tr style=\"text-align: right;\">\n",
       "      <th></th>\n",
       "      <th>ORIGIN_ID</th>\n",
       "      <th>PREDICATION_ID</th>\n",
       "      <th>SENTENCE_ID</th>\n",
       "      <th>PREDICATION_AUX_ID</th>\n",
       "    </tr>\n",
       "  </thead>\n",
       "  <tbody>\n",
       "    <tr>\n",
       "      <th>0</th>\n",
       "      <td>1775772</td>\n",
       "      <td>76299252</td>\n",
       "      <td>10378470</td>\n",
       "      <td>76299234</td>\n",
       "    </tr>\n",
       "    <tr>\n",
       "      <th>1</th>\n",
       "      <td>1302567</td>\n",
       "      <td>74851732</td>\n",
       "      <td>24206336</td>\n",
       "      <td>74851718</td>\n",
       "    </tr>\n",
       "    <tr>\n",
       "      <th>2</th>\n",
       "      <td>1737760</td>\n",
       "      <td>76177799</td>\n",
       "      <td>26954710</td>\n",
       "      <td>76177784</td>\n",
       "    </tr>\n",
       "    <tr>\n",
       "      <th>3</th>\n",
       "      <td>380736</td>\n",
       "      <td>72444077</td>\n",
       "      <td>19247628</td>\n",
       "      <td>72444062</td>\n",
       "    </tr>\n",
       "    <tr>\n",
       "      <th>4</th>\n",
       "      <td>29711</td>\n",
       "      <td>15350637</td>\n",
       "      <td>84375</td>\n",
       "      <td>15350618</td>\n",
       "    </tr>\n",
       "    <tr>\n",
       "      <th>...</th>\n",
       "      <td>...</td>\n",
       "      <td>...</td>\n",
       "      <td>...</td>\n",
       "      <td>...</td>\n",
       "    </tr>\n",
       "    <tr>\n",
       "      <th>115511865</th>\n",
       "      <td>23425206</td>\n",
       "      <td>195239203</td>\n",
       "      <td>371250407</td>\n",
       "      <td>195244650</td>\n",
       "    </tr>\n",
       "    <tr>\n",
       "      <th>115511866</th>\n",
       "      <td>23425206</td>\n",
       "      <td>195239206</td>\n",
       "      <td>371250413</td>\n",
       "      <td>195244653</td>\n",
       "    </tr>\n",
       "    <tr>\n",
       "      <th>115511867</th>\n",
       "      <td>23841294</td>\n",
       "      <td>197412490</td>\n",
       "      <td>376355376</td>\n",
       "      <td>197418519</td>\n",
       "    </tr>\n",
       "    <tr>\n",
       "      <th>115511868</th>\n",
       "      <td>23841294</td>\n",
       "      <td>197412498</td>\n",
       "      <td>376355386</td>\n",
       "      <td>197418527</td>\n",
       "    </tr>\n",
       "    <tr>\n",
       "      <th>115511869</th>\n",
       "      <td>23722919</td>\n",
       "      <td>196850371</td>\n",
       "      <td>375035956</td>\n",
       "      <td>196856211</td>\n",
       "    </tr>\n",
       "  </tbody>\n",
       "</table>\n",
       "<p>115511870 rows × 4 columns</p>\n",
       "</div>"
      ],
      "text/plain": [
       "           ORIGIN_ID  PREDICATION_ID  SENTENCE_ID  PREDICATION_AUX_ID\n",
       "0            1775772        76299252     10378470            76299234\n",
       "1            1302567        74851732     24206336            74851718\n",
       "2            1737760        76177799     26954710            76177784\n",
       "3             380736        72444077     19247628            72444062\n",
       "4              29711        15350637        84375            15350618\n",
       "...              ...             ...          ...                 ...\n",
       "115511865   23425206       195239203    371250407           195244650\n",
       "115511866   23425206       195239206    371250413           195244653\n",
       "115511867   23841294       197412490    376355376           197418519\n",
       "115511868   23841294       197412498    376355386           197418527\n",
       "115511869   23722919       196850371    375035956           196856211\n",
       "\n",
       "[115511870 rows x 4 columns]"
      ]
     },
     "execution_count": 9,
     "metadata": {},
     "output_type": "execute_result"
    }
   ],
   "source": [
    "or_map_df"
   ]
  },
  {
   "cell_type": "code",
   "execution_count": 10,
   "id": "40e9738a",
   "metadata": {},
   "outputs": [],
   "source": [
    "# or_map_df = or_map_df[~or_map_df['PREDICATION_AUX_ID'].isna()]"
   ]
  },
  {
   "cell_type": "code",
   "execution_count": 11,
   "id": "9d9fab23",
   "metadata": {},
   "outputs": [],
   "source": [
    "# or_map_df['PREDICATION_AUX_ID'] = or_map_df['PREDICATION_AUX_ID'].astype(int)"
   ]
  },
  {
   "cell_type": "code",
   "execution_count": 12,
   "id": "07eb0ea4",
   "metadata": {},
   "outputs": [],
   "source": [
    "or_map_df = or_map_df.set_index('PREDICATION_AUX_ID')"
   ]
  },
  {
   "cell_type": "code",
   "execution_count": 13,
   "id": "e932b2ee",
   "metadata": {},
   "outputs": [
    {
     "data": {
      "text/html": [
       "<div>\n",
       "<style scoped>\n",
       "    .dataframe tbody tr th:only-of-type {\n",
       "        vertical-align: middle;\n",
       "    }\n",
       "\n",
       "    .dataframe tbody tr th {\n",
       "        vertical-align: top;\n",
       "    }\n",
       "\n",
       "    .dataframe thead th {\n",
       "        text-align: right;\n",
       "    }\n",
       "</style>\n",
       "<table border=\"1\" class=\"dataframe\">\n",
       "  <thead>\n",
       "    <tr style=\"text-align: right;\">\n",
       "      <th></th>\n",
       "      <th>ORIGIN_ID</th>\n",
       "      <th>PREDICATION_ID</th>\n",
       "      <th>SENTENCE_ID</th>\n",
       "    </tr>\n",
       "    <tr>\n",
       "      <th>PREDICATION_AUX_ID</th>\n",
       "      <th></th>\n",
       "      <th></th>\n",
       "      <th></th>\n",
       "    </tr>\n",
       "  </thead>\n",
       "  <tbody>\n",
       "    <tr>\n",
       "      <th>76299234</th>\n",
       "      <td>1775772</td>\n",
       "      <td>76299252</td>\n",
       "      <td>10378470</td>\n",
       "    </tr>\n",
       "    <tr>\n",
       "      <th>74851718</th>\n",
       "      <td>1302567</td>\n",
       "      <td>74851732</td>\n",
       "      <td>24206336</td>\n",
       "    </tr>\n",
       "    <tr>\n",
       "      <th>76177784</th>\n",
       "      <td>1737760</td>\n",
       "      <td>76177799</td>\n",
       "      <td>26954710</td>\n",
       "    </tr>\n",
       "    <tr>\n",
       "      <th>72444062</th>\n",
       "      <td>380736</td>\n",
       "      <td>72444077</td>\n",
       "      <td>19247628</td>\n",
       "    </tr>\n",
       "    <tr>\n",
       "      <th>15350618</th>\n",
       "      <td>29711</td>\n",
       "      <td>15350637</td>\n",
       "      <td>84375</td>\n",
       "    </tr>\n",
       "    <tr>\n",
       "      <th>...</th>\n",
       "      <td>...</td>\n",
       "      <td>...</td>\n",
       "      <td>...</td>\n",
       "    </tr>\n",
       "    <tr>\n",
       "      <th>195244650</th>\n",
       "      <td>23425206</td>\n",
       "      <td>195239203</td>\n",
       "      <td>371250407</td>\n",
       "    </tr>\n",
       "    <tr>\n",
       "      <th>195244653</th>\n",
       "      <td>23425206</td>\n",
       "      <td>195239206</td>\n",
       "      <td>371250413</td>\n",
       "    </tr>\n",
       "    <tr>\n",
       "      <th>197418519</th>\n",
       "      <td>23841294</td>\n",
       "      <td>197412490</td>\n",
       "      <td>376355376</td>\n",
       "    </tr>\n",
       "    <tr>\n",
       "      <th>197418527</th>\n",
       "      <td>23841294</td>\n",
       "      <td>197412498</td>\n",
       "      <td>376355386</td>\n",
       "    </tr>\n",
       "    <tr>\n",
       "      <th>196856211</th>\n",
       "      <td>23722919</td>\n",
       "      <td>196850371</td>\n",
       "      <td>375035956</td>\n",
       "    </tr>\n",
       "  </tbody>\n",
       "</table>\n",
       "<p>115511870 rows × 3 columns</p>\n",
       "</div>"
      ],
      "text/plain": [
       "                    ORIGIN_ID  PREDICATION_ID  SENTENCE_ID\n",
       "PREDICATION_AUX_ID                                        \n",
       "76299234              1775772        76299252     10378470\n",
       "74851718              1302567        74851732     24206336\n",
       "76177784              1737760        76177799     26954710\n",
       "72444062               380736        72444077     19247628\n",
       "15350618                29711        15350637        84375\n",
       "...                       ...             ...          ...\n",
       "195244650            23425206       195239203    371250407\n",
       "195244653            23425206       195239206    371250413\n",
       "197418519            23841294       197412490    376355376\n",
       "197418527            23841294       197412498    376355386\n",
       "196856211            23722919       196850371    375035956\n",
       "\n",
       "[115511870 rows x 3 columns]"
      ]
     },
     "execution_count": 13,
     "metadata": {},
     "output_type": "execute_result"
    }
   ],
   "source": [
    "or_map_df"
   ]
  },
  {
   "cell_type": "code",
   "execution_count": 20,
   "id": "1ace72ea",
   "metadata": {},
   "outputs": [
    {
     "data": {
      "text/plain": [
       "ORIGIN_ID            24342\n",
       "PREDICATION_ID    92150440\n",
       "SENTENCE_ID        6915448\n",
       "Name: 92150424, dtype: int64"
      ]
     },
     "execution_count": 20,
     "metadata": {},
     "output_type": "execute_result"
    }
   ],
   "source": [
    "or_map_df.loc[92150424, :]"
   ]
  },
  {
   "cell_type": "code",
   "execution_count": 11,
   "id": "f0eca44c",
   "metadata": {},
   "outputs": [],
   "source": [
    "# aux_to_origin_map = dict(zip(or_map_df['PREDICATION_AUX_ID'], or_map_df['ORIGIN_ID']))"
   ]
  },
  {
   "cell_type": "markdown",
   "id": "d99cd4ab",
   "metadata": {},
   "source": [
    "# aux_to_origin_map\n",
    "# or_map_df.to_dict()\n",
    "KeyError: '[92150156, 92150158, 92150159, 92150160, 92150161, 92150162, 92150163, 92150165, 92150166, 92150167, 92150170, 92150171, 92150172, 92150174, 92150175, 92150179, 92150182, 92150183, 92150184, 92150185, 92150186, 92150187, 92150188, 92150189, 92150191, 92150193, 92150194, 92150195, 92150196, 92150198, 92150199, 92150200, 92150202, 92150203, 92150204, 92150205, 92150208, 92150209, 92150210, 92150211, 92150212, 92150213, 92150214, 92150215, 92150216, 92150217, 92150218, 92150219, 92150220, 92150221, 92150223, 92150225, 92150226, 92150227, 92150228, 92150229, 92150231, 92150233, 92150235, 92150236, 92150237, 92150241, 92150243, 92150244, 92150246, 92150247, 92150249, 92150250, 92150251, 92150252, 92150253, 92150254, 92150255, 92150258, 92150260, 92150261, 92150262, 92150263, 92150265, 92150266, 92150267, 92150268, 92150272, 92150273, 92150274, 92150275, 92150276, 92150277, 92150278, 92150282, 92150283, 92150284, 92150285, 92150286, 92150287, 92150289, 92150290, 92150291, 92150292, 92150293, 92150295, 92150296, 92150297, 92150299, 92150300, 92150301, 92150304, 92150306, 92150307, 92150308, 92150309, 92150310, 92150311, 92150312, 92150313, 92150316, 92150317, 92150319, 92150320, 92150321, 92150322, 92150323, 92150324, 92150325, 92150326, 92150327, 92150329, 92150334, 92150336, 92150341, 92150343, 92150344, 92150345, 92150346, 92150347, 92150348, 92150349, 92150351, 92150352, 92150353, 92150356, 92150359, 92150360, 92150361, 92150363, 92150365, 92150366, 92150367, 92150369, 92150370, 92150374, 92150375, 92150377, 92150378, 92150379, 92150380, 92150381, 92150382, 92150383, 92150384, 92150386, 92150387, 92150388, 92150392, 92150394, 92150400, 92150401, 92150402, 92150403, 92150404, 92150405, 92150406, 92150408, 92150409, 92150410, 92150412, 92150413, 92150414, 92150415, 92150416, 92150417, 92150419, 92150420, 92150421, 92150423, 92150424, 92150425, 92150426, 92150427, 92150428, 92150432, 92150436, 92150437, 92150440, 92150442, 92150443, 92150444, 92150445, 92150446, 92150447, 92150448, 92150450, 92150452, 92150453, 92150454, 92150455, 92150456, 92150457, 92150458, 92150459, 92150460, 92150461, 92150463, 92150465, 92150467, 92150468, 92150470, 92150471, 92150472, 92150474, 92150475, 92150478, 92150480, 92150481, 92150482, 92150483, 92150485, 92150486, 92150487, 92150488, 92150489, 92150490, 92150493, 92150494, 92150495, 92150497, 92150498, 92150499, 92150500, 92150501, 92150503, 92150504, 92150506, 92150507, 92150508, 92150511, 92150513, 92150514, 92150515, 92150517, 92150518, 92150519, 92150520, 92150521, 92150522, 92150524, 92150525, 92150527, 92150528, 92150529, 92150530, 92150531, 92150532, 92150534, 92150537, 92150538, 92150539, 92150544, 92150545, 92150546, 92150547, 92150549, 92150551, 92150552, 92150555, 92150556, 92150557, 92150558, 92150559, 92150560, 92150562, 92150565, 92150566, 92150568, 92150569, 92150570, 92150571, 92150574, 92150575, 92150576, 92150578, 92150579, 92150580, 92150581, 92150582, 92150583, 92150587, 92150588, 92150590, 92150591, 92150592, 92150594, 92150595, 92150596, 92150598, 92150599, 92150602, 92150603, 92150605, 92150606, 92150608, 92150611, 92150612, 92150614, 92150615, 92150616, 92150617, 92150618, 92150619, 92150620, 92150621, 92150622, 92150623, 92150625, 92150626, 92150628, 92150630, 92150635, 92150636, 92150637, 92150638, 92150639, 92150640, 92150641, 92150642, 92150643, 92150644, 92150645, 92150646, 92150647, 92150649, 92150650, 92150651, 92150652, 92150657, 92150658, 92150659, 92150661, 92150662, 92150663, 92150665, 92150670, 92150671, 92150673, 92150674, 92150675, 92150676, 92150677, 92150678, 92150679, 92150680, 92150681, 92150682, 92150684, 92150685, 92150688, 92150689, 92150690, 92150691, 92150693, 92150695, 92150696, 92150697, 92150698, 92150699, 92150700, 92150701, 92150702, 92150703, 92150704, 92150706, 92150709, 92150711, 92150713, 92150715, 92150718, 92150719, 92150720, 92150721, 92150722, 92150723, 92150724, 92150727, 92150729, 92150730, 92150732, 92150733, 92150734, 92150735, 92150736, 92150737, 92150739, 92150740, 92150741, 92150742, 92150744, 92150745, 92150746, 92150747, 92150748, 92150752, 92150753, 92150755, 92150756, 92150759, 92150760, 92150761, 92150762, 92150763, 92150765, 92150767, 92150769, 92150773, 92150774, 92150776, 92150777, 92150778, 92150779, 92150780, 92150781, 92150783, 92150784, 92150785, 92150787, 92150788, 92150789, 92150791, 92150792, 92150794, 92150795, 92150796, 92150797, 92150798, 92150799, 92150800, 92150801, 92150802, 92150804, 92150809, 92150810, 92150811, 92150812, 92150814, 92150815, 92150816] not in index'"
   ]
  },
  {
   "cell_type": "code",
   "execution_count": 14,
   "id": "04713ed3",
   "metadata": {},
   "outputs": [],
   "source": [
    "def get_triple_evidences(or_map_df):\n",
    "#     total_runs = 1126784\n",
    "    total_runs = len(glob('Format_sents/*'))//2\n",
    "#     pbar = tqdm(total = total_runs)\n",
    "    \n",
    "    def read_csv(meta_path):\n",
    "        def read_csv_(i):\n",
    "            return pd.read_csv(meta_path.format(i), compression ='gzip', engine = 'pyarrow')\n",
    "        return read_csv_\n",
    "    \n",
    "    def read_batched_df(batch):\n",
    "        sents = []\n",
    "        labels = []\n",
    "        meta_sent = join('Format_sents', 'form_sent_{}.csv')\n",
    "        meta_lab = join('Format_sents', 'labeled_sent_{}.csv')\n",
    "        with ProcessingPool(10) as pool:\n",
    "            sents = pd.concat(list(pool.map(read_csv(meta_sent), batch)))\n",
    "            labels = pd.concat(list(pool.map(read_csv(meta_lab), batch)))\n",
    "        return labels, sents\n",
    "\n",
    "    def save_rec(rec):\n",
    "        ORIGIN_ID = rec['ORIGIN_ID']\n",
    "        write_json_lines(join('triple_evidences', '{}.jsonl'.format(ORIGIN_ID)),rec)\n",
    "#     def process_sent_csv(i):\n",
    "#         sents = pd.read_csv(join('Format_sents', 'form_sent_{}.csv'.format(i)), compression ='gzip')\n",
    "#         labels = pd.read_csv(join('Format_sents', 'labeled_sent_{}.csv'.format(i)), compression ='gzip')\n",
    "#         sents['labels'] = labels['label']\n",
    "#         sents = sents.set_index('PREDICATION_AUX_ID')\n",
    "#         sents['ORIGIN_ID'] = or_map_df.loc[sents.index, 'ORIGIN_ID']\n",
    "#         sents['SENTENCE_ID'] = or_map_df.loc[sents.index, 'SENTENCE_ID']\n",
    "#         sents['PREDICATION_ID'] = or_map_df.loc[sents.index, 'PREDICATION_ID']\n",
    "#         del sents['file_name']\n",
    "#         sents = sents.reset_index()\n",
    "#         for i, rec in sents.iterrows():\n",
    "#             ORIGIN_ID = rec['ORIGIN_ID']\n",
    "#             write_json_lines(join('triple_evidences', '{}.jsonl'.format(ORIGIN_ID)),rec.to_dict())\n",
    "# #         with ThreadPool(8) as pool_:\n",
    "# #             pool_.map(save_rec, sents.to_dict('records'))\n",
    "#         pbar.update()\n",
    "        \n",
    "\n",
    "#     with ProcessingPool(10) as pool:\n",
    "#         pool.map(process_sent_csv, list(range(total_runs)))\n",
    "###################\n",
    "#     for i in range(total_runs):\n",
    "#         sents = pd.read_csv(join('Format_sents', 'form_sent_{}.csv'.format(i)), compression ='gzip')\n",
    "#         labels = pd.read_csv(join('Format_sents', 'labeled_sent_{}.csv'.format(i)), compression ='gzip')\n",
    "#         sents['labels'] = labels['label']\n",
    "#         sents = sents.set_index('PREDICATION_AUX_ID')\n",
    "#         sents['ORIGIN_ID'] = or_map_df.loc[sents.index, 'ORIGIN_ID']\n",
    "#         sents['SENTENCE_ID'] = or_map_df.loc[sents.index, 'SENTENCE_ID']\n",
    "#         sents['PREDICATION_ID'] = or_map_df.loc[sents.index, 'PREDICATION_ID']\n",
    "#         del sents['file_name']\n",
    "#         sents = sents.reset_index()\n",
    "# #         return sents\n",
    "# #         with ThreadPool(8) as pool_:\n",
    "# #             pool_.map(save_rec, sents.to_dict('records'))\n",
    "#         for i, rec in sents.iterrows():\n",
    "#             ORIGIN_ID = rec['ORIGIN_ID']\n",
    "#             write_json_lines(join('triple_evidences', '{}.jsonl'.format(ORIGIN_ID)),rec.to_dict())\n",
    "# #         return sents\n",
    "#         pbar.update()\n",
    "######################\n",
    "    \n",
    "    for batch_i in tqdm(list(batched(list(range(total_runs)), 10))):\n",
    "#         print(batch_i)\n",
    "        labels, sents = read_batched_df(batch_i)\n",
    "        sents['labels'] = labels['label']\n",
    "        sents = sents.set_index('PREDICATION_AUX_ID')\n",
    "        sents['ORIGIN_ID'] = or_map_df.loc[sents.index, 'ORIGIN_ID']\n",
    "        sents['SENTENCE_ID'] = or_map_df.loc[sents.index, 'SENTENCE_ID']\n",
    "        sents['PREDICATION_ID'] = or_map_df.loc[sents.index, 'PREDICATION_ID']\n",
    "        del sents['file_name']\n",
    "        sents = sents.reset_index()\n",
    "        with ThreadPool(100) as pool_:\n",
    "            pool_.map(save_rec, sents.to_dict('records'))\n",
    "\n",
    "######################\n",
    "#     or_map_df = or_map_df.copy().reset_index()\n",
    "#     for i in range(total_runs):\n",
    "#         sents = pd.read_csv(join('Format_sents', 'form_sent_{}.csv'.format(i)), compression ='gzip')\n",
    "#         labels = pd.read_csv(join('Format_sents', 'labeled_sent_{}.csv'.format(i)), compression ='gzip')\n",
    "#         sents['labels'] = labels['label']\n",
    "#         index_select = or_map_df['PREDICATION_AUX_ID'].isin(sents['PREDICATION_AUX_ID'])\n",
    "#         sents['ORIGIN_ID'] = list(or_map_df.loc[index_select, :]['ORIGIN_ID'])\n",
    "# #         sents['SENTENCE_ID'] = or_map_df.loc[index_select, 'SENTENCE_ID']\n",
    "# #         sents['PREDICATION_ID'] = or_map_df.loc[index_select, 'PREDICATION_ID']\n",
    "#         del sents['file_name']\n",
    "#         return sents\n",
    "#         sents = sents.reset_index()\n",
    "#         with ThreadPool(8) as pool_:\n",
    "#             pool_.map(save_rec, sents.to_dict('records'))\n",
    "# #         for i, rec in sents.iterrows():\n",
    "# #             ORIGIN_ID = rec['ORIGIN_ID']\n",
    "# #             write_json_lines(join('triple_evidences', '{}.jsonl'.format(ORIGIN_ID)),rec.to_dict())\n",
    "# #         return sents\n",
    "        "
   ]
  },
  {
   "cell_type": "code",
   "execution_count": 15,
   "id": "c6d6e2ca",
   "metadata": {},
   "outputs": [
    {
     "data": {
      "application/vnd.jupyter.widget-view+json": {
       "model_id": "582ed3925f6f432d9888330298dda04e",
       "version_major": 2,
       "version_minor": 0
      },
      "text/plain": [
       "  0%|          | 0/112679 [00:00<?, ?it/s]"
      ]
     },
     "metadata": {},
     "output_type": "display_data"
    },
    {
     "name": "stderr",
     "output_type": "stream",
     "text": [
      "Process ForkPoolWorker-3:\n",
      "Process ForkPoolWorker-10:\n",
      "Process ForkPoolWorker-5:\n",
      "Process ForkPoolWorker-2:\n",
      "Process ForkPoolWorker-6:\n",
      "Process ForkPoolWorker-7:\n",
      "Process ForkPoolWorker-8:\n",
      "Process ForkPoolWorker-4:\n",
      "Process ForkPoolWorker-1:\n",
      "Process ForkPoolWorker-9:\n",
      "Traceback (most recent call last):\n",
      "Traceback (most recent call last):\n",
      "Traceback (most recent call last):\n",
      "Traceback (most recent call last):\n",
      "Traceback (most recent call last):\n",
      "  File \"/home/vortex/anaconda3/envs/TestEnv/lib/python3.9/site-packages/multiprocess/process.py\", line 315, in _bootstrap\n",
      "    self.run()\n",
      "  File \"/home/vortex/anaconda3/envs/TestEnv/lib/python3.9/site-packages/multiprocess/process.py\", line 315, in _bootstrap\n",
      "    self.run()\n",
      "  File \"/home/vortex/anaconda3/envs/TestEnv/lib/python3.9/site-packages/multiprocess/process.py\", line 315, in _bootstrap\n",
      "    self.run()\n",
      "  File \"/home/vortex/anaconda3/envs/TestEnv/lib/python3.9/site-packages/multiprocess/process.py\", line 315, in _bootstrap\n",
      "    self.run()\n",
      "  File \"/home/vortex/anaconda3/envs/TestEnv/lib/python3.9/site-packages/multiprocess/process.py\", line 315, in _bootstrap\n",
      "    self.run()\n",
      "  File \"/home/vortex/anaconda3/envs/TestEnv/lib/python3.9/site-packages/multiprocess/process.py\", line 108, in run\n",
      "    self._target(*self._args, **self._kwargs)\n",
      "  File \"/home/vortex/anaconda3/envs/TestEnv/lib/python3.9/site-packages/multiprocess/process.py\", line 108, in run\n",
      "    self._target(*self._args, **self._kwargs)\n",
      "  File \"/home/vortex/anaconda3/envs/TestEnv/lib/python3.9/site-packages/multiprocess/process.py\", line 108, in run\n",
      "    self._target(*self._args, **self._kwargs)\n",
      "  File \"/home/vortex/anaconda3/envs/TestEnv/lib/python3.9/site-packages/multiprocess/process.py\", line 108, in run\n",
      "    self._target(*self._args, **self._kwargs)\n",
      "  File \"/home/vortex/anaconda3/envs/TestEnv/lib/python3.9/site-packages/multiprocess/process.py\", line 108, in run\n",
      "    self._target(*self._args, **self._kwargs)\n",
      "  File \"/home/vortex/anaconda3/envs/TestEnv/lib/python3.9/site-packages/multiprocess/pool.py\", line 114, in worker\n",
      "    task = get()\n",
      "  File \"/home/vortex/anaconda3/envs/TestEnv/lib/python3.9/site-packages/multiprocess/pool.py\", line 114, in worker\n",
      "    task = get()\n",
      "  File \"/home/vortex/anaconda3/envs/TestEnv/lib/python3.9/site-packages/multiprocess/pool.py\", line 114, in worker\n",
      "    task = get()\n",
      "  File \"/home/vortex/anaconda3/envs/TestEnv/lib/python3.9/site-packages/multiprocess/pool.py\", line 114, in worker\n",
      "    task = get()\n",
      "  File \"/home/vortex/anaconda3/envs/TestEnv/lib/python3.9/site-packages/multiprocess/queues.py\", line 367, in get\n",
      "    with self._rlock:\n",
      "  File \"/home/vortex/anaconda3/envs/TestEnv/lib/python3.9/site-packages/multiprocess/queues.py\", line 367, in get\n",
      "    with self._rlock:\n",
      "  File \"/home/vortex/anaconda3/envs/TestEnv/lib/python3.9/site-packages/multiprocess/pool.py\", line 114, in worker\n",
      "    task = get()\n",
      "  File \"/home/vortex/anaconda3/envs/TestEnv/lib/python3.9/site-packages/multiprocess/queues.py\", line 367, in get\n",
      "    with self._rlock:\n",
      "  File \"/home/vortex/anaconda3/envs/TestEnv/lib/python3.9/site-packages/multiprocess/synchronize.py\", line 101, in __enter__\n",
      "    return self._semlock.__enter__()\n",
      "  File \"/home/vortex/anaconda3/envs/TestEnv/lib/python3.9/site-packages/multiprocess/synchronize.py\", line 101, in __enter__\n",
      "    return self._semlock.__enter__()\n",
      "  File \"/home/vortex/anaconda3/envs/TestEnv/lib/python3.9/site-packages/multiprocess/queues.py\", line 367, in get\n",
      "    with self._rlock:\n",
      "  File \"/home/vortex/anaconda3/envs/TestEnv/lib/python3.9/site-packages/multiprocess/queues.py\", line 367, in get\n",
      "    with self._rlock:\n",
      "  File \"/home/vortex/anaconda3/envs/TestEnv/lib/python3.9/site-packages/multiprocess/synchronize.py\", line 101, in __enter__\n",
      "    return self._semlock.__enter__()\n",
      "KeyboardInterrupt\n",
      "KeyboardInterrupt\n",
      "  File \"/home/vortex/anaconda3/envs/TestEnv/lib/python3.9/site-packages/multiprocess/synchronize.py\", line 101, in __enter__\n",
      "    return self._semlock.__enter__()\n",
      "  File \"/home/vortex/anaconda3/envs/TestEnv/lib/python3.9/site-packages/multiprocess/synchronize.py\", line 101, in __enter__\n",
      "    return self._semlock.__enter__()\n",
      "KeyboardInterrupt\n",
      "KeyboardInterrupt\n",
      "KeyboardInterrupt\n",
      "Traceback (most recent call last):\n",
      "Traceback (most recent call last):\n",
      "Traceback (most recent call last):\n",
      "Traceback (most recent call last):\n",
      "Traceback (most recent call last):\n",
      "  File \"/home/vortex/anaconda3/envs/TestEnv/lib/python3.9/site-packages/multiprocess/process.py\", line 315, in _bootstrap\n",
      "    self.run()\n",
      "  File \"/home/vortex/anaconda3/envs/TestEnv/lib/python3.9/site-packages/multiprocess/process.py\", line 315, in _bootstrap\n",
      "    self.run()\n",
      "  File \"/home/vortex/anaconda3/envs/TestEnv/lib/python3.9/site-packages/multiprocess/process.py\", line 315, in _bootstrap\n",
      "    self.run()\n",
      "  File \"/home/vortex/anaconda3/envs/TestEnv/lib/python3.9/site-packages/multiprocess/process.py\", line 315, in _bootstrap\n",
      "    self.run()\n",
      "  File \"/home/vortex/anaconda3/envs/TestEnv/lib/python3.9/site-packages/multiprocess/process.py\", line 315, in _bootstrap\n",
      "    self.run()\n",
      "  File \"/home/vortex/anaconda3/envs/TestEnv/lib/python3.9/site-packages/multiprocess/process.py\", line 108, in run\n",
      "    self._target(*self._args, **self._kwargs)\n",
      "  File \"/home/vortex/anaconda3/envs/TestEnv/lib/python3.9/site-packages/multiprocess/process.py\", line 108, in run\n",
      "    self._target(*self._args, **self._kwargs)\n",
      "  File \"/home/vortex/anaconda3/envs/TestEnv/lib/python3.9/site-packages/multiprocess/process.py\", line 108, in run\n",
      "    self._target(*self._args, **self._kwargs)\n",
      "  File \"/home/vortex/anaconda3/envs/TestEnv/lib/python3.9/site-packages/multiprocess/pool.py\", line 114, in worker\n",
      "    task = get()\n",
      "  File \"/home/vortex/anaconda3/envs/TestEnv/lib/python3.9/site-packages/multiprocess/process.py\", line 108, in run\n",
      "    self._target(*self._args, **self._kwargs)\n",
      "  File \"/home/vortex/anaconda3/envs/TestEnv/lib/python3.9/site-packages/multiprocess/process.py\", line 108, in run\n",
      "    self._target(*self._args, **self._kwargs)\n",
      "  File \"/home/vortex/anaconda3/envs/TestEnv/lib/python3.9/site-packages/multiprocess/pool.py\", line 114, in worker\n",
      "    task = get()\n",
      "  File \"/home/vortex/anaconda3/envs/TestEnv/lib/python3.9/site-packages/multiprocess/pool.py\", line 114, in worker\n",
      "    task = get()\n",
      "  File \"/home/vortex/anaconda3/envs/TestEnv/lib/python3.9/site-packages/multiprocess/queues.py\", line 368, in get\n",
      "    res = self._reader.recv_bytes()\n",
      "  File \"/home/vortex/anaconda3/envs/TestEnv/lib/python3.9/site-packages/multiprocess/pool.py\", line 114, in worker\n",
      "    task = get()\n",
      "  File \"/home/vortex/anaconda3/envs/TestEnv/lib/python3.9/site-packages/multiprocess/queues.py\", line 367, in get\n",
      "    with self._rlock:\n",
      "  File \"/home/vortex/anaconda3/envs/TestEnv/lib/python3.9/site-packages/multiprocess/pool.py\", line 114, in worker\n",
      "    task = get()\n",
      "  File \"/home/vortex/anaconda3/envs/TestEnv/lib/python3.9/site-packages/multiprocess/queues.py\", line 367, in get\n",
      "    with self._rlock:\n",
      "  File \"/home/vortex/anaconda3/envs/TestEnv/lib/python3.9/site-packages/multiprocess/connection.py\", line 224, in recv_bytes\n",
      "    buf = self._recv_bytes(maxlength)\n",
      "  File \"/home/vortex/anaconda3/envs/TestEnv/lib/python3.9/site-packages/multiprocess/queues.py\", line 367, in get\n",
      "    with self._rlock:\n",
      "  File \"/home/vortex/anaconda3/envs/TestEnv/lib/python3.9/site-packages/multiprocess/synchronize.py\", line 101, in __enter__\n",
      "    return self._semlock.__enter__()\n",
      "  File \"/home/vortex/anaconda3/envs/TestEnv/lib/python3.9/site-packages/multiprocess/queues.py\", line 367, in get\n",
      "    with self._rlock:\n",
      "  File \"/home/vortex/anaconda3/envs/TestEnv/lib/python3.9/site-packages/multiprocess/connection.py\", line 422, in _recv_bytes\n",
      "    buf = self._recv(4)\n",
      "  File \"/home/vortex/anaconda3/envs/TestEnv/lib/python3.9/site-packages/multiprocess/synchronize.py\", line 101, in __enter__\n",
      "    return self._semlock.__enter__()\n",
      "  File \"/home/vortex/anaconda3/envs/TestEnv/lib/python3.9/site-packages/multiprocess/synchronize.py\", line 101, in __enter__\n",
      "    return self._semlock.__enter__()\n",
      "KeyboardInterrupt\n",
      "  File \"/home/vortex/anaconda3/envs/TestEnv/lib/python3.9/site-packages/multiprocess/synchronize.py\", line 101, in __enter__\n",
      "    return self._semlock.__enter__()\n",
      "  File \"/home/vortex/anaconda3/envs/TestEnv/lib/python3.9/site-packages/multiprocess/connection.py\", line 387, in _recv\n",
      "    chunk = read(handle, remaining)\n"
     ]
    },
    {
     "name": "stderr",
     "output_type": "stream",
     "text": [
      "KeyboardInterrupt\n",
      "KeyboardInterrupt\n",
      "KeyboardInterrupt\n",
      "KeyboardInterrupt\n"
     ]
    },
    {
     "ename": "KeyboardInterrupt",
     "evalue": "",
     "output_type": "error",
     "traceback": [
      "\u001b[0;31m---------------------------------------------------------------------------\u001b[0m",
      "\u001b[0;31mKeyboardInterrupt\u001b[0m                         Traceback (most recent call last)",
      "Cell \u001b[0;32mIn[15], line 1\u001b[0m\n\u001b[0;32m----> 1\u001b[0m \u001b[43mget_triple_evidences\u001b[49m\u001b[43m(\u001b[49m\u001b[43mor_map_df\u001b[49m\u001b[43m)\u001b[49m\n",
      "Cell \u001b[0;32mIn[14], line 76\u001b[0m, in \u001b[0;36mget_triple_evidences\u001b[0;34m(or_map_df)\u001b[0m\n\u001b[1;32m     74\u001b[0m sents \u001b[38;5;241m=\u001b[39m sents\u001b[38;5;241m.\u001b[39mreset_index()\n\u001b[1;32m     75\u001b[0m \u001b[38;5;28;01mwith\u001b[39;00m ThreadPool(\u001b[38;5;241m100\u001b[39m) \u001b[38;5;28;01mas\u001b[39;00m pool_:\n\u001b[0;32m---> 76\u001b[0m     \u001b[43mpool_\u001b[49m\u001b[38;5;241;43m.\u001b[39;49m\u001b[43mmap\u001b[49m\u001b[43m(\u001b[49m\u001b[43msave_rec\u001b[49m\u001b[43m,\u001b[49m\u001b[43m \u001b[49m\u001b[43msents\u001b[49m\u001b[38;5;241;43m.\u001b[39;49m\u001b[43mto_dict\u001b[49m\u001b[43m(\u001b[49m\u001b[38;5;124;43m'\u001b[39;49m\u001b[38;5;124;43mrecords\u001b[39;49m\u001b[38;5;124;43m'\u001b[39;49m\u001b[43m)\u001b[49m\u001b[43m)\u001b[49m\n",
      "File \u001b[0;32m~/anaconda3/envs/TestEnv/lib/python3.9/multiprocessing/pool.py:364\u001b[0m, in \u001b[0;36mPool.map\u001b[0;34m(self, func, iterable, chunksize)\u001b[0m\n\u001b[1;32m    359\u001b[0m \u001b[38;5;28;01mdef\u001b[39;00m \u001b[38;5;21mmap\u001b[39m(\u001b[38;5;28mself\u001b[39m, func, iterable, chunksize\u001b[38;5;241m=\u001b[39m\u001b[38;5;28;01mNone\u001b[39;00m):\n\u001b[1;32m    360\u001b[0m     \u001b[38;5;124;03m'''\u001b[39;00m\n\u001b[1;32m    361\u001b[0m \u001b[38;5;124;03m    Apply `func` to each element in `iterable`, collecting the results\u001b[39;00m\n\u001b[1;32m    362\u001b[0m \u001b[38;5;124;03m    in a list that is returned.\u001b[39;00m\n\u001b[1;32m    363\u001b[0m \u001b[38;5;124;03m    '''\u001b[39;00m\n\u001b[0;32m--> 364\u001b[0m     \u001b[38;5;28;01mreturn\u001b[39;00m \u001b[38;5;28;43mself\u001b[39;49m\u001b[38;5;241;43m.\u001b[39;49m\u001b[43m_map_async\u001b[49m\u001b[43m(\u001b[49m\u001b[43mfunc\u001b[49m\u001b[43m,\u001b[49m\u001b[43m \u001b[49m\u001b[43miterable\u001b[49m\u001b[43m,\u001b[49m\u001b[43m \u001b[49m\u001b[43mmapstar\u001b[49m\u001b[43m,\u001b[49m\u001b[43m \u001b[49m\u001b[43mchunksize\u001b[49m\u001b[43m)\u001b[49m\u001b[38;5;241;43m.\u001b[39;49m\u001b[43mget\u001b[49m\u001b[43m(\u001b[49m\u001b[43m)\u001b[49m\n",
      "File \u001b[0;32m~/anaconda3/envs/TestEnv/lib/python3.9/multiprocessing/pool.py:765\u001b[0m, in \u001b[0;36mApplyResult.get\u001b[0;34m(self, timeout)\u001b[0m\n\u001b[1;32m    764\u001b[0m \u001b[38;5;28;01mdef\u001b[39;00m \u001b[38;5;21mget\u001b[39m(\u001b[38;5;28mself\u001b[39m, timeout\u001b[38;5;241m=\u001b[39m\u001b[38;5;28;01mNone\u001b[39;00m):\n\u001b[0;32m--> 765\u001b[0m     \u001b[38;5;28;43mself\u001b[39;49m\u001b[38;5;241;43m.\u001b[39;49m\u001b[43mwait\u001b[49m\u001b[43m(\u001b[49m\u001b[43mtimeout\u001b[49m\u001b[43m)\u001b[49m\n\u001b[1;32m    766\u001b[0m     \u001b[38;5;28;01mif\u001b[39;00m \u001b[38;5;129;01mnot\u001b[39;00m \u001b[38;5;28mself\u001b[39m\u001b[38;5;241m.\u001b[39mready():\n\u001b[1;32m    767\u001b[0m         \u001b[38;5;28;01mraise\u001b[39;00m \u001b[38;5;167;01mTimeoutError\u001b[39;00m\n",
      "File \u001b[0;32m~/anaconda3/envs/TestEnv/lib/python3.9/multiprocessing/pool.py:762\u001b[0m, in \u001b[0;36mApplyResult.wait\u001b[0;34m(self, timeout)\u001b[0m\n\u001b[1;32m    761\u001b[0m \u001b[38;5;28;01mdef\u001b[39;00m \u001b[38;5;21mwait\u001b[39m(\u001b[38;5;28mself\u001b[39m, timeout\u001b[38;5;241m=\u001b[39m\u001b[38;5;28;01mNone\u001b[39;00m):\n\u001b[0;32m--> 762\u001b[0m     \u001b[38;5;28;43mself\u001b[39;49m\u001b[38;5;241;43m.\u001b[39;49m\u001b[43m_event\u001b[49m\u001b[38;5;241;43m.\u001b[39;49m\u001b[43mwait\u001b[49m\u001b[43m(\u001b[49m\u001b[43mtimeout\u001b[49m\u001b[43m)\u001b[49m\n",
      "File \u001b[0;32m~/anaconda3/envs/TestEnv/lib/python3.9/threading.py:581\u001b[0m, in \u001b[0;36mEvent.wait\u001b[0;34m(self, timeout)\u001b[0m\n\u001b[1;32m    579\u001b[0m signaled \u001b[38;5;241m=\u001b[39m \u001b[38;5;28mself\u001b[39m\u001b[38;5;241m.\u001b[39m_flag\n\u001b[1;32m    580\u001b[0m \u001b[38;5;28;01mif\u001b[39;00m \u001b[38;5;129;01mnot\u001b[39;00m signaled:\n\u001b[0;32m--> 581\u001b[0m     signaled \u001b[38;5;241m=\u001b[39m \u001b[38;5;28;43mself\u001b[39;49m\u001b[38;5;241;43m.\u001b[39;49m\u001b[43m_cond\u001b[49m\u001b[38;5;241;43m.\u001b[39;49m\u001b[43mwait\u001b[49m\u001b[43m(\u001b[49m\u001b[43mtimeout\u001b[49m\u001b[43m)\u001b[49m\n\u001b[1;32m    582\u001b[0m \u001b[38;5;28;01mreturn\u001b[39;00m signaled\n",
      "File \u001b[0;32m~/anaconda3/envs/TestEnv/lib/python3.9/threading.py:312\u001b[0m, in \u001b[0;36mCondition.wait\u001b[0;34m(self, timeout)\u001b[0m\n\u001b[1;32m    310\u001b[0m \u001b[38;5;28;01mtry\u001b[39;00m:    \u001b[38;5;66;03m# restore state no matter what (e.g., KeyboardInterrupt)\u001b[39;00m\n\u001b[1;32m    311\u001b[0m     \u001b[38;5;28;01mif\u001b[39;00m timeout \u001b[38;5;129;01mis\u001b[39;00m \u001b[38;5;28;01mNone\u001b[39;00m:\n\u001b[0;32m--> 312\u001b[0m         \u001b[43mwaiter\u001b[49m\u001b[38;5;241;43m.\u001b[39;49m\u001b[43macquire\u001b[49m\u001b[43m(\u001b[49m\u001b[43m)\u001b[49m\n\u001b[1;32m    313\u001b[0m         gotit \u001b[38;5;241m=\u001b[39m \u001b[38;5;28;01mTrue\u001b[39;00m\n\u001b[1;32m    314\u001b[0m     \u001b[38;5;28;01melse\u001b[39;00m:\n",
      "\u001b[0;31mKeyboardInterrupt\u001b[0m: "
     ]
    }
   ],
   "source": [
    "get_triple_evidences(or_map_df)"
   ]
  },
  {
   "cell_type": "code",
   "execution_count": 7,
   "id": "a9aa3527",
   "metadata": {},
   "outputs": [
    {
     "ename": "KeyboardInterrupt",
     "evalue": "",
     "output_type": "error",
     "traceback": [
      "\u001b[0;31m---------------------------------------------------------------------------\u001b[0m",
      "\u001b[0;31mKeyboardInterrupt\u001b[0m                         Traceback (most recent call last)",
      "Cell \u001b[0;32mIn[7], line 1\u001b[0m\n\u001b[0;32m----> 1\u001b[0m \u001b[38;5;28mlen\u001b[39m(\u001b[43mglob\u001b[49m\u001b[43m(\u001b[49m\u001b[38;5;124;43m'\u001b[39;49m\u001b[38;5;124;43mFormat_sents/*\u001b[39;49m\u001b[38;5;124;43m'\u001b[39;49m\u001b[43m)\u001b[49m)\n",
      "File \u001b[0;32m~/anaconda3/envs/TestEnv/lib/python3.9/glob.py:22\u001b[0m, in \u001b[0;36mglob\u001b[0;34m(pathname, recursive)\u001b[0m\n\u001b[1;32m     11\u001b[0m \u001b[38;5;28;01mdef\u001b[39;00m \u001b[38;5;21mglob\u001b[39m(pathname, \u001b[38;5;241m*\u001b[39m, recursive\u001b[38;5;241m=\u001b[39m\u001b[38;5;28;01mFalse\u001b[39;00m):\n\u001b[1;32m     12\u001b[0m     \u001b[38;5;124;03m\"\"\"Return a list of paths matching a pathname pattern.\u001b[39;00m\n\u001b[1;32m     13\u001b[0m \n\u001b[1;32m     14\u001b[0m \u001b[38;5;124;03m    The pattern may contain simple shell-style wildcards a la\u001b[39;00m\n\u001b[0;32m   (...)\u001b[0m\n\u001b[1;32m     20\u001b[0m \u001b[38;5;124;03m    zero or more directories and subdirectories.\u001b[39;00m\n\u001b[1;32m     21\u001b[0m \u001b[38;5;124;03m    \"\"\"\u001b[39;00m\n\u001b[0;32m---> 22\u001b[0m     \u001b[38;5;28;01mreturn\u001b[39;00m \u001b[38;5;28;43mlist\u001b[39;49m\u001b[43m(\u001b[49m\u001b[43miglob\u001b[49m\u001b[43m(\u001b[49m\u001b[43mpathname\u001b[49m\u001b[43m,\u001b[49m\u001b[43m \u001b[49m\u001b[43mrecursive\u001b[49m\u001b[38;5;241;43m=\u001b[39;49m\u001b[43mrecursive\u001b[49m\u001b[43m)\u001b[49m\u001b[43m)\u001b[49m\n",
      "File \u001b[0;32m~/anaconda3/envs/TestEnv/lib/python3.9/glob.py:75\u001b[0m, in \u001b[0;36m_iglob\u001b[0;34m(pathname, recursive, dironly)\u001b[0m\n\u001b[1;32m     73\u001b[0m     glob_in_dir \u001b[38;5;241m=\u001b[39m _glob0\n\u001b[1;32m     74\u001b[0m \u001b[38;5;28;01mfor\u001b[39;00m dirname \u001b[38;5;129;01min\u001b[39;00m dirs:\n\u001b[0;32m---> 75\u001b[0m     \u001b[38;5;28;01mfor\u001b[39;00m name \u001b[38;5;129;01min\u001b[39;00m \u001b[43mglob_in_dir\u001b[49m\u001b[43m(\u001b[49m\u001b[43mdirname\u001b[49m\u001b[43m,\u001b[49m\u001b[43m \u001b[49m\u001b[43mbasename\u001b[49m\u001b[43m,\u001b[49m\u001b[43m \u001b[49m\u001b[43mdironly\u001b[49m\u001b[43m)\u001b[49m:\n\u001b[1;32m     76\u001b[0m         \u001b[38;5;28;01myield\u001b[39;00m os\u001b[38;5;241m.\u001b[39mpath\u001b[38;5;241m.\u001b[39mjoin(dirname, name)\n",
      "File \u001b[0;32m~/anaconda3/envs/TestEnv/lib/python3.9/glob.py:83\u001b[0m, in \u001b[0;36m_glob1\u001b[0;34m(dirname, pattern, dironly)\u001b[0m\n\u001b[1;32m     82\u001b[0m \u001b[38;5;28;01mdef\u001b[39;00m \u001b[38;5;21m_glob1\u001b[39m(dirname, pattern, dironly):\n\u001b[0;32m---> 83\u001b[0m     names \u001b[38;5;241m=\u001b[39m \u001b[43m_listdir\u001b[49m\u001b[43m(\u001b[49m\u001b[43mdirname\u001b[49m\u001b[43m,\u001b[49m\u001b[43m \u001b[49m\u001b[43mdironly\u001b[49m\u001b[43m)\u001b[49m\n\u001b[1;32m     84\u001b[0m     \u001b[38;5;28;01mif\u001b[39;00m \u001b[38;5;129;01mnot\u001b[39;00m _ishidden(pattern):\n\u001b[1;32m     85\u001b[0m         names \u001b[38;5;241m=\u001b[39m (x \u001b[38;5;28;01mfor\u001b[39;00m x \u001b[38;5;129;01min\u001b[39;00m names \u001b[38;5;28;01mif\u001b[39;00m \u001b[38;5;129;01mnot\u001b[39;00m _ishidden(x))\n",
      "File \u001b[0;32m~/anaconda3/envs/TestEnv/lib/python3.9/glob.py:136\u001b[0m, in \u001b[0;36m_listdir\u001b[0;34m(dirname, dironly)\u001b[0m\n\u001b[1;32m    134\u001b[0m \u001b[38;5;28;01mdef\u001b[39;00m \u001b[38;5;21m_listdir\u001b[39m(dirname, dironly):\n\u001b[1;32m    135\u001b[0m     \u001b[38;5;28;01mwith\u001b[39;00m contextlib\u001b[38;5;241m.\u001b[39mclosing(_iterdir(dirname, dironly)) \u001b[38;5;28;01mas\u001b[39;00m it:\n\u001b[0;32m--> 136\u001b[0m         \u001b[38;5;28;01mreturn\u001b[39;00m \u001b[38;5;28;43mlist\u001b[39;49m\u001b[43m(\u001b[49m\u001b[43mit\u001b[49m\u001b[43m)\u001b[49m\n",
      "File \u001b[0;32m~/anaconda3/envs/TestEnv/lib/python3.9/glob.py:125\u001b[0m, in \u001b[0;36m_iterdir\u001b[0;34m(dirname, dironly)\u001b[0m\n\u001b[1;32m    123\u001b[0m \u001b[38;5;28;01mtry\u001b[39;00m:\n\u001b[1;32m    124\u001b[0m     \u001b[38;5;28;01mwith\u001b[39;00m os\u001b[38;5;241m.\u001b[39mscandir(dirname) \u001b[38;5;28;01mas\u001b[39;00m it:\n\u001b[0;32m--> 125\u001b[0m         \u001b[38;5;28;01mfor\u001b[39;00m entry \u001b[38;5;129;01min\u001b[39;00m it:\n\u001b[1;32m    126\u001b[0m             \u001b[38;5;28;01mtry\u001b[39;00m:\n\u001b[1;32m    127\u001b[0m                 \u001b[38;5;28;01mif\u001b[39;00m \u001b[38;5;129;01mnot\u001b[39;00m dironly \u001b[38;5;129;01mor\u001b[39;00m entry\u001b[38;5;241m.\u001b[39mis_dir():\n",
      "\u001b[0;31mKeyboardInterrupt\u001b[0m: "
     ]
    }
   ],
   "source": [
    "len(glob('Format_sents/*'))"
   ]
  },
  {
   "cell_type": "code",
   "execution_count": null,
   "id": "2bf73224",
   "metadata": {},
   "outputs": [],
   "source": [
    "os.listdir('Format_sents/*')"
   ]
  },
  {
   "cell_type": "code",
   "execution_count": 23,
   "id": "daa1d095",
   "metadata": {},
   "outputs": [
    {
     "data": {
      "text/html": [
       "<div>\n",
       "<style scoped>\n",
       "    .dataframe tbody tr th:only-of-type {\n",
       "        vertical-align: middle;\n",
       "    }\n",
       "\n",
       "    .dataframe tbody tr th {\n",
       "        vertical-align: top;\n",
       "    }\n",
       "\n",
       "    .dataframe thead th {\n",
       "        text-align: right;\n",
       "    }\n",
       "</style>\n",
       "<table border=\"1\" class=\"dataframe\">\n",
       "  <thead>\n",
       "    <tr style=\"text-align: right;\">\n",
       "      <th></th>\n",
       "      <th>PREDICATION_ID</th>\n",
       "      <th>ORIGIN_ID</th>\n",
       "      <th>SENTENCE_ID</th>\n",
       "    </tr>\n",
       "    <tr>\n",
       "      <th>PREDICATION_AUX_ID</th>\n",
       "      <th></th>\n",
       "      <th></th>\n",
       "      <th></th>\n",
       "    </tr>\n",
       "  </thead>\n",
       "  <tbody>\n",
       "  </tbody>\n",
       "</table>\n",
       "</div>"
      ],
      "text/plain": [
       "Empty DataFrame\n",
       "Columns: [PREDICATION_ID, ORIGIN_ID, SENTENCE_ID]\n",
       "Index: []"
      ]
     },
     "execution_count": 23,
     "metadata": {},
     "output_type": "execute_result"
    }
   ],
   "source": [
    "or_map_df[or_map_df['PREDICATION_ID']==92150811]"
   ]
  },
  {
   "cell_type": "code",
   "execution_count": null,
   "id": "91ceddba",
   "metadata": {},
   "outputs": [],
   "source": [
    "KeyError: '[92150156, 92150158, 92150159, 92150160, 92150161, 92150162, 92150163, 92150165, 92150166, 92150167, 92150170, 92150171, 92150172, 92150174, 92150175, 92150179, 92150182, 92150183, 92150184, 92150185, 92150186, 92150187, 92150188, 92150189, 92150191, 92150193, 92150194, 92150195, 92150196, 92150198, 92150199, 92150200, 92150202, 92150203, 92150204, 92150205, 92150208, 92150209, 92150210, 92150211, 92150212, 92150213, 92150214, 92150215, 92150216, 92150217, 92150218, 92150219, 92150220, 92150221, 92150223, 92150225, 92150226, 92150227, 92150228, 92150229, 92150231, 92150233, 92150235, 92150236, 92150237, 92150241, 92150243, 92150244, 92150246, 92150247, 92150249, 92150250, 92150251, 92150252, 92150253, 92150254, 92150255, 92150258, 92150260, 92150261, 92150262, 92150263, 92150265, 92150266, 92150267, 92150268, 92150272, 92150273, 92150274, 92150275, 92150276, 92150277, 92150278, 92150282, 92150283, 92150284, 92150285, 92150286, 92150287, 92150289, 92150290, 92150291, 92150292, 92150293, 92150295, 92150296, 92150297, 92150299, 92150300, 92150301, 92150304, 92150306, 92150307, 92150308, 92150309, 92150310, 92150311, 92150312, 92150313, 92150316, 92150317, 92150319, 92150320, 92150321, 92150322, 92150323, 92150324, 92150325, 92150326, 92150327, 92150329, 92150334, 92150336, 92150341, 92150343, 92150344, 92150345, 92150346, 92150347, 92150348, 92150349, 92150351, 92150352, 92150353, 92150356, 92150359, 92150360, 92150361, 92150363, 92150365, 92150366, 92150367, 92150369, 92150370, 92150374, 92150375, 92150377, 92150378, 92150379, 92150380, 92150381, 92150382, 92150383, 92150384, 92150386, 92150387, 92150388, 92150392, 92150394, 92150400, 92150401, 92150402, 92150403, 92150404, 92150405, 92150406, 92150408, 92150409, 92150410, 92150412, 92150413, 92150414, 92150415, 92150416, 92150417, 92150419, 92150420, 92150421, 92150423, 92150424, 92150425, 92150426, 92150427, 92150428, 92150432, 92150436, 92150437, 92150440, 92150442, 92150443, 92150444, 92150445, 92150446, 92150447, 92150448, 92150450, 92150452, 92150453, 92150454, 92150455, 92150456, 92150457, 92150458, 92150459, 92150460, 92150461, 92150463, 92150465, 92150467, 92150468, 92150470, 92150471, 92150472, 92150474, 92150475, 92150478, 92150480, 92150481, 92150482, 92150483, 92150485, 92150486, 92150487, 92150488, 92150489, 92150490, 92150493, 92150494, 92150495, 92150497, 92150498, 92150499, 92150500, 92150501, 92150503, 92150504, 92150506, 92150507, 92150508, 92150511, 92150513, 92150514, 92150515, 92150517, 92150518, 92150519, 92150520, 92150521, 92150522, 92150524, 92150525, 92150527, 92150528, 92150529, 92150530, 92150531, 92150532, 92150534, 92150537, 92150538, 92150539, 92150544, 92150545, 92150546, 92150547, 92150549, 92150551, 92150552, 92150555, 92150556, 92150557, 92150558, 92150559, 92150560, 92150562, 92150565, 92150566, 92150568, 92150569, 92150570, 92150571, 92150574, 92150575, 92150576, 92150578, 92150579, 92150580, 92150581, 92150582, 92150583, 92150587, 92150588, 92150590, 92150591, 92150592, 92150594, 92150595, 92150596, 92150598, 92150599, 92150602, 92150603, 92150605, 92150606, 92150608, 92150611, 92150612, 92150614, 92150615, 92150616, 92150617, 92150618, 92150619, 92150620, 92150621, 92150622, 92150623, 92150625, 92150626, 92150628, 92150630, 92150635, 92150636, 92150637, 92150638, 92150639, 92150640, 92150641, 92150642, 92150643, 92150644, 92150645, 92150646, 92150647, 92150649, 92150650, 92150651, 92150652, 92150657, 92150658, 92150659, 92150661, 92150662, 92150663, 92150665, 92150670, 92150671, 92150673, 92150674, 92150675, 92150676, 92150677, 92150678, 92150679, 92150680, 92150681, 92150682, 92150684, 92150685, 92150688, 92150689, 92150690, 92150691, 92150693, 92150695, 92150696, 92150697, 92150698, 92150699, 92150700, 92150701, 92150702, 92150703, 92150704, 92150706, 92150709, 92150711, 92150713, 92150715, 92150718, 92150719, 92150720, 92150721, 92150722, 92150723, 92150724, 92150727, 92150729, 92150730, 92150732, 92150733, 92150734, 92150735, 92150736, 92150737, 92150739, 92150740, 92150741, 92150742, 92150744, 92150745, 92150746, 92150747, 92150748, 92150752, 92150753, 92150755, 92150756, 92150759, 92150760, 92150761, 92150762, 92150763, 92150765, 92150767, 92150769, 92150773, 92150774, 92150776, 92150777, 92150778, 92150779, 92150780, 92150781, 92150783, 92150784, 92150785, 92150787, 92150788, 92150789, 92150791, 92150792, 92150794, 92150795, 92150796, 92150797, 92150798, 92150799, 92150800, 92150801, 92150802, 92150804, 92150809, 92150810, 92150811, 92150812, 92150814, 92150815, 92150816] not in index'"
   ]
  },
  {
   "cell_type": "code",
   "execution_count": 10,
   "id": "9220ce93",
   "metadata": {},
   "outputs": [],
   "source": [
    "pred_aux_index = pd.read_csv(join('PREDICATION_AUX', 'all_index.csv'),chunksize = 1000000)"
   ]
  },
  {
   "cell_type": "code",
   "execution_count": 11,
   "id": "27bb8a2b",
   "metadata": {},
   "outputs": [
    {
     "ename": "TypeError",
     "evalue": "'TextFileReader' object is not subscriptable",
     "output_type": "error",
     "traceback": [
      "\u001b[0;31m---------------------------------------------------------------------------\u001b[0m",
      "\u001b[0;31mTypeError\u001b[0m                                 Traceback (most recent call last)",
      "Cell \u001b[0;32mIn[11], line 1\u001b[0m\n\u001b[0;32m----> 1\u001b[0m \u001b[43mpred_aux_index\u001b[49m\u001b[43m[\u001b[49m\u001b[38;5;241;43m18\u001b[39;49m\u001b[43m]\u001b[49m\n",
      "\u001b[0;31mTypeError\u001b[0m: 'TextFileReader' object is not subscriptable"
     ]
    }
   ],
   "source": [
    "pred_aux_index"
   ]
  },
  {
   "cell_type": "code",
   "execution_count": 1,
   "id": "73ff0f55",
   "metadata": {},
   "outputs": [
    {
     "ename": "NameError",
     "evalue": "name 'tqdm' is not defined",
     "output_type": "error",
     "traceback": [
      "\u001b[0;31m---------------------------------------------------------------------------\u001b[0m",
      "\u001b[0;31mNameError\u001b[0m                                 Traceback (most recent call last)",
      "Cell \u001b[0;32mIn[1], line 1\u001b[0m\n\u001b[0;32m----> 1\u001b[0m \u001b[38;5;28;01mfor\u001b[39;00m i \u001b[38;5;129;01min\u001b[39;00m \u001b[43mtqdm\u001b[49m(pred_aux_index):\n\u001b[1;32m      2\u001b[0m     i_i \u001b[38;5;241m=\u001b[39m i[i[\u001b[38;5;124m'\u001b[39m\u001b[38;5;124mPREDICATION_AUX_ID\u001b[39m\u001b[38;5;124m'\u001b[39m]\u001b[38;5;241m==\u001b[39m\u001b[38;5;124m'\u001b[39m\u001b[38;5;124m92150804\u001b[39m\u001b[38;5;124m'\u001b[39m]\n\u001b[1;32m      3\u001b[0m     i_j \u001b[38;5;241m=\u001b[39m i[i[\u001b[38;5;124m'\u001b[39m\u001b[38;5;124mPREDICATION_ID\u001b[39m\u001b[38;5;124m'\u001b[39m]\u001b[38;5;241m==\u001b[39m\u001b[38;5;124m'\u001b[39m\u001b[38;5;124m92150804\u001b[39m\u001b[38;5;124m'\u001b[39m]\n",
      "\u001b[0;31mNameError\u001b[0m: name 'tqdm' is not defined"
     ]
    }
   ],
   "source": [
    "for i in tqdm(pred_aux_index):\n",
    "    i_i = i[i['PREDICATION_AUX_ID']=='92150804']\n",
    "    i_j = i[i['PREDICATION_ID']=='92150804']\n",
    "    if i_i.shape[0]>0:\n",
    "        print('found i_i')\n",
    "    if i_j.shape[0]>0:\n",
    "        print('found i_j')"
   ]
  },
  {
   "cell_type": "code",
   "execution_count": 16,
   "id": "fb187ae0",
   "metadata": {},
   "outputs": [],
   "source": [
    "def read_batched_df(i):\n",
    "    meta_sent = pd.read_csv(join('Format_sents', 'form_sent_{}.csv'.format(i)), compression = 'gzip')\n",
    "    meta_lab = pd.read_csv(join('Format_sents', 'labeled_sent_{}.csv'.format(i)), compression = 'gzip')\n",
    "    return meta_sent, meta_lab"
   ]
  },
  {
   "cell_type": "code",
   "execution_count": 17,
   "id": "797d15be",
   "metadata": {},
   "outputs": [
    {
     "data": {
      "text/plain": [
       "(     PREDICATION_AUX_ID                                           SENTENCE  \\\n",
       " 0              10603322  There were 582 patients with primary hyperpara...   \n",
       " 1              10603447  This rate did not exceed the incidence of deve...   \n",
       " 2              10603511  Although thyroid cancer was about 4 times the ...   \n",
       " 3              10603623  None of the 126 patients with osteosarcoma had...   \n",
       " 4              10603759  Since PTH may contribute to tumor invasiveness...   \n",
       " ..                  ...                                                ...   \n",
       " 96             10618109  Patients with chronic renal failure without co...   \n",
       " 97             10618137  Patients with chronic renal failure without co...   \n",
       " 98             10618180  Patients with chronic renal failure without co...   \n",
       " 99             10618454  Altered intracellular amino acid transport kin...   \n",
       " 100            10618585  An intradialytic increase in albumin and fibri...   \n",
       " \n",
       "                                      FORMATED_SENTENCE  \\\n",
       " 0        There were 582 @PREDICAT$ @OBJECT$ @SUBJECT$.   \n",
       " 1    This rate did not exceed the @OBJECT$ of devel...   \n",
       " 2    Although thyroid cancer was about 4 times the ...   \n",
       " 3    None of the 126 @PREDICAT$ @OBJECT$ @SUBJECT$ ...   \n",
       " 4    Since PTH may contribute to tumor invasiveness...   \n",
       " ..                                                 ...   \n",
       " 96   @PREDICAT$ @OBJECT$ chronic renal failure with...   \n",
       " 97   @PREDICAT$ @OBJECT$ @SUBJECT$ without coexisti...   \n",
       " 98   @PREDICAT$ @OBJECT$ chronic renal failure with...   \n",
       " 99   Altered intracellular amino acid transport kin...   \n",
       " 100  An intradialytic increase in @SUBJECT$ and fib...   \n",
       " \n",
       "                     file_name  \n",
       " 0    SENTENCE/split_00.csv.gz  \n",
       " 1    SENTENCE/split_00.csv.gz  \n",
       " 2    SENTENCE/split_00.csv.gz  \n",
       " 3    SENTENCE/split_00.csv.gz  \n",
       " 4    SENTENCE/split_00.csv.gz  \n",
       " ..                        ...  \n",
       " 96   SENTENCE/split_00.csv.gz  \n",
       " 97   SENTENCE/split_00.csv.gz  \n",
       " 98   SENTENCE/split_00.csv.gz  \n",
       " 99   SENTENCE/split_00.csv.gz  \n",
       " 100  SENTENCE/split_00.csv.gz  \n",
       " \n",
       " [101 rows x 4 columns],\n",
       "      PREDICATION_AUX_ID label\n",
       " 0              10603322  Fact\n",
       " 1              10603447  Fact\n",
       " 2              10603511  Fact\n",
       " 3              10603623  Fact\n",
       " 4              10603759  Fact\n",
       " ..                  ...   ...\n",
       " 96             10618109  Fact\n",
       " 97             10618137  Fact\n",
       " 98             10618180  Fact\n",
       " 99             10618454  Fact\n",
       " 100            10618585  Fact\n",
       " \n",
       " [101 rows x 2 columns])"
      ]
     },
     "execution_count": 17,
     "metadata": {},
     "output_type": "execute_result"
    }
   ],
   "source": [
    "read_batched_df(1)"
   ]
  },
  {
   "cell_type": "code",
   "execution_count": null,
   "id": "a6939e0c",
   "metadata": {},
   "outputs": [],
   "source": []
  }
 ],
 "metadata": {
  "kernelspec": {
   "display_name": "Python 3 (ipykernel)",
   "language": "python",
   "name": "python3"
  },
  "language_info": {
   "codemirror_mode": {
    "name": "ipython",
    "version": 3
   },
   "file_extension": ".py",
   "mimetype": "text/x-python",
   "name": "python",
   "nbconvert_exporter": "python",
   "pygments_lexer": "ipython3",
   "version": "3.9.16"
  }
 },
 "nbformat": 4,
 "nbformat_minor": 5
}
